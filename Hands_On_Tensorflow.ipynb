{
  "nbformat": 4,
  "nbformat_minor": 0,
  "metadata": {
    "colab": {
      "name": "Hands On Tensorflow",
      "provenance": [],
      "collapsed_sections": [],
      "toc_visible": true,
      "authorship_tag": "ABX9TyMslzq2C68RIf37IAapNyNj"
    },
    "kernelspec": {
      "name": "python3",
      "display_name": "Python 3"
    },
    "language_info": {
      "name": "python"
    }
  },
  "cells": [
    {
      "cell_type": "markdown",
      "metadata": {
        "id": "ZmO0jPGJYoGT"
      },
      "source": [
        "# **Menjadi Powerful dengan Tensorflow - Hands On**\n",
        "> ## Aditya Firman Ihsan\n",
        "[![Github](https://img.shields.io/badge/Visit-My%20Github-black.svg)](https://github.com/phoenixfin) [![contact](https://img.shields.io/badge/Email-Contact-crimson.svg)](mailto:adityaihsan@telkomuniversity.ac.id)\n",
        "\n",
        "---\n",
        "\n",
        "[![contact](https://img.shields.io/badge/TensorFlow%20-%23FF6F00.svg?&style=for-the-badge&logo=TensorFlow&logoColor=white)](https://www.tensorflow.org/)\n",
        "[![Generic badge](https://img.shields.io/badge/Data%20Science-Telkom%20University-red.svg)](https://telkomuniversity.ac.id/)\n",
        "[![License: GPL v3](https://img.shields.io/badge/License-GPLv3-blue.svg)](https://www.gnu.org/licenses/gpl-3.0)\n",
        "[![Open In Collab](https://colab.research.google.com/assets/colab-badge.svg)](https://colab.research.google.com/drive/187F05TJCOX76_THbLGi3UzOIuUJU3p5Q?usp=sharing)"
      ]
    },
    {
      "cell_type": "markdown",
      "metadata": {
        "id": "OKNTkY9USY8K"
      },
      "source": [
        "<img src=\"https://pngimage.net/wp-content/uploads/2018/06/logo-tel-u-png-6.png\" alt=\"drawing\" height=\"100\"/><img src=\"https://miro.medium.com/max/4928/1*-QTg-_71YF0SVshMEaKZ_g.png\" alt=\"drawing\" height=\"100\"/>\n"
      ]
    },
    {
      "cell_type": "markdown",
      "metadata": {
        "id": "5EaHxhpLGyHA"
      },
      "source": [
        "# **﷽**"
      ]
    },
    {
      "cell_type": "markdown",
      "metadata": {
        "id": "_yQukdPyHED4"
      },
      "source": [
        "Dalam notebook ini, akan dipaparkan secara general dari A-Z apa yang bisa dilakukan dengan Tensorflow, beserta beberapa teknik yang ada di dalamnya. Tentu banyak yang tidak tercakup di sini, sehingga bila tertarik untuk belajar lebih dalam terkait Tensorflow bisa langsung ke [dokumentasinya](tensorflow.org) \n"
      ]
    },
    {
      "cell_type": "markdown",
      "metadata": {
        "id": "yinoB5Ne0jr8"
      },
      "source": [
        "## 0. Prepare"
      ]
    },
    {
      "cell_type": "markdown",
      "metadata": {
        "id": "d2E3-oRN03h_"
      },
      "source": [
        "### 0.1. Import Libraries"
      ]
    },
    {
      "cell_type": "markdown",
      "metadata": {
        "id": "Rv6ktB0eJcsI"
      },
      "source": [
        "Mula-mula di impor terlebih dahulu semua *libary* yang dibutuhkan"
      ]
    },
    {
      "cell_type": "code",
      "metadata": {
        "id": "DSYunO3cZ62N"
      },
      "source": [
        "import PIL # untuk mengolah gambar\n",
        "import random # untuk menghasilkan bilangan acak\n",
        "import datetime # untuk mengambil waktu saat ini\n",
        "import numpy as np # untuk kebutuhan numerik\n",
        "import pandas as pd # untuk mengolah data\n",
        "import matplotlib.pyplot as plt # untuk plotting\n",
        "\n",
        "import tensorflow as tf # yang utama nih\n",
        "import tensorflow_hub as hub\n",
        "import tensorflow_datasets as tfds \n",
        "\n",
        "# setup dulu logger dari tf biar tidak terlalu banyak output\n",
        "tf.get_logger().setLevel('ERROR')"
      ],
      "execution_count": null,
      "outputs": []
    },
    {
      "cell_type": "markdown",
      "metadata": {
        "id": "XJQE7tegy5FP"
      },
      "source": [
        "### 0.1. Helper Function"
      ]
    },
    {
      "cell_type": "markdown",
      "metadata": {
        "id": "X8enG3s19wLy"
      },
      "source": [
        "Sebelum mulai, didefinisikan dulu beberapa fungsi bantuan. Tidak perlu paham ini buat apa, nanti ketika ketemu dengan pemanggilannya, baru terlihat."
      ]
    },
    {
      "cell_type": "code",
      "metadata": {
        "id": "6d7hu5oDzFqU"
      },
      "source": [
        "# untuk membagi data berdasarkan rasio\n",
        "def split(x, y, ratio=0.8):\n",
        "    split_index = round(ratio * len(x))\n",
        "    slice1 = x[:split_index], y[:split_index]\n",
        "    slice2 = x[split_index:], y[split_index:]\n",
        "    return slice1, slice2\n",
        "\n",
        "# untuk plotting metrik yang dihasilkan dari training\n",
        "def plot_metrics(history, metrics):\n",
        "    plt.title(\"Model Performance\")\n",
        "    for metric in metrics:\n",
        "        plt.plot(history.history[metric],label=metric)\n",
        "    plt.xlabel(\"Epoch\")\n",
        "    plt.legend()\n",
        "    plt.show()\n",
        "\n",
        "# untuk mengonvers gambar agar siap masuk ke model\n",
        "def prepare_image(img, size, module=None):\n",
        "    img = tf.expand_dims(img, -1)\n",
        "    img = tf.repeat(img, 3, -1)\n",
        "    img = tf.image.resize(img, size)  \n",
        "    if module:\n",
        "        img = module.preprocess_input(img)\n",
        "    return img\n",
        "\n",
        "# untuk menampilkan banyak gambar\n",
        "def show_figures(images, preds, pairs=False):\n",
        "    plt.figure(figsize=(10,5))\n",
        "    if pairs:\n",
        "        images, comp_images = images\n",
        "        for n, img in enumerate(comp_images):\n",
        "            plt.subplot(3,5,5+n+1)\n",
        "            plt.axis('off')\n",
        "            plt.imshow(img)\n",
        "    for n, img in enumerate(images):\n",
        "        plt.subplot(3,5,n+1)\n",
        "        plt.title(f'Prediksi: {preds[n]}')\n",
        "        plt.axis('off')\n",
        "        plt.imshow(img)\n",
        "    plt.suptitle(\"Model predictions\")"
      ],
      "execution_count": null,
      "outputs": []
    },
    {
      "cell_type": "markdown",
      "metadata": {
        "id": "Lxo1PiZC06nN"
      },
      "source": [
        "### 0.2. Import Data"
      ]
    },
    {
      "cell_type": "markdown",
      "metadata": {
        "id": "MYRbFPLYNEwP"
      },
      "source": [
        "Ada 3 data berbeda yang akan digunakan sepanjang notebook ini, yakni data numerik, data gambar, dan data teks. Masing-masing data akan dibagi menjadi triadik *training-validation-test* yang menjadi standar penggunaan data dalam suatu model *Machine Learning*. \n",
        "\n",
        "![](https://www.machinecurve.com/wp-content/uploads/2020/11/feed-3.jpg)"
      ]
    },
    {
      "cell_type": "markdown",
      "metadata": {
        "id": "dfmr3T4jkx8q"
      },
      "source": [
        "#### 0.2.1. Data Numerik (Titanic)"
      ]
    },
    {
      "cell_type": "code",
      "metadata": {
        "id": "sulQBU5U09oH"
      },
      "source": [
        "titanic_file = tf.keras.utils.get_file(\"train.csv\", \"https://storage.googleapis.com/tf-datasets/titanic/train.csv\")\n",
        "titanic_df = pd.read_csv(titanic_file)\n",
        "\n",
        "# lihat dulu sebagian isinya\n",
        "titanic_df.head()"
      ],
      "execution_count": null,
      "outputs": []
    },
    {
      "cell_type": "code",
      "metadata": {
        "id": "atT-lMBjkqYH"
      },
      "source": [
        "list_town = list(titanic_df['embark_town'].unique())\n",
        "list_class = list(titanic_df['class'].unique())\n",
        "\n",
        "# mengubah fitur kategorikal menjadi \"one-hot\"\n",
        "titanic_df[list_town] = pd.get_dummies(titanic_df['embark_town'])\n",
        "titanic_df[list_class] = pd.get_dummies(titanic_df['class'])\n",
        "\n",
        "features = titanic_df[list_town + list_class + ['age']]\n",
        "labels = titanic_df['survived']\n",
        "\n",
        "(x, y), (x_test, y_test) = split(features, labels, 0.9)\n",
        "(x_train, y_train), (x_val, y_val) = split(x, y)\n",
        "\n",
        "# lihat lagi hasilnya seperti apa\n",
        "x_train"
      ],
      "execution_count": null,
      "outputs": []
    },
    {
      "cell_type": "markdown",
      "metadata": {
        "id": "MZ0Q9b9Ak5lq"
      },
      "source": [
        "#### 0.2.2. Data Gambar (Tulisan tangan angka)"
      ]
    },
    {
      "cell_type": "code",
      "metadata": {
        "id": "KkInY-4Pzv19",
        "colab": {
          "base_uri": "https://localhost:8080/",
          "height": 395
        },
        "outputId": "ce124e87-0160-48a7-f88b-0c95165c0bd0"
      },
      "source": [
        "(img_train, lab_train), (img_test, lab_test) = tf.keras.datasets.mnist.load_data()\n",
        "img_train = img_train / 255.0\n",
        "img_test = img_test / 255.0\n",
        "\n",
        "(img_train, lab_train), (img_val, lab_val) = split(img_train, lab_train)\n",
        "\n",
        "# overview datanya seperti apa\n",
        "print('Jumlah Data Training: ', len(img_train))\n",
        "print('Jumlah Data Validasi: ', len(img_val))\n",
        "print('Jumlah Data Test: ', len(img_test))\n",
        "print(\"Dimensi setiap data (h x w pixels): \", img_train[0].shape)\n",
        "\n",
        "# ambil sampel acak. Coba saja jalankan berkali-kali, hasilnya berbeda\n",
        "index = random.randint(0,len(img_train))\n",
        "print(\"\\nContoh gambar:\")\n",
        "plt.title(f'Gambar digit {lab_train[index]}')\n",
        "plt.imshow(img_train[index])"
      ],
      "execution_count": 123,
      "outputs": [
        {
          "output_type": "stream",
          "text": [
            "Jumlah Data Training:  48000\n",
            "Jumlah Data Validasi:  12000\n",
            "Jumlah Data Test:  10000\n",
            "Dimensi setiap data (h x w pixels):  (28, 28)\n",
            "\n",
            "Contoh gambar:\n"
          ],
          "name": "stdout"
        },
        {
          "output_type": "execute_result",
          "data": {
            "text/plain": [
              "<matplotlib.image.AxesImage at 0x7f67bf6b3050>"
            ]
          },
          "metadata": {
            "tags": []
          },
          "execution_count": 123
        },
        {
          "output_type": "display_data",
          "data": {
            "image/png": "[encoded data removed]",
            "text/plain": [
              "<Figure size 432x288 with 1 Axes>"
            ]
          },
          "metadata": {
            "tags": [],
            "needs_background": "light"
          }
        }
      ]
    },
    {
      "cell_type": "markdown",
      "metadata": {
        "id": "wHppV4Z7qp5L"
      },
      "source": [
        "#### 0.2.3. Data Text (Judul berita)"
      ]
    },
    {
      "cell_type": "code",
      "metadata": {
        "id": "xgOQINOmhOq7"
      },
      "source": [
        "text_file = tf.keras.utils.get_file(\"sarcasm.json\", \"https://storage.googleapis.com/laurencemoroney-blog.appspot.com/sarcasm.json\")\n",
        "data = pd.read_json(text_file)\n",
        "data.head()"
      ],
      "execution_count": null,
      "outputs": []
    },
    {
      "cell_type": "code",
      "metadata": {
        "id": "0fqpzEyRqDtI"
      },
      "source": [
        "sentences = data['headline']\n",
        "classes = data['is_sarcastic']\n",
        "\n",
        "# membagi data menjadi triad train-val-test\n",
        "(snt_train, cls_train), (snt_test, cls_test) = split(sentences, classes)\n",
        "(snt_train, cls_train), (snt_val, cls_val) = split(snt_train, cls_train)\n",
        "\n",
        "# dicek dulu sebagian hasilnya\n",
        "for i in range(5):\n",
        "  lab = \"Sarkas!\" if cls_train[i] == 1 else \"Netral\"\n",
        "  print(f'\"{snt_train[i]}\" -- {lab}')"
      ],
      "execution_count": null,
      "outputs": []
    },
    {
      "cell_type": "markdown",
      "metadata": {
        "id": "nvVIN7w0wSvT"
      },
      "source": [
        "Setelah ini, akan dilakukan beberapa proses pembuatan model sederhana dengan berbagai API yang berbeda. Tensorflow kurang lebih memiliki fleksibilitas dalam penggunaannya sperti berikut\n",
        "\n",
        "![](https://github.com/phoenixfin/deeplearning-notebooks/blob/main/fleksibilitas_tf.png?raw=true)"
      ]
    },
    {
      "cell_type": "markdown",
      "metadata": {
        "id": "kzKT9uJxZQsO"
      },
      "source": [
        "## 1. High Level API\n"
      ]
    },
    {
      "cell_type": "markdown",
      "metadata": {
        "id": "uPuGCn_eOMtQ"
      },
      "source": [
        "Dalam High-Level API, kita hanya melihat bungkusnya Tensorflow saja, yang sudah siap pakai dan tinggal disesuaikan dengan kebutuhan"
      ]
    },
    {
      "cell_type": "markdown",
      "metadata": {
        "id": "e8NCAhaeZzyt"
      },
      "source": [
        "### 1.2. Estimators"
      ]
    },
    {
      "cell_type": "markdown",
      "metadata": {
        "id": "kaxjFmmYOdVj"
      },
      "source": [
        "![](https://codespeedy.com/wp-content/uploads/2020/06/Schematic-diagram-of-an-estimator.png)\n",
        "\n",
        "Estimator merupakan model yang sudah dibundel sehingga pengguna hanya cukup menyediakan fungsi input dan data, dan selebihnya semua tinggal jalan."
      ]
    },
    {
      "cell_type": "code",
      "metadata": {
        "id": "7fl_C5d6hEl3"
      },
      "source": [
        "# menyiapkan fungsi input. Dalam hal ini, tf.data API digunakan\n",
        "def train_input_fn():\n",
        "  titanic = tf.data.experimental.make_csv_dataset(\n",
        "      titanic_file, batch_size=32,\n",
        "      label_name=\"survived\")\n",
        "  titanic_batches = (\n",
        "      titanic.cache().repeat().shuffle(500)\n",
        "      .prefetch(tf.data.AUTOTUNE))\n",
        "  return titanic_batches\n",
        "\n",
        "# melihat 1 batch data isinya apa\n",
        "for data in train_input_fn().take(1):\n",
        "  for key in data[0]:\n",
        "    print(\"=>\", key)\n",
        "    print(data[0][key].numpy(),'\\n')"
      ],
      "execution_count": null,
      "outputs": []
    },
    {
      "cell_type": "code",
      "metadata": {
        "id": "CDOx6lZVoVB8"
      },
      "source": [
        "# mendefinisikan fitur-fitur yang akan dilibatkan di model\n",
        "age = tf.feature_column.numeric_column('age')\n",
        "cls = tf.feature_column.categorical_column_with_vocabulary_list('class', ['First', 'Second', 'Third']) \n",
        "embark = tf.feature_column.categorical_column_with_hash_bucket('embark_town', 32)\n",
        "\n",
        "# definisikan  modelnya\n",
        "model = tf.estimator.LinearClassifier(    \n",
        "    model_dir = './estimator_logs',\n",
        "    feature_columns=[embark, cls, age],\n",
        "    n_classes=2\n",
        ")"
      ],
      "execution_count": null,
      "outputs": []
    },
    {
      "cell_type": "code",
      "metadata": {
        "id": "iGaJKkmVBgo2"
      },
      "source": [
        "model = model.train(input_fn=train_input_fn, steps=100)\n",
        "result = model.evaluate(train_input_fn, steps=10)\n",
        "\n",
        "for key, value in result.items():\n",
        "  print(key, \":\", value)"
      ],
      "execution_count": null,
      "outputs": []
    },
    {
      "cell_type": "code",
      "metadata": {
        "id": "CPLD8n4CLVi_"
      },
      "source": [
        "for pred in model.predict(train_input_fn):\n",
        "  for key, value in pred.items():\n",
        "    print(key, \":\", value)\n",
        "  break"
      ],
      "execution_count": null,
      "outputs": []
    },
    {
      "cell_type": "markdown",
      "metadata": {
        "id": "zE7xEXSdesNw"
      },
      "source": [
        "### 1.2. Keras Sequential"
      ]
    },
    {
      "cell_type": "markdown",
      "metadata": {
        "id": "eWhmSFTPQva0"
      },
      "source": [
        "![](https://miro.medium.com/max/394/1*CNPWTqFeMeCFkLOWjJU9Vg.jpeg)\n",
        "\n",
        "Keras Sequential API digunakan untuk membangun model secara sederhana dengan cukup membuat daftar layer yang digunakan. Cara membangun modelnya ada dua:\n",
        "1. Dengan memasukkan langsung daftar layer sebagai argumen ketika membuat model. Sintaksnya adalah sebagai berikut \n",
        "```\n",
        "model = tf.keras.Sequential(layers_list)\n",
        "``` \n",
        "dengan `layers_list` merupakan daftar layers yang digunakan secara berurutan.\n",
        "\n",
        "2. Bisa juga dengan menambahkan layer satu per satu belakangan. Jadi kita definisikan dulu modelnya tanpa argumen\n",
        "```\n",
        "model = tf.keras.Sequential()\n",
        "``` \n",
        "dan kemudian, kita gunakan metode `add` seperti berikut\n",
        "```\n",
        "model.add(layer1)\n",
        "model.add(layer2)\n",
        "``` \n",
        "\n"
      ]
    },
    {
      "cell_type": "markdown",
      "metadata": {
        "id": "dkBe5RDHv8nI"
      },
      "source": [
        "#### 1.2.1. Implementasi"
      ]
    },
    {
      "cell_type": "markdown",
      "metadata": {
        "id": "CVt6IMP7luX0"
      },
      "source": [
        "##### a. Regresi"
      ]
    },
    {
      "cell_type": "markdown",
      "metadata": {
        "id": "RZXO0ag2RUf-"
      },
      "source": [
        "Kita mulai dari data yang sederhana dulu. Dalam hal ini, dibangun data linier yang diberi gangguan "
      ]
    },
    {
      "cell_type": "code",
      "metadata": {
        "id": "R8pR_ik5RJgI"
      },
      "source": [
        "x = np.arange(10)\n",
        "y_true = 3.21*x + 1.4\n",
        "y_noise = y_true + tf.random.uniform((10,), minval=-10., maxval=10.)\n",
        "plt.plot(x,y_noise, 'o')"
      ],
      "execution_count": null,
      "outputs": []
    },
    {
      "cell_type": "markdown",
      "metadata": {
        "id": "y3OQYUSnSeZ8"
      },
      "source": [
        "Selanjutnya, kita definisikan modelnya, cukup sebuah neural network dengan 1 layer output atau dikenal juga sebagai *Perceptron*\n",
        "\n",
        "![](https://miro.medium.com/max/645/1*YPguig_eDkgWi5cgvWiUBg.png)"
      ]
    },
    {
      "cell_type": "code",
      "metadata": {
        "id": "w9BPMTmQg42R"
      },
      "source": [
        "model = tf.keras.Sequential([tf.keras.layers.Dense(1)])\n",
        "model.compile(optimizer='sgd', loss='mse', metrics=['mse'])\n",
        "model.fit(x,y_noise, epochs=10)\n",
        "\n",
        "y_pred = model.predict(x)\n",
        "plt.plot(x,y_noise, 'o')\n",
        "plt.plot(x, y_pred)"
      ],
      "execution_count": null,
      "outputs": []
    },
    {
      "cell_type": "markdown",
      "metadata": {
        "id": "lgS0jqN4R6kF"
      },
      "source": [
        "Sederhana bukan? Setelah ini kita coba lebih rumit dengan melaukan klasifikasi pada 3 data berbeda yang telah disiapkan sebelumnya"
      ]
    },
    {
      "cell_type": "markdown",
      "metadata": {
        "id": "S27pg5A3pa-S"
      },
      "source": [
        "##### b. Klasifikasi (Numerik)"
      ]
    },
    {
      "cell_type": "markdown",
      "metadata": {
        "id": "E90DCmL8S5sF"
      },
      "source": [
        "Langsung kita definisikan saja modelnya karena datanya sudah siap. Dalam hal ini, berhubung korelasi datanya belum tentu linier, kita gunakan neural network dengan 2 layer tersembunyi (disebut juga *Multi-Layer Perceptron*) dan fungsi \"aktivasi\" ReLU untuk memberi dia nonlinearitas\n",
        "\n",
        "![](https://raw.githubusercontent.com/ledell/sldm4-h2o/master/mlp_network.png)"
      ]
    },
    {
      "cell_type": "code",
      "metadata": {
        "id": "AUmxSwHUl7bo"
      },
      "source": [
        "model = tf.keras.Sequential([\n",
        "        tf.keras.layers.Dense(8, activation='relu'),\n",
        "        tf.keras.layers.Dense(8, activation='relu'),\n",
        "        tf.keras.layers.Dense(1, activation='sigmoid')])\n",
        "model.compile(optimizer='adam', loss='binary_crossentropy', metrics=['accuracy'])\n",
        "hist = model.fit(x_train, y_train, epochs=100, validation_data=(x_val, y_val))"
      ],
      "execution_count": null,
      "outputs": []
    },
    {
      "cell_type": "code",
      "metadata": {
        "id": "mdbUkd_xxhzV"
      },
      "source": [
        "test_loss, test_acc = model.evaluate(x_test, y_test)\n",
        "print(\"=== Performance on Test Data: ===\")\n",
        "print(\"Loss:\", test_loss)\n",
        "print(\"Accuracy:\", test_acc, \"\\n\")\n",
        "\n",
        "plot_metrics(hist, ['accuracy'])\n",
        "\n",
        "print(\"\\n=== Some Test Samples: ===\")\n",
        "samples = random.sample(list(x_test.index), 5)\n",
        "preds = model.predict(x_test.loc[samples]) >= 0.5\n",
        "for i, idx in enumerate(samples):\n",
        "    print(\"Truth:\", y_test.loc[idx], \"| Predicted:\", int(preds[i]))"
      ],
      "execution_count": null,
      "outputs": []
    },
    {
      "cell_type": "markdown",
      "metadata": {
        "id": "x13dLK16lzdU"
      },
      "source": [
        "##### c. Klasifikasi (Gambar)"
      ]
    },
    {
      "cell_type": "markdown",
      "metadata": {
        "id": "SmnwdevAZ381"
      },
      "source": [
        "Model yang akan digunakan masih berupa *Multi-Layer Perceptron*. Kali ini layer output diberi aktivasi *softmax* untuk mendapatkan probabilitas dari 10 kelas."
      ]
    },
    {
      "cell_type": "code",
      "metadata": {
        "id": "skqORzvE3Egy"
      },
      "source": [
        "model = tf.keras.models.Sequential([\n",
        "    tf.keras.layers.Flatten(input_shape=(28, 28)),\n",
        "    tf.keras.layers.Dense(32, activation='relu'),\n",
        "    tf.keras.layers.Dense(10, activation='softmax')\n",
        "])\n",
        "\n",
        "model.compile(optimizer = 'adam', loss = 'sparse_categorical_crossentropy', metrics=['accuracy'])\n",
        "hist = model.fit(img_train, lab_train, batch_size=64, epochs=5)"
      ],
      "execution_count": null,
      "outputs": []
    },
    {
      "cell_type": "code",
      "metadata": {
        "id": "cBwdTJ4VzPup"
      },
      "source": [
        "test_loss, test_acc = model.evaluate(img_test, lab_test)\n",
        "print(\"=== Performance on Test Data: ===\")\n",
        "print(\"Loss:\", test_loss)\n",
        "print(\"Accuracy:\", test_acc, \"\\n\")\n",
        "\n",
        "plot_metrics(hist, ['accuracy'])\n",
        "\n",
        "print(\"\\n=== Some Test Samples: ===\")\n",
        "samples = random.sample(img_test.tolist(), 5)\n",
        "preds = np.argmax(model.predict(samples),axis=1)\n",
        "show_figures(samples, preds)"
      ],
      "execution_count": null,
      "outputs": []
    },
    {
      "cell_type": "markdown",
      "metadata": {
        "id": "T6_rBKYLdL9k"
      },
      "source": [
        "Kita juga bisa membuat model berbentuk konvolusional. Arsitektur model yang dikenal juga sebagai CNN (Convolutional Neural Network) ini, menggunakan filter untuk mendapatkan informasi yang lebih dalam dari suatu gambar. Filter ini kemudian menjadi parameter yang dioptimisasi selama training.\n",
        "\n",
        "Suatu layer konvolusional di CNN biasanya diikuti dengan layer untuk *downsampling* (memperkecil resolusi dari suatu gambar) dengan tujuan untuk memperingan serta untuk mendapatkan informasi yang lebih abstrak pada layer berikutnya. Layer downsampling yang umum digunakan adalah Maximum Pooling, yakni mengambil piksel maksimum dari suatu set piksel, sehingga ukuran mengecil tanpa kehilangan informasi terlalu banyak.\n",
        "\n",
        "Gambaran arsitektur CNN kurang lebih seperti berikut\n",
        "![](https://miro.medium.com/proxy/1*uAeANQIOQPqWZnnuH-VEyw.jpeg)"
      ]
    },
    {
      "cell_type": "markdown",
      "metadata": {
        "id": "HEIRsxmHegg-"
      },
      "source": [
        "Pada gambar di atas, digunakan dua pasang layer konvolusional-pooling sebelum kemudian diratakan ke dense network. Untuk sekarang, kita coba bangun arsitektur yang lebih sederhana dengan cukup 1 pasang konvolusional-pooling."
      ]
    },
    {
      "cell_type": "code",
      "metadata": {
        "id": "qiwVNmHteRoQ"
      },
      "source": [
        "model = tf.keras.models.Sequential([\n",
        "    tf.keras.layers.Reshape((28, 28, 1)),\n",
        "    tf.keras.layers.Conv2D(16, (3, 3), activation='relu'),\n",
        "    tf.keras.layers.MaxPooling2D(2, 2),\n",
        "    tf.keras.layers.Flatten(),\n",
        "    tf.keras.layers.Dense(64, activation='relu'),\n",
        "    tf.keras.layers.Dense(10, activation='softmax')\n",
        "])\n",
        "model.compile(optimizer='sgd', loss='sparse_categorical_crossentropy', metrics=['accuracy'])\n",
        "hist = model.fit(img_train, lab_train, batch_size=64, epochs=5)\n",
        "plot_metrics(hist, ['accuracy'])"
      ],
      "execution_count": null,
      "outputs": []
    },
    {
      "cell_type": "markdown",
      "metadata": {
        "id": "9UJZjpx0fWiC"
      },
      "source": [
        "Performanya tidak jauh berbeda dengan model dense network biasa. Hal ini dikarenakan memang data yang digunakan relatif kecil dan tidaklah kompleks. CNN akan terasa manfaatnya untuk klasifikasi atau proses training gambar yang lebih rumit."
      ]
    },
    {
      "cell_type": "markdown",
      "metadata": {
        "id": "SBh1Axqc1ob9"
      },
      "source": [
        "##### c. Klasifikasi (Text)"
      ]
    },
    {
      "cell_type": "markdown",
      "metadata": {
        "id": "VJWFuRk6VuGZ"
      },
      "source": [
        "Khusus untuk data text, kita perlu kuantifikasi data tersebut agar bisa masuk ke model. Ada dua tahap untuk melakukan ini:\n",
        "- **Tokenisasi**, artnya mengonversi 1 kalimat utuh menjadi bagian-bagian yang diinginkan (biasanya per kata) dimana setiap bagian itu diwakilkan 1 token.\n",
        "- ***Embedding***, artinya memroyeksikan setiap token ke suatu vektor (array) n-dimensi agar bisa merepresentasikan posisi kata tersebut dan relasinya dengan kata lainnya.\n",
        "\n",
        "![](https://freecontent.manning.com/wp-content/uploads/Chollet_DLfT_01.png)\n"
      ]
    },
    {
      "cell_type": "code",
      "metadata": {
        "id": "XGKycKugd6Kz"
      },
      "source": [
        "prep = tf.keras.preprocessing\n",
        "\n",
        "# definisikan dulu pembuat tokennya\n",
        "tokenizer = prep.text.Tokenizer(num_words=1000, oov_token='<OOV>')\n",
        "# agar kemudian bisa disesuaikan dengan data trainng\n",
        "tokenizer.fit_on_texts(snt_train)\n",
        "\n",
        "seq_train = tokenizer.texts_to_sequences(snt_train)\n",
        "seq_val = tokenizer.texts_to_sequences(snt_val)\n",
        "seq_test = tokenizer.texts_to_sequences(snt_test)\n",
        "\n",
        "# kita lihat hasil tokennnya seperti apa\n",
        "seq_train[:5]"
      ],
      "execution_count": null,
      "outputs": []
    },
    {
      "cell_type": "code",
      "metadata": {
        "id": "h7PYivHLrf4m"
      },
      "source": [
        "# kita lakukan hal yang sama setiap data (train-val-test)\n",
        "pad_train = prep.sequence.pad_sequences(seq_train, maxlen=50, padding='post', truncating='post')\n",
        "pad_val = prep.sequence.pad_sequences(seq_val, maxlen=50, padding='post', truncating='post')\n",
        "pad_test = prep.sequence.pad_sequences(seq_test, maxlen=50, padding='post', truncating='post')\n",
        "\n",
        "pad_train[:5]"
      ],
      "execution_count": null,
      "outputs": []
    },
    {
      "cell_type": "markdown",
      "metadata": {
        "id": "1v870567X0UT"
      },
      "source": [
        "Model yang akan dipakai adalah model RNN (*Recurrent Neural Network*) dengan cell LSTM (*Long Short-Term Memory*) yang *Bidirectional*. Berhubung di luar bahasan dan tidak sederhana, maka tidak akan dibahas secara detail di sini.\n",
        "\n",
        "![](https://paperswithcode.com/media/methods/Screen_Shot_2020-05-25_at_8.54.27_PM.png)"
      ]
    },
    {
      "cell_type": "code",
      "metadata": {
        "id": "-t0ibNdNq48J"
      },
      "source": [
        "# layer pertama dari model merupakan layer untuk melakukan proses embedding\n",
        "# dari token yang sudah dibuat. Angka 1000 di sini berarti jumlah token yang digunakan\n",
        "# dan 16 berarti dimensi vektor hasil embedding yang digunakan\n",
        "model = tf.keras.Sequential([\n",
        "    tf.keras.layers.Embedding(1000, 16, input_length=50),\n",
        "    tf.keras.layers.Bidirectional(tf.keras.layers.LSTM(32)),\n",
        "    tf.keras.layers.Dense(24, activation='relu'),\n",
        "    tf.keras.layers.Dense(1, activation='sigmoid')\n",
        "])\n",
        "model.compile(optimizer='adam', loss='binary_crossentropy', metrics=['accuracy'])\n",
        "hist = model.fit(pad_train, cls_train, epochs=5, validation_data=(pad_val, cls_val))"
      ],
      "execution_count": null,
      "outputs": []
    },
    {
      "cell_type": "code",
      "metadata": {
        "id": "g8lVTiK20i-z"
      },
      "source": [
        "test_loss, test_acc = model.evaluate(pad_test, cls_test)\n",
        "print(\"=== Performance on Test Data: ===\")\n",
        "print(\"Loss:\", test_loss)\n",
        "print(\"Accuracy:\", test_acc, \"\\n\")\n",
        "\n",
        "plot_metrics(hist, ['accuracy'])\n",
        "\n",
        "print(\"\\n=== Some Test Samples: ===\")\n",
        "samples_idx = random.sample(range(len(pad_test)), 5)\n",
        "pad_samples = pad_test[samples_idx]\n",
        "preds = model.predict(pad_samples) >= 0.5\n",
        "for i, idx in enumerate(samples_idx):\n",
        "    pred_lab = \"Sarkas!\" if preds[i] else \"Netral\"\n",
        "    true_lab = \"Sarkas!\" if cls_test.iloc[idx] else \"Netral\"\n",
        "    print(f'[Pred: {pred_lab}; Truth: {true_lab}] \"{snt_test.iloc[idx]}\"')"
      ],
      "execution_count": null,
      "outputs": []
    },
    {
      "cell_type": "markdown",
      "metadata": {
        "id": "n6Ii8ah1wPwR"
      },
      "source": [
        "#### 1.2.2. Beberapa fitur"
      ]
    },
    {
      "cell_type": "markdown",
      "metadata": {
        "id": "YflQfzyhmNzN"
      },
      "source": [
        "##### a. Summary dan Plot"
      ]
    },
    {
      "cell_type": "markdown",
      "metadata": {
        "id": "h0wAcKBuspRy"
      },
      "source": [
        "Untuk melihat secara ringkas data arsitektur model yang sudah dibangun, kita bisa gunakan metode `.summary`. Misalkan, untuk model RNN yang sudah dibangun sebelumnya kita punya summary seperti berikut."
      ]
    },
    {
      "cell_type": "code",
      "metadata": {
        "id": "p7j-tJiJhgp2"
      },
      "source": [
        "model.summary()"
      ],
      "execution_count": null,
      "outputs": []
    },
    {
      "cell_type": "markdown",
      "metadata": {
        "id": "O4q0xE1Ahn3C"
      },
      "source": [
        "Terlihat ada 4 informasi untuk setiap layer, yakni nama layernya, tipe layer, bentuk output, dan parameter yang ada di layer tersebut. Hal ini akan memberikan gambaran pada kita bagaimana informasi terpropagasikan sepanjang model, dan juga memberi gambaran seberapa berat model yang kita miliki dari parameter yang dimilikinya. Semakin banyak parameter, semakin berat proses training. "
      ]
    },
    {
      "cell_type": "markdown",
      "metadata": {
        "id": "5wFRMhx9h-LW"
      },
      "source": [
        "Kita juga bisa melihat arsitektur model secara visual dengan fungsi `plot_model` dari module `tf.keras.utils`. "
      ]
    },
    {
      "cell_type": "code",
      "metadata": {
        "id": "jva574WSiD5m"
      },
      "source": [
        "tf.keras.utils.plot_model(model)"
      ],
      "execution_count": null,
      "outputs": []
    },
    {
      "cell_type": "markdown",
      "metadata": {
        "id": "WiAaccDTiM-q"
      },
      "source": [
        "Terlihat bagaimana bentuk model dari input sampai output. Terlihat juga bagaimana model sequential memang model yang \"lurus\". Di gambar di atas, hanya terlihat nama dan tipe layernya, jika ingin lebih lengkap, kita bsa tambahkan beberapa argumen."
      ]
    },
    {
      "cell_type": "code",
      "metadata": {
        "id": "3-A2LmPWiL6v"
      },
      "source": [
        "tf.keras.utils.plot_model(\n",
        "    model, \n",
        "    to_file='model.png', # jika gambarnya mau disimapn \n",
        "    show_shapes=True,  #perlihatkan bentuk input dan outputnya\n",
        "    show_dtype=True, # perlihatkan tipe datanya \n",
        "    rankdir='LR' # mau horizontal/left-right (LR) atau vertikal/top-bottom (TB)\n",
        ")"
      ],
      "execution_count": null,
      "outputs": []
    },
    {
      "cell_type": "markdown",
      "metadata": {
        "id": "GfAFoiGdmMLv"
      },
      "source": [
        "##### b. Save Model"
      ]
    },
    {
      "cell_type": "markdown",
      "metadata": {
        "id": "DrEK6CGSmcZz"
      },
      "source": [
        "Model yang sudah didefinisikan, belum maupun sudah ditraining, dapat disimpan ke format default TF SavedModel (`.pb`) atau ke format yang lebih umum yakni HDF5 (`.h5`). Model ini kemudian bisa dimuat dan dilatih lagi di tempat lain ataupun di-deploy sesuai kebutuhan. "
      ]
    },
    {
      "cell_type": "code",
      "metadata": {
        "id": "hHJPfCBSjFLp"
      },
      "source": [
        "model.save('./sarcasm_detector.h5')"
      ],
      "execution_count": null,
      "outputs": []
    },
    {
      "cell_type": "markdown",
      "metadata": {
        "id": "DS_S3bvejNNf"
      },
      "source": [
        "Untuk memuat kembali modelnya, cukup gunakan metode `load_model` seperti berikut"
      ]
    },
    {
      "cell_type": "code",
      "metadata": {
        "id": "XruMRb-LjhfF"
      },
      "source": [
        "loaded = tf.keras.models.load_model('./sarcasm_detector.h5')\n",
        "loaded.summary()"
      ],
      "execution_count": null,
      "outputs": []
    },
    {
      "cell_type": "markdown",
      "metadata": {
        "id": "CfFMZSfijzc-"
      },
      "source": [
        "## 2. Middle Level API"
      ]
    },
    {
      "cell_type": "markdown",
      "metadata": {
        "id": "3tW3KB_ceBDx"
      },
      "source": [
        "Di level pertengahan, Tensorflow dapat digunakan dengan beberapa penyesuaian namun tetap terbungkus dengan baik dengan fitur-fitur lainnya. "
      ]
    },
    {
      "cell_type": "markdown",
      "metadata": {
        "id": "4t_TZiSBAdoE"
      },
      "source": [
        "### 2.3. Custom Components"
      ]
    },
    {
      "cell_type": "markdown",
      "metadata": {
        "id": "_gqjZFFzeQNM"
      },
      "source": [
        "Sudah terlihat sebelumnya bahwa ketika mendefinisikan dan mengimpilasi model *deep learning* di Tensorflow paling tidak terdapat 4 komponen yang bisa dipilih-pilih oleh user: *layer*, fungsi *loss*, *optimizer*, *metric*.\n",
        "\n",
        "Jika sebelumnya keempat komponen ini kita pakai langsung dari yang sudah disediakan oleh Tensorflow (dan Keras), dalam API yang lebih rendah, kita bisa membuat sendiri komponen yang kita inginkan menyesuaikan kebutuhan.\n",
        "\n",
        "![](https://raw.githubusercontent.com/phoenixfin/deeplearning-notebooks/main/model_components.png)\n",
        "\n",
        "Dari 4 komponen itu, akan dibahas 2 komponen yang paling sering diubah-ubah. Untuk optimizer dan metrik, biasanya user sudah merasa cukup dengan yang sudah ada.\n",
        "\n",
        "> NB: diasumsikan harus sudah paham konsep *Object-Oriented Programming*"
      ]
    },
    {
      "cell_type": "markdown",
      "metadata": {
        "id": "o54e4-7CAggU"
      },
      "source": [
        "#### 2.3.1. Custom Layers"
      ]
    },
    {
      "cell_type": "markdown",
      "metadata": {
        "id": "PlYY_6DofRH6"
      },
      "source": [
        "Format dasar dari kelas Layer yang turun dari Tensorflow Keras adalah\n",
        "\n",
        "```\n",
        "class NamaLayer(tf.keras.layers.Layer):\n",
        "    def __init__(self, *args, **kwargs):\n",
        "        # di sini definisikan semua atribut yang akan digunakan\n",
        "\n",
        "    def build(self, input_shape):\n",
        "        # di sini inisialisasikan semua parameter yang terdapat\n",
        "        # di dalam layer dengan menyesuaikan bentuk input (input_shape)\n",
        "    \n",
        "    def call(self, inputs):\n",
        "        # di sini ditentukan apa yang dilakukan oleh layer ini jika\n",
        "        # dipanggil dengan suatu input\n",
        "```\n",
        "\n",
        "Pada kali ini, kita akan coba membangun ulang layer *Dense* yang  merupakan layer standar *Multi-Layer Perceptron*\n"
      ]
    },
    {
      "cell_type": "code",
      "metadata": {
        "id": "jnVrzRT6BPWl"
      },
      "source": [
        "class CustomDense(tf.keras.layers.Layer):\n",
        "    def __init__(self, units=32, activation=None):\n",
        "        super().__init__()\n",
        "        # units akan menentukan bentuk dari parameter W\n",
        "        self.units = units\n",
        "        \n",
        "        self.activation = tf.keras.activations.get(activation)\n",
        "\n",
        "    def build(self, input_shape):\n",
        "        # setiap layer dense punya parameter W dan b\n",
        "        w_initializer = tf.random_normal_initializer()\n",
        "        w_init = w_initializer(shape = (input_shape[-1], self.units), \n",
        "                               dtype = 'float32')\n",
        "        b_initializer = tf.zeros_initializer()\n",
        "        b_init = b_initializer(shape=(self.units,), \n",
        "                               dtype='float32')\n",
        "        self.w = tf.Variable(w_init, name = \"kernel\", trainable=True)\n",
        "        self.b = tf.Variable(b_init, name = \"bias\", trainable=True)\n",
        "        super().build(input_shape)\n",
        "\n",
        "    def call(self, inputs):\n",
        "        # ketika input masuk ke layer ini, maka dilakukan perhitungan linear\n",
        "        # dengan W dan b, serta diaktivasi dengan fungsi yang didefinisikan sebelumnya\n",
        "        return self.activation(tf.matmul(inputs, self.w) + self.b)"
      ],
      "execution_count": null,
      "outputs": []
    },
    {
      "cell_type": "markdown",
      "metadata": {
        "id": "bEOL2A_8hX4J"
      },
      "source": [
        "Saatnya layer ini digunakan langsung di model."
      ]
    },
    {
      "cell_type": "code",
      "metadata": {
        "id": "WwTPJT4DkTyW"
      },
      "source": [
        "# bangun model persis seperti sebelumnya namun menggunakan layer Dense yang baru\n",
        "model = tf.keras.models.Sequential([\n",
        "    tf.keras.layers.Flatten(input_shape=(28, 28)),\n",
        "    CustomDense(32, activation='relu'),\n",
        "    tf.keras.layers.Dense(10, activation='softmax')\n",
        "])\n",
        "\n",
        "model.compile(optimizer='adam', loss='sparse_categorical_crossentropy', metrics=['accuracy'])\n",
        "\n",
        "model.fit(img_train, lab_train, epochs=5)\n",
        "\n",
        "print(\"\\nEvaluate...\")\n",
        "model.evaluate(img_val, lab_val)"
      ],
      "execution_count": null,
      "outputs": []
    },
    {
      "cell_type": "markdown",
      "metadata": {
        "id": "E7ANN4ptFUR8"
      },
      "source": [
        "#### 2.3.2. Custom Loss"
      ]
    },
    {
      "cell_type": "markdown",
      "metadata": {
        "id": "OT3rsXxTiY5I"
      },
      "source": [
        "Fungsi *loss* bisa didefinisikan dengan dua cara:\n",
        "- *Fungsi*. Dalam hal ini, fungsi yang didefinisikan harus hanya mendapat input *y_true* (output yang benar) dan *y_pred* (output prediksi). Jika ada parameter lain, maka fungsi yang didefinisikan cukup berperan sebagai *wrapper* untuk fungsi yang sesungguhnya.\n",
        "- *Kelas*. Minimal harus mengandung metode `call` yang mendapat input *y_true* dan *y_pred*. Jika ada parameter tambahan, bisa disesuaikan di konstruktor (`__init__`)"
      ]
    },
    {
      "cell_type": "code",
      "metadata": {
        "id": "FvRZpxk2tGn6"
      },
      "source": [
        "# versi fungsi\n",
        "def huber_loss_function(threshold):\n",
        "    def huber_loss(y_true, y_pred):\n",
        "        error = y_true - y_pred\n",
        "        is_small_error = tf.abs(error) <= threshold\n",
        "        small_error_loss = tf.square(error) / 2\n",
        "        big_error_loss = threshold * (tf.abs(error) - (0.5 * threshold))        \n",
        "        return tf.where(is_small_error, small_error_loss, big_error_loss) \n",
        "    # fungsi yang diluar mengembalikan fungsi yang sebenarnya, yang mengambil \n",
        "    # input y_true dan y_pred \n",
        "    return huber_loss\n",
        "\n",
        "# versi kelas\n",
        "class HuberLossClass(tf.keras.losses.Loss):\n",
        "    def __init__(self, threshold=1):\n",
        "        super().__init__()\n",
        "        self.threshold = threshold\n",
        "        \n",
        "    def call(self, y_true, y_pred):\n",
        "        error = y_true - y_pred\n",
        "        is_small_error = tf.abs(error) <= self.threshold\n",
        "        small_error_loss = tf.square(error) / 2\n",
        "        big_error_loss = self.threshold * (tf.abs(error) - (0.5 * self.threshold))\n",
        "        return tf.where(is_small_error, small_error_loss, big_error_loss)"
      ],
      "execution_count": null,
      "outputs": []
    },
    {
      "cell_type": "code",
      "metadata": {
        "id": "K7rgmb5qH5QX"
      },
      "source": [
        "model = tf.keras.Sequential([tf.keras.layers.Dense(units=1, input_shape=[1])])\n",
        "\n",
        "# silakan pilih akan gunakan versi fungsi / kelas\n",
        "model.compile(optimizer='sgd', loss = huber_loss_function(threshold=1.2))\n",
        "# model.compile(optimizer='sgd', loss = HuberLossClass(threshold=1.2))\n",
        "\n",
        "x = np.arange(10)\n",
        "y_true = 3.21*x + 1.4\n",
        "y_noise = y_true + tf.random.uniform((10,), minval=-10., maxval=10.)\n",
        "model.fit(x, y_noise, epochs=100)\n",
        "y_pred = model.predict(x)\n",
        "plt.plot(x, y_noise, 'o')\n",
        "plt.plot(x, y_pred)"
      ],
      "execution_count": null,
      "outputs": []
    },
    {
      "cell_type": "markdown",
      "metadata": {
        "id": "8gu_W-6WGGSx"
      },
      "source": [
        "#### 2.3.3. Callback "
      ]
    },
    {
      "cell_type": "markdown",
      "metadata": {
        "id": "S6Wi3wn8tzQG"
      },
      "source": [
        "*Callback* sederhananya merupakan aktivitas yang dilakukan di tengah-tengah proses training. *Callback* dimasukkan sebagai argumen ketika memanggil metode `fit` dari model. Ada beragam bentuk callback, dimana sebagian di antarnaya akan dibahas sebagian di sini.\n",
        "\n",
        "Sebelumnya, kita definisikan dulu pembangun model sederhana "
      ]
    },
    {
      "cell_type": "code",
      "metadata": {
        "id": "iDBpWvHXCh2A"
      },
      "source": [
        "def build_model():\n",
        "    model = tf.keras.models.Sequential([\n",
        "        tf.keras.layers.Reshape((28, 28, 1)),\n",
        "        tf.keras.layers.Conv2D(16, (3, 3), activation='relu'),\n",
        "        tf.keras.layers.MaxPooling2D(2, 2),\n",
        "        tf.keras.layers.Flatten(),\n",
        "        tf.keras.layers.Dense(64, activation='relu'),\n",
        "        tf.keras.layers.Dense(10, activation='softmax')\n",
        "    ])\n",
        "    model.compile(optimizer='sgd', loss='sparse_categorical_crossentropy', metrics=['accuracy'])\n",
        "    return model\n",
        "\n",
        "# shortener\n",
        "cb = tf.keras.callbacks"
      ],
      "execution_count": null,
      "outputs": []
    },
    {
      "cell_type": "markdown",
      "metadata": {
        "id": "6zcOqFbKFsFp"
      },
      "source": [
        "##### a. Checkpoint Callback"
      ]
    },
    {
      "cell_type": "markdown",
      "metadata": {
        "id": "vT-tTK1iZmZz"
      },
      "source": [
        "Callback untuk menyimpan model dan parameternya setiap epoch. Hal ini bisa dimanfaatkan untuk banyak hal seperti keperluan untuk muat ulang kondisi model pada suatu epoch ketika ternyata performanya menurun di epoch selanjutnya. "
      ]
    },
    {
      "cell_type": "code",
      "metadata": {
        "id": "PYV4FJ8iMmDq"
      },
      "source": [
        "# kita bisa menyimpan berdasarkan epoch\n",
        "name_format = 'weights.{epoch:02d}-{val_loss:.2f}.h5'\n",
        "# atau satu file tunggal yang direplace setiap saat\n",
        "# name_format = 'saved_model.h5'\n",
        "\n",
        "cp_callback = cb.ModelCheckpoint(name_format, verbose=1)\n",
        "\n",
        "model = build_model()\n",
        "model.fit(img_train, lab_train, epochs=5, \n",
        "          validation_data=(img_val, lab_val), callbacks=[cp_callback])"
      ],
      "execution_count": null,
      "outputs": []
    },
    {
      "cell_type": "markdown",
      "metadata": {
        "id": "7TeSgZA6OWKD"
      },
      "source": [
        "##### b. Early Stop Callback"
      ]
    },
    {
      "cell_type": "markdown",
      "metadata": {
        "id": "MK8XwKD-aWCI"
      },
      "source": [
        "Callback untuk menghentikan proses training bila ternyata performa modelnya tidak membaik dalam suatu rentang *patience* yang ditetapkan."
      ]
    },
    {
      "cell_type": "code",
      "metadata": {
        "id": "KJOJTJYdCkdY"
      },
      "source": [
        "model = build_model()\n",
        "stopper = cb.EarlyStopping(patience=3, min_delta=0.05, baseline=0.8,\n",
        "              mode='min', monitor='val_loss', restore_best_weights=True,\n",
        "              verbose=1)\n",
        "\n",
        "model.fit(img_train, lab_train, epochs=50, \n",
        "          validation_data=(img_val, lab_val), callbacks=[stopper])"
      ],
      "execution_count": null,
      "outputs": []
    },
    {
      "cell_type": "markdown",
      "metadata": {
        "id": "mvqcC4uwPA73"
      },
      "source": [
        "##### c. Logger Callback"
      ]
    },
    {
      "cell_type": "markdown",
      "metadata": {
        "id": "8TXOCvi2afGg"
      },
      "source": [
        "Logger Callback di TF sebenarnya selalu terpasang dalam kondisi *default*, yakni kemampuan untuk *logging* ketika training (terlihat bahwa setiap kita jalankan metode `fit`, kondisi setiap step/epoch akan tercetak dengan otomatis).\n",
        "\n",
        "Akan tetapi, ada logger lain yang diturunkan dari base logger tersebut, seperti csv logger bila kita ingin log tidak hanya dicetak di console, tapi juga disimpan dalam file csv."
      ]
    },
    {
      "cell_type": "code",
      "metadata": {
        "id": "cffnMpmGPtMh"
      },
      "source": [
        "model = build_model()\n",
        "csv_log = cb.CSVLogger('training.csv')\n",
        "prog_log = cb.ProgbarLogger('steps')\n",
        "\n",
        "model.fit(img_train, lab_train, epochs=5, \n",
        "          validation_data=(img_val, lab_val), callbacks=[csv_log, prog_log])"
      ],
      "execution_count": null,
      "outputs": []
    },
    {
      "cell_type": "markdown",
      "metadata": {
        "id": "9mpmRic5a74A"
      },
      "source": [
        "Kita lihat isi log yang sudah terbuat."
      ]
    },
    {
      "cell_type": "code",
      "metadata": {
        "id": "B9tkYi03QV7R"
      },
      "source": [
        "pd.read_csv('training.csv').head()"
      ],
      "execution_count": null,
      "outputs": []
    },
    {
      "cell_type": "markdown",
      "metadata": {
        "id": "pQEakH1zPcvf"
      },
      "source": [
        "##### d. TensorBoard"
      ]
    },
    {
      "cell_type": "markdown",
      "metadata": {
        "id": "jyoNJd2vbItw"
      },
      "source": [
        "<img src=\"https://www.tensorflow.org/site-assets/images/project-logos/tensorboard-logo-social.png\" alt=\"drawing\" height=\"200\"/>\n",
        "\n",
        "Tensorboard merupakan salah satu library khusus di TF yang menyediakan dashboard untuk analisis proses training. Ada banyak fitur yang disediakan. Berikut ini akan ditunjukkan fitur-fitur dasarnya. Mula-mula kita muat dulu ekstensi dari tensorboard. Jika ingin dibuka di lokal, Tensorboard bisa dipanggil langsung via terminal, asalkan package dari tensorflow sendiri sudah diinstall.\n",
        "\n",
        "Tensorboard sebenarnya membaca suatu log yang dituliskan khusus ketika process training. Untuk itu, kita perlu mendefinisikan callback agar log khusus tensorboard dapat dibuat selama training dilakukan.  "
      ]
    },
    {
      "cell_type": "code",
      "metadata": {
        "id": "CeiD2WVEHbex"
      },
      "source": [
        "# muat ekstensi tensorboard\n",
        "%load_ext tensorboard\n",
        "\n",
        "# hapus dulu folder logs apabila sudah ada sebelumnya\n",
        "!rm -rf logs"
      ],
      "execution_count": null,
      "outputs": []
    },
    {
      "cell_type": "code",
      "metadata": {
        "id": "PpLwPLnAEOzv"
      },
      "source": [
        "model = build_model()\n",
        "logdir = \"logs/\"+ datetime.datetime.now().strftime(\"%Y%m%d-%H%M%S\")\n",
        "tensorboard = cb.TensorBoard(logdir)\n",
        "\n",
        "model.fit(img_train, lab_train, epochs=5, \n",
        "          validation_data=(img_val, lab_val), callbacks=[tensorboard])"
      ],
      "execution_count": null,
      "outputs": []
    },
    {
      "cell_type": "markdown",
      "metadata": {
        "id": "F6yj2ANXj0q9"
      },
      "source": [
        "Setelah proses teraining selesai, kita bisa muat log yang sudah tercatat dengan tensorboard."
      ]
    },
    {
      "cell_type": "code",
      "metadata": {
        "id": "-Z60F-1Ejxet"
      },
      "source": [
        "%tensorboard --logdir logs"
      ],
      "execution_count": null,
      "outputs": []
    },
    {
      "cell_type": "markdown",
      "metadata": {
        "id": "XYyDhAVUQzW6"
      },
      "source": [
        "##### e. Learning Rate Callback"
      ]
    },
    {
      "cell_type": "markdown",
      "metadata": {
        "id": "UObeXSWmi3AN"
      },
      "source": [
        "*Learning Rate* (LR) merupakan salah satu hyperparameter yang cukup penting dalam proses training. Terkadang, LR yang terlalu besar bisa membuat model gagal mendekati titik optimum, sedangkan LR yang terlalu kecil akan membuat proses training jadi sangat lambat. Untuk itu, LR perlu dibuat dinamis, bukannya konstan sepanjang training.\n",
        "\n",
        "Dalam konteks itu, kita bisa memanfaatkan callback untuk mengatur sehingga LR akan berkurang seiring epoch."
      ]
    },
    {
      "cell_type": "code",
      "metadata": {
        "id": "4naxZ-eCFB27"
      },
      "source": [
        "!rm -rf logs\n",
        "\n",
        "# menetapkan metrik tambahan untuk dibuka di tensorboard\n",
        "writer = tf.summary.create_file_writer(logdir + \"/metrics\")\n",
        "writer.set_as_default()\n",
        "initial_lr = 0.2\n",
        "\n",
        "def lr_schedule(epoch):\n",
        "    # membuat LR decay secara eksponensial\n",
        "    decay_rate = 1e-1\n",
        "    lr = initial_lr * np.exp(-decay_rate * epoch)\n",
        "    # menuliskan LR di log\n",
        "    tf.summary.scalar('learning rate', data=lr, step=epoch)\n",
        "    return lr\n",
        "\n",
        "lr_callback = cb.LearningRateScheduler(lr_schedule)\n",
        "tensorboard = cb.TensorBoard(log_dir=logdir)\n",
        "\n",
        "model = build_model()\n",
        "model.fit(img_train, lab_train, epochs=5, \n",
        "          validation_data=(img_val, lab_val), \n",
        "          callbacks=[tensorboard, lr_callback])\n",
        "\n",
        "%tensorboard --logdir logs"
      ],
      "execution_count": null,
      "outputs": []
    },
    {
      "cell_type": "markdown",
      "metadata": {
        "id": "EcrRB6lnG7Aq"
      },
      "source": [
        "##### f. Custom Callback"
      ]
    },
    {
      "cell_type": "markdown",
      "metadata": {
        "id": "-s9GXp3ykekq"
      },
      "source": [
        "Custom callback berisi metode yang dilakukan pada setiap awal dan akhir epoch ataupun batch. Formatnya kurang lebih seperti berikut\n",
        "```\n",
        "class CustomCallback(tf.keras.callbacks.Callback):\n",
        "    def __init__(self, *args, **kwargs):\n",
        "        # inisiasi atribut\n",
        "        \n",
        "    def on_epoch_begin(self, epoch, logs):\n",
        "        # callback ketika epoch dimulai\n",
        "\n",
        "    def on_epoch_end(self, epoch, logs):\n",
        "        # callback ketika epoch berakhir\n",
        "\n",
        "    def on_batch_begin(self, batch, logs):\n",
        "        # callback ketika batch dimulai\n",
        "\n",
        "    def on_batch_end(self, batch, logs):\n",
        "        # callback ketika batch berakhir     \n",
        "```"
      ]
    },
    {
      "cell_type": "code",
      "metadata": {
        "id": "1BIh7Za8GJCa"
      },
      "source": [
        "class CustomCallback(cb.Callback):\n",
        "    def on_epoch_begin(self, epoch, logs=None):\n",
        "        print('Proses training untuk epoch {} mulai pada {}'.format(epoch, datetime.datetime.now().time()))\n",
        "\n",
        "    def on_epoch_end(self, epoch, logs=None):\n",
        "        print('Proses training untuk epoch {} bearkhir pada {}'.format(epoch, datetime.datetime.now().time()))\n",
        "\n",
        "model = build_model()\n",
        "model.fit(img_train, lab_train, epochs=1, validation_data=(img_val, lab_val), \n",
        "          callbacks=[CustomCallback()])"
      ],
      "execution_count": null,
      "outputs": []
    },
    {
      "cell_type": "markdown",
      "metadata": {
        "id": "FXgirhnvj28S"
      },
      "source": [
        "### 2.2. Functional API"
      ]
    },
    {
      "cell_type": "markdown",
      "metadata": {
        "id": "UMghHDhkwdFD"
      },
      "source": [
        "Model NN terkadang seperti hidup, tidak selalu lurus terus, terkadang harus bercabang dan berkelok-kelok, maka model Sequential tidak akan bisa berbuat banyak. \n",
        "\n",
        "Functional API memosisikan layer dari NN seperti fungsi, yang dipanggil dengan suatu input dan menghasilkan output."
      ]
    },
    {
      "cell_type": "markdown",
      "metadata": {
        "id": "6e_Y5S1cIdr4"
      },
      "source": [
        "#### 2.2.1. Branching Model\n",
        "\n",
        "Kasus yang akan  kita buat kali ini adalah model jaringan Siamese. Model ini biasanya digunakan untuk proses identifikasi gambar, terutama ketika dataset terkait gambar tersebut tidak banyak. Contohnya adalah identifikasi wajah, dimana kita tidak mungkin melatih suatu model ML karena data wajah spesifik setiap individu tidaklah banyak. Jadi, kita cukup melatih model agar bisa mengatakan apakah dua gambar itu mirip atau tidak. Kurang lebih bentuknya seperti ini \n",
        "\n",
        "![](https://people.kth.se/~rosun/deep-learning/figures/siamese-arch.svg)"
      ]
    },
    {
      "cell_type": "markdown",
      "metadata": {
        "id": "7xPpmYiwxoju"
      },
      "source": [
        "Kita definisikan dulu fungsi untuk membuat pasangannya. Data yang dimasukkan harus berisi dua macam pasang, yakni pasangan yang mirip dan pasangan yang tidak mirip, sehingga model akan berusaha membedakan mana pasangan yang mirip mana yang tidak"
      ]
    },
    {
      "cell_type": "code",
      "metadata": {
        "id": "iSQMl9cZkgDx"
      },
      "source": [
        "def create_pairs(images, digits):\n",
        "    pairs = []\n",
        "    labels = []\n",
        "\n",
        "    digit_indices = [np.where(digits == i)[0] for i in range(10)]\n",
        "    n = min([len(digit_indices[d]) for d in range(10)]) - 1\n",
        "    for digit in range(10):\n",
        "        for i in range(n):\n",
        "            idx1 = digit_indices[digit][i]\n",
        "            idx2 = digit_indices[digit][i + 1]\n",
        "            pairs += [[images[idx1], images[idx2]]]\n",
        "\n",
        "            other_digit = (digit + random.randrange(1, 10)) % 10            \n",
        "            idx1 = digit_indices[digit][i]\n",
        "            idx2 = digit_indices[other_digit][i]\n",
        "            pairs += [[images[idx1], images[idx2]]]\n",
        "\n",
        "            labels += [1, 0]\n",
        "\n",
        "    return np.array(pairs), np.array(labels).astype('float')"
      ],
      "execution_count": null,
      "outputs": []
    },
    {
      "cell_type": "markdown",
      "metadata": {
        "id": "ZlvAwipLxpGK"
      },
      "source": [
        "Selanjutnya kita siapkan semua datanya menjadi pasangan-pasangan gambar."
      ]
    },
    {
      "cell_type": "code",
      "metadata": {
        "id": "ook7lKQakomz"
      },
      "source": [
        "train_pairs, train_y = create_pairs(img_train, lab_train)\n",
        "val_pairs, val_y = create_pairs(img_val, lab_val)\n",
        "test_pairs, test_y = create_pairs(img_test, lab_test)\n",
        "\n",
        "sample = random.randint(0,10)\n",
        "\n",
        "fig, axs = plt.subplots(1,2)\n",
        "axs[0].imshow(val_pairs[sample][0])\n",
        "axs[1].imshow(val_pairs[sample][1])\n",
        "\n",
        "status = \"MIRIP!\" if train_y[sample] else \"INI BEDA\"\n",
        "print(status)"
      ],
      "execution_count": null,
      "outputs": []
    },
    {
      "cell_type": "code",
      "metadata": {
        "id": "wMo2HbKLkuAa"
      },
      "source": [
        "input = tf.keras.Input(shape=(28,28,))\n",
        "x = tf.keras.layers.Flatten()(input)\n",
        "x = tf.keras.layers.Dense(128, activation='relu')(x)\n",
        "x = tf.keras.layers.Dropout(0.1)(x)\n",
        "x = tf.keras.layers.Dense(128, activation='relu')(x)\n",
        "x = tf.keras.layers.Dropout(0.1)(x)\n",
        "x = tf.keras.layers.Dense(128, activation='relu')(x)\n",
        "\n",
        "base_network = tf.keras.Model(inputs=input, outputs=x)\n",
        "\n",
        "# metode plot_model dapat digunakan untuk menggambar model yang dibangun\n",
        "tf.keras.utils.plot_model(base_network, show_shapes=True)"
      ],
      "execution_count": null,
      "outputs": []
    },
    {
      "cell_type": "markdown",
      "metadata": {
        "id": "QC30AatGx3PR"
      },
      "source": [
        "Hasil olahan dari jaringan ini adalah berupa vektor yang merepresentasikan fitur dari gambar input. Kita kemudian mendefinisikan fungsi jarak euklid sebagai ukuran pembeda dari 2 fitur gambar."
      ]
    },
    {
      "cell_type": "code",
      "metadata": {
        "id": "7W8vL_pDVoo1"
      },
      "source": [
        "def euclidean_distance(xy_pair):\n",
        "    x, y = xy_pair\n",
        "    sum_square = tf.reduce_sum(tf.square(x - y), axis=1, keepdims=True)\n",
        "    return tf.sqrt(tf.maximum(sum_square, tf.keras.backend.epsilon()))\n",
        "\n",
        "def split_output(shapes):\n",
        "    shape1, shape2 = shapes\n",
        "    return (shape1[0], 1)"
      ],
      "execution_count": null,
      "outputs": []
    },
    {
      "cell_type": "markdown",
      "metadata": {
        "id": "EQVJmeUtyVJ7"
      },
      "source": [
        "Selanjutnya kita gabungkan dua jaringan menjadi satu jaringan dengan memasukkannya secara fungsional."
      ]
    },
    {
      "cell_type": "code",
      "metadata": {
        "id": "Qe4YNz0kkwq5"
      },
      "source": [
        "input_a = tf.keras.Input(shape=(28,28,))\n",
        "input_b = tf.keras.Input(shape=(28,28,))\n",
        "distance_check = tf.keras.layers.Lambda(euclidean_distance, output_shape = split_output)\n",
        "\n",
        "output_a = base_network(input_a)\n",
        "output_b = base_network(input_b)\n",
        "output = distance_check([output_a, output_b])\n",
        "\n",
        "model = tf.keras.Model([input_a, input_b], output)\n",
        "\n",
        "tf.keras.utils.plot_model(model, show_shapes=True)"
      ],
      "execution_count": null,
      "outputs": []
    },
    {
      "cell_type": "markdown",
      "metadata": {
        "id": "eKM5b6GGy9oN"
      },
      "source": [
        "Kita bisa gambarkan juga diagram modelnya secara lengkap dengan menambahkan argumen `expand_nested`."
      ]
    },
    {
      "cell_type": "code",
      "metadata": {
        "id": "TogloHKZySCG"
      },
      "source": [
        "tf.keras.utils.plot_model(model, show_shapes=True, expand_nested=True)"
      ],
      "execution_count": null,
      "outputs": []
    },
    {
      "cell_type": "code",
      "metadata": {
        "id": "HswzRyDAk-V7"
      },
      "source": [
        "def contrastive_loss_func(margin):\n",
        "    def contrastive_loss(y_true, y_pred):\n",
        "        '''\n",
        "        Hadsell-et-al. 2006 \n",
        "        (http://yann.lecun.com/exdb/publis/pdf/hadsell-chopra-lecun-06.pdf)\n",
        "        '''\n",
        "        square_pred = tf.square(y_pred)\n",
        "        margin_square = tf.square(tf.maximum(margin - y_pred, 0))\n",
        "        return tf.reduce_mean(y_true * square_pred + (1 - y_true) * margin_square)\n",
        "    return contrastive_loss\n",
        "\n",
        "train_x = [train_pairs[:,0], train_pairs[:,1]]\n",
        "val_x = [val_pairs[:,0], val_pairs[:,1]]\n",
        "test_x = [test_pairs[:, 0], test_pairs[:, 1]]\n",
        "\n",
        "model.compile(loss = contrastive_loss_func(margin=1), optimizer='RMSprop')\n",
        "history = model.fit(train_x, train_y, epochs=5, batch_size=128, validation_data=(val_x, val_y))    "
      ],
      "execution_count": null,
      "outputs": []
    },
    {
      "cell_type": "code",
      "metadata": {
        "id": "IyfJWzjYlKMg"
      },
      "source": [
        "def compute_accuracy(y_true, y_pred):\n",
        "    pred = y_pred.ravel() < 0.5\n",
        "    return np.mean(pred == y_true)\n",
        "    \n",
        "loss = model.evaluate(x= test_x, y=test_y)\n",
        "y_pred_test = model.predict(test_x)\n",
        "test_accuracy = compute_accuracy(test_y, y_pred_test)\n",
        "print(\"Loss = {},\\nTest Accuracy = {}\".format(loss, test_accuracy))\n",
        "\n",
        "idxs = [random.randint(0, len(test_pairs)) for _ in range(5)]\n",
        "samples = [test_pairs[idxs, 0], test_pairs[idxs, 1]]\n",
        "preds = model.predict(samples).ravel() < 0.5\n",
        "preds = [\"Mirip\" if pred else \"Beda\" for pred in preds]\n",
        "show_figures(samples, preds, True)"
      ],
      "execution_count": null,
      "outputs": []
    },
    {
      "cell_type": "markdown",
      "metadata": {
        "id": "7pQ9-TPpKN6c"
      },
      "source": [
        "#### 2.2.2. Transfer Learning"
      ]
    },
    {
      "cell_type": "markdown",
      "metadata": {
        "id": "-Xgb0r_H8B5E"
      },
      "source": [
        "Ketika orang lain sudah membangun suatu model NN yang baik, kenapa kita tidak memanfaatkannya? Dari sini muncul teknik yang disebut *Transfer Learning*, yakni penggunaan kembali hasil *learning* model lain, untuk disesuaikan dengan kasus milik kita. Tensorflow menyediakan 2 sumber untuk ini, yakni Keras Application dan TFHub"
      ]
    },
    {
      "cell_type": "markdown",
      "metadata": {
        "id": "kp2CLyHNSITr"
      },
      "source": [
        "###### a. Keras Application"
      ]
    },
    {
      "cell_type": "markdown",
      "metadata": {
        "id": "dmTkILay8cxb"
      },
      "source": [
        "Keras Application berisi model-model (CNN) terkenal yang siap pakai, seperti Inception, ResNet, DenseNet, dll. Kita coba langsung pakai untuk prediksi suatu gambar. Kali ini kita akan gunakan model Inception V3 [(Szegedy, et al, 2016)](https://arxiv.org/abs/1512.00567), yang merupakan pengembangan dari model Inception [(Szegedy, et al, 2014)](https://arxiv.org/abs/1409.4842). Kurang lebih modelnya seperti berikut\n",
        "\n",
        "![](https://www.researchgate.net/profile/Masoud-Mahdianpari/publication/326421398/figure/fig6/AS:649353890889730@1531829440919/Schematic-diagram-of-InceptionV3-model-compressed-view.png)"
      ]
    },
    {
      "cell_type": "code",
      "metadata": {
        "id": "WoBCnh3GUiwX"
      },
      "source": [
        "im_file = tf.keras.utils.get_file('image.jpg','https://cinemags.co.id/wp-content/uploads/2021/03/godzilla-vs-kong-cast-characters-slideshow-1612488494005.jpg')\n",
        "gorilakong = PIL.Image.open(im_file)\n",
        "im = gorilakong.resize((299,299))\n",
        "im = np.array(im)/255.0\n",
        "plt.imshow(im)\n",
        "\n",
        "base_model = tf.keras.applications.InceptionV3(weights=\"imagenet\", \n",
        "                                               input_shape=(299, 299, 3), \n",
        "                                               include_top=True)\n",
        "pred = base_model.predict(tf.expand_dims(im, 0))\n",
        "tf.keras.applications.inception_v3.decode_predictions(pred)"
      ],
      "execution_count": null,
      "outputs": []
    },
    {
      "cell_type": "markdown",
      "metadata": {
        "id": "ofe-WZxD8vMq"
      },
      "source": [
        "Selanjutnya, kita coba pergunakan modelnya, atau dilatih ulang, untuk kita sesuaikan outputnya dengan label yang ada."
      ]
    },
    {
      "cell_type": "code",
      "metadata": {
        "id": "tMUSRg9yKTBv",
        "colab": {
          "base_uri": "https://localhost:8080/"
        },
        "outputId": "4236e8cb-6572-4d43-867c-cfd90d396439"
      },
      "source": [
        "img_tr = np.array([prepare_image(img, (150, 150), tf.keras.applications.inception_v3) for img in img_train[:2000]])\n",
        "base_model = tf.keras.applications.InceptionV3(weights=\"imagenet\", \n",
        "                                               input_shape=(150, 150, 3), \n",
        "                                               include_top=False)\n",
        "base_model.trainable = False\n",
        "\n",
        "input = tf.keras.Input(shape=(150,150,3))\n",
        "x = base_model(input)\n",
        "x = tf.keras.layers.GlobalAveragePooling2D()(x)\n",
        "x = tf.keras.layers.Dropout(0.2)(x)  \n",
        "outputs = tf.keras.layers.Dense(10, activation='softmax')(x)\n",
        "model = tf.keras.Model(input, outputs)\n",
        "\n",
        "model.compile(optimizer='adam', loss='sparse_categorical_crossentropy', metrics=['accuracy'])\n",
        "model.fit(img_tr, lab_train[:2000], epochs = 2)"
      ],
      "execution_count": 125,
      "outputs": [
        {
          "output_type": "stream",
          "text": [
            "Epoch 1/2\n",
            "63/63 [==============================] - 81s 1s/step - loss: 2.2020 - accuracy: 0.3226\n",
            "Epoch 2/2\n",
            "63/63 [==============================] - 77s 1s/step - loss: 1.8735 - accuracy: 0.7267\n"
          ],
          "name": "stdout"
        },
        {
          "output_type": "execute_result",
          "data": {
            "text/plain": [
              "<tensorflow.python.keras.callbacks.History at 0x7f67bd897610>"
            ]
          },
          "metadata": {
            "tags": []
          },
          "execution_count": 125
        }
      ]
    },
    {
      "cell_type": "code",
      "metadata": {
        "id": "JlMFmObXF1Rr"
      },
      "source": [
        "img_ts = np.array([prepare_image(img, (150, 150), tf.keras.applications.inception_v3) for img in img_test[:5]])\n",
        "\n",
        "predicted = model.predict(img_ts)\n",
        "pred_label = np.argmax(predicted, axis=-1)\n",
        "\n",
        "show_figures(img_ts, pred_label)"
      ],
      "execution_count": null,
      "outputs": []
    },
    {
      "cell_type": "markdown",
      "metadata": {
        "id": "mOY0WXDOSL9J"
      },
      "source": [
        "###### b. TF Hub"
      ]
    },
    {
      "cell_type": "markdown",
      "metadata": {
        "id": "deTuZv6C9HX7"
      },
      "source": [
        "<img src=\"https://www.tensorflow.org/site-assets/images/project-logos/tensorflow-hub-logo-social.png\" alt=\"drawing\" height=\"200\"/>\n",
        "\n",
        "TFHub atau Tensorflow Hub berisi model-model dengan berbagai keperluan dan studi kasus dari peneliti/pengembang lain yang siap dimanfaatkan. Model dari TFHhub memiliki beragam fungsi, baik yang berupa classifier langsung atau yang hanya feature extractor.\n",
        "\n",
        "Mula-mula kita coba dulu pakai model yang sudah jadi."
      ]
    },
    {
      "cell_type": "code",
      "metadata": {
        "cellView": "form",
        "id": "4kn4FtyVSQlq"
      },
      "source": [
        "classifier_model =\"https://tfhub.dev/google/tf2-preview/mobilenet_v2/classification/4\" #@param {type:\"string\"}"
      ],
      "execution_count": null,
      "outputs": []
    },
    {
      "cell_type": "code",
      "metadata": {
        "id": "mxG_wJ1dSuzU"
      },
      "source": [
        "IMAGE_SHAPE = (224, 224)\n",
        "\n",
        "classifier = tf.keras.Sequential([\n",
        "    hub.KerasLayer(classifier_model, input_shape=IMAGE_SHAPE+(3,))\n",
        "])"
      ],
      "execution_count": 126,
      "outputs": []
    },
    {
      "cell_type": "code",
      "metadata": {
        "id": "w5wDjXNjuXGD"
      },
      "source": [
        "im = gorilakong.resize(IMAGE_SHAPE)\n",
        "im = np.array(im)/255.0\n",
        "\n",
        "labels_path = tf.keras.utils.get_file('ImageNetLabels.txt','https://storage.googleapis.com/download.tensorflow.org/data/ImageNetLabels.txt')\n",
        "imagenet_labels = np.array(open(labels_path).read().splitlines())\n",
        "\n",
        "result = classifier.predict(im[np.newaxis, ...])\n",
        "predicted_class = np.argmax(result[0], axis=-1)\n",
        "imagenet_labels[predicted_class]"
      ],
      "execution_count": null,
      "outputs": []
    },
    {
      "cell_type": "markdown",
      "metadata": {
        "id": "B99OEEhxmpTN"
      },
      "source": [
        "Sekarang, kita coba pakai model feature extractor untuk dilatih kembali dengan dataset lain."
      ]
    },
    {
      "cell_type": "code",
      "metadata": {
        "id": "4bw8Jf94DSnP",
        "cellView": "form"
      },
      "source": [
        "feature_extractor_model = \"https://tfhub.dev/google/tf2-preview/mobilenet_v2/feature_vector/4\" #@param {type:\"string\"}"
      ],
      "execution_count": null,
      "outputs": []
    },
    {
      "cell_type": "code",
      "metadata": {
        "id": "5wB030nezBwI",
        "colab": {
          "base_uri": "https://localhost:8080/"
        },
        "outputId": "b690f818-9953-4302-85bd-56de8a41925c"
      },
      "source": [
        "img_tr = np.array([prepare_image(img, IMAGE_SHAPE) for img in img_train[:2000]])\n",
        "feature_extractor_layer = hub.KerasLayer(feature_extractor_model, input_shape=(224, 224, 3), trainable=False)\n",
        "\n",
        "model = tf.keras.Sequential([\n",
        "    feature_extractor_layer,\n",
        "    tf.keras.layers.Dense(10, activation='softmax')\n",
        "])\n",
        "\n",
        "model.summary()\n",
        "model.compile(optimizer='adam', loss='sparse_categorical_crossentropy', metrics=['accuracy'])\n",
        "\n",
        "history = model.fit(img_tr, lab_train[:2000], epochs=2)"
      ],
      "execution_count": 127,
      "outputs": [
        {
          "output_type": "stream",
          "text": [
            "Model: \"sequential_17\"\n",
            "_________________________________________________________________\n",
            "Layer (type)                 Output Shape              Param #   \n",
            "=================================================================\n",
            "keras_layer_3 (KerasLayer)   (None, 1280)              2257984   \n",
            "_________________________________________________________________\n",
            "dense_38 (Dense)             (None, 10)                12810     \n",
            "=================================================================\n",
            "Total params: 2,270,794\n",
            "Trainable params: 12,810\n",
            "Non-trainable params: 2,257,984\n",
            "_________________________________________________________________\n",
            "Epoch 1/2\n",
            "63/63 [==============================] - 78s 1s/step - loss: 1.7814 - accuracy: 0.4158\n",
            "Epoch 2/2\n",
            "63/63 [==============================] - 69s 1s/step - loss: 0.5826 - accuracy: 0.8757\n"
          ],
          "name": "stdout"
        }
      ]
    },
    {
      "cell_type": "code",
      "metadata": {
        "id": "JGbEf5l1I4jz",
        "colab": {
          "base_uri": "https://localhost:8080/",
          "height": 147
        },
        "outputId": "4bf2ef3d-00b7-4bbd-f640-207b1678cdae"
      },
      "source": [
        "img_ts = np.array([prepare_image(img, IMAGE_SHAPE) for img in img_test[:5]])\n",
        "\n",
        "predicted = model.predict(img_ts)\n",
        "pred_label = np.argmax(predicted, axis=-1)\n",
        "show_figures(img_ts, pred_label)"
      ],
      "execution_count": 128,
      "outputs": [
        {
          "output_type": "display_data",
          "data": {
            "image/png": "[encoded data removed]",
            "text/plain": [
              "<Figure size 720x360 with 5 Axes>"
            ]
          },
          "metadata": {
            "tags": [],
            "needs_background": "light"
          }
        }
      ]
    },
    {
      "cell_type": "markdown",
      "metadata": {
        "id": "locobZSz_wU9"
      },
      "source": [
        "### 2.2. Model Subclassing"
      ]
    },
    {
      "cell_type": "markdown",
      "metadata": {
        "id": "4Ynlk5kGxIrK"
      },
      "source": [
        "Selain dengan sequential atau functional, membuat model bisa lebih leluasa dengan membuat subclass langsung dari Model Keras.\n",
        "\n",
        "Membuat struktur dari sebuah subclass dari model mirip dengan bagaimana membangun subclass dari layer, yakni sebagai berikut\n",
        "```\n",
        "class NamaModel(tf.keras.Model):\n",
        "    def __init__(self, *args, **kwargs):\n",
        "        # inisiasi atribut\n",
        "\n",
        "    def call(self, inputs):\n",
        "        # aktivitas yang dilakukan pada input di dalam model\n",
        "        return output\n",
        "```"
      ]
    },
    {
      "cell_type": "markdown",
      "metadata": {
        "id": "GKnGtNeQxuuW"
      },
      "source": [
        "Kali ini kita akan mencoba membangun sebuah miniatur dari model Residual Network (ResNet). Miniatur ini kurang lebih akan berbentuk seperti ini\n",
        "\n",
        "![](https://github.com/phoenixfin/deeplearning-notebooks/blob/main/dummy_resnet.png?raw=true)\n",
        "\n",
        "Dalam Identity Block, terdapat *skip connection* (disebut juga residual) yang menghubungkan ujung ke ujung untuk mempertahankan keutuhan informasi yang dipropagasikan. "
      ]
    },
    {
      "cell_type": "code",
      "metadata": {
        "id": "-FIkYUttchv5"
      },
      "source": [
        "class IdentityBlock(tf.keras.Model):\n",
        "    def __init__(self, filters, kernel_size):\n",
        "        super(IdentityBlock, self).__init__(name='')\n",
        "\n",
        "        self.conv1 = tf.keras.layers.Conv2D(filters, kernel_size, padding='same')\n",
        "        self.bn1 = tf.keras.layers.BatchNormalization()\n",
        "\n",
        "        self.conv2 = tf.keras.layers.Conv2D(filters, kernel_size, padding='same')\n",
        "        self.bn2 = tf.keras.layers.BatchNormalization()\n",
        "\n",
        "        self.act = tf.keras.layers.Activation('relu')\n",
        "        self.add = tf.keras.layers.Add()\n",
        "    \n",
        "    def call(self, input_tensor):\n",
        "        x = self.conv1(input_tensor)\n",
        "        x = self.bn1(x)\n",
        "        x = self.act(x)\n",
        "\n",
        "        x = self.conv2(x)\n",
        "        x = self.bn2(x)\n",
        "\n",
        "        x = self.add([x, input_tensor])\n",
        "        x = self.act(x)\n",
        "        return x"
      ],
      "execution_count": 129,
      "outputs": []
    },
    {
      "cell_type": "markdown",
      "metadata": {
        "id": "hH4hurTSCgKL"
      },
      "source": [
        "Kita definiskan sekarang model ResNet yang lengkapnya."
      ]
    },
    {
      "cell_type": "code",
      "metadata": {
        "id": "YnMkmeecxw28"
      },
      "source": [
        "class ResNet(tf.keras.Model):\n",
        "    def __init__(self, num_classes):\n",
        "        super(ResNet, self).__init__()\n",
        "        self.reshaper = tf.keras.layers.Reshape((28,28,1))\n",
        "        self.conv = tf.keras.layers.Conv2D(64, 7, padding='same')\n",
        "        self.bn = tf.keras.layers.BatchNormalization()\n",
        "        self.act = tf.keras.layers.Activation('relu')\n",
        "        self.max_pool = tf.keras.layers.MaxPool2D((3, 3))\n",
        "\n",
        "        self.id1a = IdentityBlock(64, 3)\n",
        "        self.id1b = IdentityBlock(64, 3)\n",
        "\n",
        "        self.global_pool = tf.keras.layers.GlobalAveragePooling2D()\n",
        "        self.classifier = tf.keras.layers.Dense(num_classes, activation='softmax')\n",
        "\n",
        "    def call(self, inputs):\n",
        "        x = self.reshaper(inputs)\n",
        "        x = self.conv(x)\n",
        "        x = self.bn(x)\n",
        "        x = self.act(x)\n",
        "        x = self.max_pool(x)\n",
        "\n",
        "        x = self.id1a(x)\n",
        "        x = self.id1b(x)\n",
        "\n",
        "        x = self.global_pool(x)\n",
        "        return self.classifier(x)"
      ],
      "execution_count": 130,
      "outputs": []
    },
    {
      "cell_type": "code",
      "metadata": {
        "id": "6dMHKPz_dIc8",
        "colab": {
          "base_uri": "https://localhost:8080/"
        },
        "outputId": "256e654c-a01b-4c8d-b025-22f1744f8396"
      },
      "source": [
        "resnet = ResNet(10)\n",
        "resnet.compile(optimizer='adam', loss='sparse_categorical_crossentropy', metrics=['accuracy'])\n",
        "resnet.fit(img_train, lab_train, epochs=1)"
      ],
      "execution_count": 131,
      "outputs": [
        {
          "output_type": "stream",
          "text": [
            "1500/1500 [==============================] - 188s 125ms/step - loss: 0.3203 - accuracy: 0.9166\n"
          ],
          "name": "stdout"
        },
        {
          "output_type": "execute_result",
          "data": {
            "text/plain": [
              "<tensorflow.python.keras.callbacks.History at 0x7f67ba754ad0>"
            ]
          },
          "metadata": {
            "tags": []
          },
          "execution_count": 131
        }
      ]
    },
    {
      "cell_type": "markdown",
      "metadata": {
        "id": "DlLF59mKm-UD"
      },
      "source": [
        "Cara membuat model bisa campuran sequential, functional, maupun subclassing. Sebagai contoh, membangun ResNet di atas bisa juga dituliskan seperti ini"
      ]
    },
    {
      "cell_type": "code",
      "metadata": {
        "id": "iBuDf4LEnFpK"
      },
      "source": [
        "class IdentityBlock(tf.keras.Model):\n",
        "    def __init__(self, filters, kernel_size):\n",
        "        super(IdentityBlock, self).__init__(name='')\n",
        "        self.seq = tf.keras.Sequential([\n",
        "            tf.keras.layers.Conv2D(filters, kernel_size, padding='same')\n",
        "            tf.keras.layers.BatchNormalization()\n",
        "            tf.keras.layers.Conv2D(filters, kernel_size, padding='same')\n",
        "            tf.keras.layers.BatchNormalization()\n",
        "            tf.keras.layers.Activation('relu')                            \n",
        "        ])\n",
        "        self.add = tf.keras.layers.Add()\n",
        "    \n",
        "    def call(self, input_tensor):\n",
        "        x = self.seq(input_tensor)\n",
        "        x = self.add([x, input_tensor])\n",
        "        x = self.act(x)\n",
        "        return x\n",
        "\n",
        "resnet = tf.keras.Sequential([\n",
        "    tf.keras.layers.Reshape((28,28,1))\n",
        "    tf.keras.layers.Conv2D(64, 7, padding='same')\n",
        "    tf.keras.layers.BatchNormalization()\n",
        "    tf.keras.layers.Activation('relu')\n",
        "    tf.keras.layers.MaxPool2D((3, 3))\n",
        "    IdentityBlock(64, 3)\n",
        "    IdentityBlock(64, 3)\n",
        "    tf.keras.layers.GlobalAveragePooling2D()\n",
        "    tf.keras.layers.Dense(10, activation='softmax')                                        \n",
        "])"
      ],
      "execution_count": null,
      "outputs": []
    },
    {
      "cell_type": "markdown",
      "metadata": {
        "id": "3y9rJ8A8GcM2"
      },
      "source": [
        "## 3. Low Level API"
      ]
    },
    {
      "cell_type": "markdown",
      "metadata": {
        "id": "zAiivpyXONy2"
      },
      "source": [
        "### 3.1. Tensor"
      ]
    },
    {
      "cell_type": "markdown",
      "metadata": {
        "id": "jBy3Kz8wOQo9"
      },
      "source": [
        "#### 3.1.1. Tensor Konstan"
      ]
    },
    {
      "cell_type": "markdown",
      "metadata": {
        "id": "D6i3_eOiNDjm"
      },
      "source": [
        "Tensor konstan merupakan tensor biasa seperti halnya array yang nilainya bisa dimanipulasi. Berikut beberapa terminologi yang dipakai (agak berbeda dari terminologi matematis):\n",
        "- *Axis* / *Dimension*: Suatu \"basis\" dari tensor tersebut \n",
        "- *Shape*: Tuple yang berisi banyaknya elemen dari setiap basis\n",
        "- *Rank*: Panjang dari *shape*, atau banyaknya basis\n",
        "- *Size*: Total banyaknya elemen di tensor\n",
        "\n",
        "Contoh, misal kita miliki tensor $x$ berbentuk matriks $2\\times 2$. Maka, $x$ memiliki rank-2 dengan bentuk atau *shape* (2, 2), dengan *axis* pertama sebagai baris dan *axis* kedua sebagai kolom, serta secara total berukuran 4.  "
      ]
    },
    {
      "cell_type": "code",
      "metadata": {
        "id": "d5JcgLFR6gHv"
      },
      "source": [
        "rank_0_tensor = tf.constant(4)\n",
        "rank_1_tensor = tf.constant([2.0, 3.0, 4.0])\n",
        "rank_2_tensor = tf.constant([[1, 2],\n",
        "                             [3, 4],\n",
        "                             [5, 6]], dtype=tf.float16)\n",
        "rank_3_tensor = tf.constant([[[ 0,  1,  2,  3,  4],\n",
        "                              [ 5,  6,  7,  8,  9]],\n",
        "                             [[10, 11, 12, 13, 14],\n",
        "                              [15, 16, 17, 18, 19]],\n",
        "                             [[20, 21, 22, 23, 24],\n",
        "                              [25, 26, 27, 28, 29]],])\n",
        "\n",
        "print(\"Rank 0:\", rank_0_tensor)\n",
        "print(\"\\nRank 1:\", rank_1_tensor)\n",
        "print(\"\\nRank 2:\", rank_2_tensor)\n",
        "print(\"\\nRank 3:\", rank_3_tensor)"
      ],
      "execution_count": null,
      "outputs": []
    },
    {
      "cell_type": "markdown",
      "metadata": {
        "id": "oVTSYrNPP873"
      },
      "source": [
        "Mengubah tensor menjadi array bisa dilakukan 2 cara:\n"
      ]
    },
    {
      "cell_type": "code",
      "metadata": {
        "id": "J5u6_6ZYaS7B"
      },
      "source": [
        "np.array(rank_2_tensor)\n",
        "rank_2_tensor.numpy()"
      ],
      "execution_count": null,
      "outputs": []
    },
    {
      "cell_type": "markdown",
      "metadata": {
        "id": "K2lDUghlP_7L"
      },
      "source": [
        "Kita juga bisa membangun otomatis suatu tensor bentuk umum atau secara acak"
      ]
    },
    {
      "cell_type": "code",
      "metadata": {
        "id": "e8ENkZBnP_jQ"
      },
      "source": [
        "random_ts1 = tf.random.normal((2,2), mean=0, stddev=1)\n",
        "random_ts2 = tf.random.uniform((2,2), minval=0, maxval=2)\n",
        "\n",
        "ones = tf.ones((2,2))\n",
        "zeros = tf.zeros((2,2))\n",
        "id = tf.eye(2)\n",
        "\n",
        "print(\"Tensor of Ones:\", ones,\"\\n\")\n",
        "print(\"Tensor of Zeros:\", zeros,\"\\n\")\n",
        "print(\"Identity Tensor:\", id,\"\\n\")\n",
        "print(\"Normal random tensor:\", random_ts1,\"\\n\")\n",
        "print(\"Uniform random tensor:\", random_ts2)"
      ],
      "execution_count": null,
      "outputs": []
    },
    {
      "cell_type": "markdown",
      "metadata": {
        "id": "Yi-JmwYeQNJQ"
      },
      "source": [
        "Kita juga bisa memanipulasi bentuk dari tensor yang sudah ada dengan beragam operasi"
      ]
    },
    {
      "cell_type": "code",
      "metadata": {
        "id": "qJfm_34vSoHE"
      },
      "source": [
        "t = tf.constant([[1, 2, 3], [4, 5, 6]])\n",
        "print(\"=== Kita bisa terapkan padding:\\n\")\n",
        "paddings = tf.constant([[1, 1,], [2, 2]])\n",
        "print(\"Padding constant:\", tf.pad(t, paddings, \"CONSTANT\"),\"\\n\")\n",
        "print(\"Padding reflect:\", tf.pad(t, paddings, \"REFLECT\"),\"\\n\")\n",
        "print(\"Padding symmetric:\", tf.pad(t, paddings, \"SYMMETRIC\"),\"\\n\")\n",
        "\n",
        "print(\"=== Dimensinya bisa ditambah:\\n\")\n",
        "print(\"Tambah dimensi di axis pertama:\", tf.expand_dims(t, 0),\"\\n\")\n",
        "print(\"Tambah dimensi di axis kedua:\",tf.expand_dims(t, 1),\"\\n\")\n",
        "print(\"Tambah dimensi di axis ketiga:\",tf.expand_dims(t, 2),\"\\n\")\n",
        "\n",
        "print(\"=== Bisa di-reshape juga:\",\"\\n\")\n",
        "print(tf.reshape(t, (6,)),\"\\n\")\n",
        "print(tf.reshape(t, (3,2)),\"\\n\")"
      ],
      "execution_count": null,
      "outputs": []
    },
    {
      "cell_type": "markdown",
      "metadata": {
        "id": "a8LNRmXfQ7Sw"
      },
      "source": [
        "Kita bisa bikin tensor dari beragam tipe data yang lain"
      ]
    },
    {
      "cell_type": "code",
      "metadata": {
        "id": "VRmYRuQJXYfZ"
      },
      "source": [
        "lst = [1,2,3,4]\n",
        "tupl = (1,2,3,4)\n",
        "arr = np.array([1,2,3,4])\n",
        "srs = pd.Series([1,2,3,4])\n",
        "df = pd.DataFrame({'a':[1,2,3,4],'b':[5,6,7,8]})\n",
        "\n",
        "lst_ts = tf.convert_to_tensor(lst)\n",
        "tupl_ts = tf.convert_to_tensor(tupl)\n",
        "arr_ts = tf.convert_to_tensor(arr)\n",
        "srs_ts = tf.convert_to_tensor(srs)\n",
        "df_ts = tf.convert_to_tensor(df)\n",
        "\n",
        "print(\"Dari List:\", lst_ts)\n",
        "print(\"Dari Tuple:\", tupl_ts)\n",
        "print(\"Dari Array:\", arr_ts)\n",
        "print(\"Dari Series:\", srs_ts)\n",
        "print(\"Dari DataFrame:\", df_ts)\n",
        "print(\"Dari List:\", lst_ts)"
      ],
      "execution_count": null,
      "outputs": []
    },
    {
      "cell_type": "markdown",
      "metadata": {
        "id": "R55aIQ7YoTRC"
      },
      "source": [
        "#### 3.1.2. Operasi Matematika"
      ]
    },
    {
      "cell_type": "markdown",
      "metadata": {
        "id": "lNef96CYRbBb"
      },
      "source": [
        "Kita bisa jalankan operasi aritmatika dasar dengan 2 cara:\n",
        "- Dengan metode dari TF, seperti `tf.add` atau `tf.multiply`, atau\n",
        "- Dengan *operator overloading*, seperti `+`, `*`, atau `@`."
      ]
    },
    {
      "cell_type": "code",
      "metadata": {
        "id": "-DTkjwDOIIDa"
      },
      "source": [
        "a = tf.constant([[1, 2],\n",
        "                 [3, 4]])\n",
        "b = tf.constant([[1, 1],\n",
        "                 [1, 1]]) \n",
        "\n",
        "print(\"--- Penjumlahan ---\")\n",
        "print(tf.add(a, b), \"\\n\")\n",
        "print(a + b, \"\\n\") \n",
        "\n",
        "print(\"--- Perkalian per elemen ---\")\n",
        "print(tf.multiply(a, b), \"\\n\")\n",
        "print(a * b, \"\\n\") \n",
        "\n",
        "print(\"--- Perkalian matriks ---\")\n",
        "print(tf.matmul(a, b), \"\\n\")\n",
        "print(a @ b, \"\\n\") "
      ],
      "execution_count": null,
      "outputs": []
    },
    {
      "cell_type": "markdown",
      "metadata": {
        "id": "S3_vIAl2JPVc"
      },
      "source": [
        "Berbagai fungsi matematis juga tersedia"
      ]
    },
    {
      "cell_type": "code",
      "metadata": {
        "id": "Gp4WUYzGIbnv"
      },
      "source": [
        "c = tf.constant([[4.5, 5.3], [10.1, -1.0]])\n",
        "\n",
        "print(\"Original: \", c)\n",
        "print(\"\\nRound:\", tf.round(c))\n",
        "print(\"\\nAbsolute:\", tf.abs(c))\n",
        "print(\"\\nMaximum:\", tf.reduce_max(c))\n",
        "print(\"\\nMaximum Index:\", tf.argmax(c))\n",
        "\n",
        "print(\"\\nExponent:\", tf.exp(c))\n",
        "print(\"\\nPower of 2:\", tf.pow(c,2))\n",
        "print(\"\\nSquare Root:\", tf.sqrt(c))\n",
        "print(\"\\nSine:\", tf.sin(c))\n",
        "\n",
        "print(\"\\nCumulative Sum:\", tf.cumsum(c))\n",
        "print(\"\\nReduced Sum:\", tf.reduce_sum(c))\n",
        "print(\"\\nMean:\", tf.reduce_mean(c))\n",
        "print(\"\\nStandard Deviation:\", tf.math.reduce_std(c))\n",
        "\n",
        "print(\"\\nSigmoid:\", tf.nn.sigmoid(c))\n",
        "print(\"\\nSoftmax:\", tf.nn.softmax(c))\n",
        "print(\"\\nRelu:\", tf.nn.relu(c))"
      ],
      "execution_count": null,
      "outputs": []
    },
    {
      "cell_type": "markdown",
      "metadata": {
        "id": "ABtJQmvTYh-B"
      },
      "source": [
        "Bisa juga bermain bilangan kompleks dengant tensor"
      ]
    },
    {
      "cell_type": "code",
      "metadata": {
        "id": "KX-7_RK0UFx1"
      },
      "source": [
        "d = tf.complex(1., 2.)\n",
        "\n",
        "print(d)\n",
        "print(\"Real part:\",tf.math.real(d))\n",
        "print(\"Imagninary part:\",tf.math.imag(d))\n",
        "print(\"Args:\",tf.math.angle(d))\n",
        "print(\"Absolute:\", tf.math.abs(d))"
      ],
      "execution_count": null,
      "outputs": []
    },
    {
      "cell_type": "markdown",
      "metadata": {
        "id": "4TVhQhbWYxuz"
      },
      "source": [
        "Library khusus aljabar linier juga ada."
      ]
    },
    {
      "cell_type": "code",
      "metadata": {
        "id": "jWFnTciwY-m2"
      },
      "source": [
        "e = tf.constant([[1.,2.], [3.,4.]])\n",
        "print(e)\n",
        "\n",
        "eigval, eigvec = tf.linalg.eig(e)\n",
        "inverse = tf.linalg.inv(e)\n",
        "Sig, U, V = tf.linalg.svd(e)\n",
        "adj = tf.linalg.adjoint(e)\n",
        "det = tf.linalg.det(e)\n",
        "diag = tf.linalg.diag_part(e)\n",
        "\n",
        "print(\"\\nNilai Eigen:\", eigval)\n",
        "print(\"\\nVector Eigen:\", eigvec)\n",
        "print(\"\\nNilai Singular:\", Sig)\n",
        "print(\"\\nAdjoint:\", adj)\n",
        "print(\"\\nDeterminan:\", det)\n",
        "print(\"\\nKomponen Diagonal:\", diag)\n"
      ],
      "execution_count": null,
      "outputs": []
    },
    {
      "cell_type": "markdown",
      "metadata": {
        "id": "Mnmv_jGuYLOz"
      },
      "source": [
        "#### 3.1.3. Bentuk Lain"
      ]
    },
    {
      "cell_type": "markdown",
      "metadata": {
        "id": "XmaEdPD-Y8W9"
      },
      "source": [
        "Tensor di TF juga punya tensor bentuk lain seperti:\n",
        "- Ragged Tensor, tensor yang jumlah elemen di salah satu dimensinya tidak menentu atau berbeda-beda.\n",
        "- Sparse Tensor, tensor yang isinya sebagian besar 0 kecuali di beberapa posisi."
      ]
    },
    {
      "cell_type": "code",
      "metadata": {
        "id": "p4xKTo57tutG"
      },
      "source": [
        "ragged_list = [\n",
        "    [0, 1, 2, 3],\n",
        "    [4, 5],\n",
        "    [6, 7, 8],\n",
        "    [9]]\n",
        "    \n",
        "tensor = tf.constant(ragged_list)"
      ],
      "execution_count": null,
      "outputs": []
    },
    {
      "cell_type": "code",
      "metadata": {
        "id": "XhF3QV3jiqTj"
      },
      "source": [
        "ragged_tensor = tf.ragged.constant(ragged_list)\n",
        "print(ragged_tensor)\n",
        "print(ragged_tensor.shape)"
      ],
      "execution_count": null,
      "outputs": []
    },
    {
      "cell_type": "code",
      "metadata": {
        "id": "B9nbO1E2kSUN"
      },
      "source": [
        "sparse_tensor = tf.sparse.SparseTensor(indices=[[0, 0], [1, 2]],\n",
        "                                       values=[1, 2],\n",
        "                                       dense_shape=[3, 4])\n",
        "print(sparse_tensor, \"\\n\")\n",
        "print(tf.sparse.to_dense(sparse_tensor))"
      ],
      "execution_count": null,
      "outputs": []
    },
    {
      "cell_type": "markdown",
      "metadata": {
        "id": "SEuZONq6LDGR"
      },
      "source": [
        "### 3.2. Dataset API"
      ]
    },
    {
      "cell_type": "markdown",
      "metadata": {
        "id": "nsdQgdQj8ahu"
      },
      "source": [
        "Dataset API merupakan framework pengelolaan dataset yang dibuat oleh tensorflow di bawah modul `tf.data`. Berikut akan diperlihatkan bagaimana API ini bekerja."
      ]
    },
    {
      "cell_type": "markdown",
      "metadata": {
        "id": "RdKa97WlbxCO"
      },
      "source": [
        "#### 3.2.1. Data Pipeline"
      ]
    },
    {
      "cell_type": "markdown",
      "metadata": {
        "id": "dm6tO_RT8od4"
      },
      "source": [
        "Salah satu fungsi dari API ini adalah kemudahan dalam pembuatan data pipeline, sehingga dari data mentah sampai masuk ke model, itu semua bisa di-handle dengan lebih kompak. Kasus penggunaannya cukup banyak, untuk kali ini akan didemonstrasikan penggunaannya pada pembuatan data *time series*.\n",
        "\n",
        "Mula-mula, misalkan kita punya data *time series* yang digenerate dari 1 sampai 100. Membuat Dataset-nya cukup dengan metode `from_tensor_slices` dari modul `tf.data.Dataset`."
      ]
    },
    {
      "cell_type": "code",
      "metadata": {
        "id": "NpEcisr-Z89i"
      },
      "source": [
        "series = np.arange(100)\n",
        "\n",
        "dataset = tf.data.Dataset.from_tensor_slices(series)\n",
        "dataset"
      ],
      "execution_count": null,
      "outputs": []
    },
    {
      "cell_type": "markdown",
      "metadata": {
        "id": "uvBHQ8C79NK3"
      },
      "source": [
        "Perhatikan bahwa hasil dataset yang dibuat sudah berupa bundel objek dari kelas `TensorSliceDataset`. Untuk melihat isinya, gunakan metode `take`, dengan argumen banyaknya data yang mau diambil."
      ]
    },
    {
      "cell_type": "code",
      "metadata": {
        "id": "l0PZAFx6aM3J"
      },
      "source": [
        "for data in dataset.take(10):\n",
        "    print(data)"
      ],
      "execution_count": null,
      "outputs": []
    },
    {
      "cell_type": "markdown",
      "metadata": {
        "id": "9K_-AlOo9Z_g"
      },
      "source": [
        "Dapat kita lihat bahwa setiap komponen data-nya sekarang sudah otomatis menjadi Tensor. Selanjutnya, kita akan membuat *window*, yakni suatu rentang data yang akan dianggap sebagai satu set input. "
      ]
    },
    {
      "cell_type": "code",
      "metadata": {
        "id": "g5Nksuj0aJ7c"
      },
      "source": [
        "dataset = dataset.window(4, shift=1, drop_remainder=True)\n",
        "dataset = dataset.flat_map(lambda window: window.batch(4))\n",
        "\n",
        "for data in dataset.take(10):\n",
        "    print(data.numpy())"
      ],
      "execution_count": null,
      "outputs": []
    },
    {
      "cell_type": "markdown",
      "metadata": {
        "id": "xivTn7i29oiq"
      },
      "source": [
        "Sekarang, kita sudah miliki data yang berisi kumpulan *window* berisi 4 nilai. Data ini kemudian kita acak untuk menghilangkan bias"
      ]
    },
    {
      "cell_type": "code",
      "metadata": {
        "id": "Q0PkJQUzagEk"
      },
      "source": [
        "dataset = dataset.shuffle(1000)\n",
        "for data in dataset.take(10):\n",
        "    print(data.numpy())"
      ],
      "execution_count": null,
      "outputs": []
    },
    {
      "cell_type": "markdown",
      "metadata": {
        "id": "VGpEaRZv90uw"
      },
      "source": [
        "Kita kemudian akan membuat label (target) dari setiap data ini. Dalam suatu model *time series*, bila diberi input suatu rentang data berurutan, maka kita ingin modelnya bisa memprediksi nilai di waktu berikutnya. Maka dari itu, kita ambil nilai terakhir dari setiap *window* sebagai labelnya. Kita gunakan metode `map` yang akan memroses setiap data satu per satu melalui fungsi yang dimasukkan sebagai argumen."
      ]
    },
    {
      "cell_type": "code",
      "metadata": {
        "id": "n5YP3UlrcGCN"
      },
      "source": [
        "dataset = dataset.map(lambda window: (window[:-1], window[-1]))\n",
        "for data, label in dataset.take(10):\n",
        "    print(data.numpy(),'->', label.numpy())"
      ],
      "execution_count": null,
      "outputs": []
    },
    {
      "cell_type": "markdown",
      "metadata": {
        "id": "qa-NmrIJ-Xac"
      },
      "source": [
        "Kita kemudian kelompokkan lagi data-data ini menjadi batch berisi 10 window."
      ]
    },
    {
      "cell_type": "code",
      "metadata": {
        "id": "_SVcj-ZUcUzI"
      },
      "source": [
        "dataset = dataset.batch(10)\n",
        "for data, label in dataset.take(2):\n",
        "    print(data.numpy(),'->', label.numpy())"
      ],
      "execution_count": null,
      "outputs": []
    },
    {
      "cell_type": "markdown",
      "metadata": {
        "id": "iAfzxJod-hId"
      },
      "source": [
        "Secara keseluruhan, pipeline yang kita buat akan seperti ini"
      ]
    },
    {
      "cell_type": "code",
      "metadata": {
        "id": "pegrBEzQV0O-"
      },
      "source": [
        "# Secara keseluruhan  jadi seperti ini\n",
        "ds = tf.data.Dataset.from_tensor_slices(series)\n",
        "ds = ds.window(4, shift=1, drop_remainder=True)\n",
        "ds = ds.flat_map(lambda window: window.batch(4))\n",
        "ds = ds.shuffle(1000)\n",
        "ds = ds.map(lambda window: (window[:-1], window[-1]))\n",
        "ds = ds.batch(10)\n",
        "ds = ds.prefetech(1) # ini tambahan untuk meningkatkan performa"
      ],
      "execution_count": null,
      "outputs": []
    },
    {
      "cell_type": "markdown",
      "metadata": {
        "id": "BqEymB4R-t_V"
      },
      "source": [
        "Variabel `ds` ini dapat langsung dimasukkan ke `model.fit`. "
      ]
    },
    {
      "cell_type": "markdown",
      "metadata": {
        "id": "6YPhbu9Tfzd9"
      },
      "source": [
        "#### 3.2.2. TF Datasets"
      ]
    },
    {
      "cell_type": "markdown",
      "metadata": {
        "id": "QSnpLvhu_Lx2"
      },
      "source": [
        "Tensorflow memiliki satu library terpisah untuk mengelola kumpulan datasets, yakni tensorflow-datasets atau tfds. TFDS memiliki puluhan dataset berbagai bentuk yang siap panggil, dari audio, gambar, sampai teks. Data yang diambil dari TFDS akan langsung berbentuk objek `Datasets` yang dengan mudah kita atur pipelinenya.\n",
        "\n",
        "Kali ini kita akan muat ulang data digit mnist dengan tfds."
      ]
    },
    {
      "cell_type": "code",
      "metadata": {
        "id": "ZUMhCXhFXdHQ"
      },
      "source": [
        "mnist = tfds.load('mnist', split=['train[:80%]','train[80%:]','test'], shuffle_files=True, as_supervised=True)\n",
        "mnist"
      ],
      "execution_count": null,
      "outputs": []
    },
    {
      "cell_type": "markdown",
      "metadata": {
        "id": "obeObZUjAECq"
      },
      "source": [
        "Perhatikan bahwa splitting data dapat dengan mudah dilakukan, dan langsung menghasikan 3 data untuk training-validation-test. Selanjutnya kita siapkan pipelinenya."
      ]
    },
    {
      "cell_type": "code",
      "metadata": {
        "id": "haykx2K9XgiI"
      },
      "source": [
        "def normalize_img(image, label):\n",
        "  return tf.cast(image, tf.float32) / 255., label\n",
        "\n",
        "def create_pipeline(ds, is_shuffle):\n",
        "    ds = ds.map(normalize_img)\n",
        "    ds = ds.cache()\n",
        "    if is_shuffle:\n",
        "        ds = ds.shuffle(1000)\n",
        "    ds = ds.batch(128)\n",
        "    ds = ds.prefetch(1)\n",
        "    return ds\n",
        "\n",
        "ds_train = create_pipeline(mnist[0], True)\n",
        "ds_val = create_pipeline(mnis[1], True)\n",
        "ds_test = create_pipeline(mnist[2], False)"
      ],
      "execution_count": null,
      "outputs": []
    },
    {
      "cell_type": "markdown",
      "metadata": {
        "id": "IBZPLcNlAS1q"
      },
      "source": [
        "Kita pun bisa langsung masukkan ke model."
      ]
    },
    {
      "cell_type": "code",
      "metadata": {
        "id": "XWqxdmS1NLKA"
      },
      "source": [
        "model = build_model()\n",
        "model.fit(ds_train, epochs=2, validation_data=ds_val)\n",
        "model.evaluate(ds_test)"
      ],
      "execution_count": null,
      "outputs": []
    },
    {
      "cell_type": "markdown",
      "metadata": {
        "id": "g69U2eaeHi-u"
      },
      "source": [
        "### 3.3. Custom Training Process"
      ]
    },
    {
      "cell_type": "markdown",
      "metadata": {
        "id": "uGu4gwEpZII9"
      },
      "source": [
        "Proses training di TF bisa didefinisikan secara manual dari awal sampai akhir, tanpa menggunakan metode `fit`. Mula-mula kita definisikan dulu modelnya dengan functional API."
      ]
    },
    {
      "cell_type": "code",
      "metadata": {
        "id": "aaa775ce7dab"
      },
      "source": [
        "inputs = tf.keras.Input(shape=(28,28), name=\"digits\")\n",
        "flat = tf.keras.layers.Flatten()(inputs)\n",
        "x1 = tf.keras.layers.Dense(64, activation=\"relu\")(flat)\n",
        "x2 = tf.keras.layers.Dense(64, activation=\"relu\")(x1)\n",
        "outputs = tf.keras.layers.Dense(10, name=\"predictions\")(x2)\n",
        "\n",
        "model = tf.keras.Model(inputs=inputs, outputs=outputs)"
      ],
      "execution_count": null,
      "outputs": []
    },
    {
      "cell_type": "markdown",
      "metadata": {
        "id": "VsktBJht8H0-"
      },
      "source": [
        "Selanjutnya, didefinisikan juga optimizer, fungsi loss, dan metric yang digunakan. "
      ]
    },
    {
      "cell_type": "code",
      "metadata": {
        "id": "f2c6257b8d02"
      },
      "source": [
        "optimizer = tf.keras.optimizers.SGD(learning_rate=1e-3)\n",
        "loss_fn = tf.keras.losses.SparseCategoricalCrossentropy(from_logits=True)\n",
        "train_acc_metric = tf.keras.metrics.SparseCategoricalAccuracy()\n",
        "val_acc_metric = tf.keras.metrics.SparseCategoricalAccuracy()"
      ],
      "execution_count": null,
      "outputs": []
    },
    {
      "cell_type": "markdown",
      "metadata": {
        "id": "I9tRZNKVA5ty"
      },
      "source": [
        "Kita di sini mengubah data gambar yang ada sebelumnya menjadi TF Datasets dengan pipeline yang sesuai."
      ]
    },
    {
      "cell_type": "code",
      "metadata": {
        "id": "uT_eqDvzA0E1"
      },
      "source": [
        "train_ds = tf.data.Dataset.from_tensor_slices((img_train, lab_train))\n",
        "train_ds = train_ds.shuffle(buffer_size=1024).batch(64)\n",
        "\n",
        "val_ds = tf.data.Dataset.from_tensor_slices((img_val, lab_val))\n",
        "val_ds = val_ds.batch(batch_size)"
      ],
      "execution_count": null,
      "outputs": []
    },
    {
      "cell_type": "markdown",
      "metadata": {
        "id": "WsUZeqA-AzRt"
      },
      "source": [
        "Saatnya melakukan proses training manual! Perhatikan  langkahnya baik-baik"
      ]
    },
    {
      "cell_type": "code",
      "metadata": {
        "id": "654e2311dbff"
      },
      "source": [
        "# tetapkan jumlah epochs\n",
        "epochs = 3\n",
        "\n",
        "# iterasi setiap epoch\n",
        "for epoch in range(epochs):\n",
        "    print(\"\\nStart of epoch %d\" % (epoch,))\n",
        "    # iterasi setiap batch di training Datasets\n",
        "    for step, (x_batch_train, y_batch_train) in enumerate(train_ds):\n",
        "        # tetapkan scope Gradient Tape untuk merekam proses perhitungan loss\n",
        "        with tf.GradientTape() as tape:\n",
        "            # hitung output dari model\n",
        "            y_out = model(x_batch_train, training=True)\n",
        "            # hitung loss dari output yang dihasilkan\n",
        "            loss_value = loss_fn(y_batch_train, y_out)\n",
        "        # hitung gradient dari perhitungan yang sudah direkam \n",
        "        # terhadap parameter-parameter di dalam modelnya model\n",
        "        grads = tape.gradient(loss_value, model.trainable_weights)\n",
        "        # minta optimizer untuk update parameter \n",
        "        # berdasarkan gradient yang sudah dihitung\n",
        "        optimizer.apply_gradients(zip(grads, model.trainable_weights))\n",
        "        # update metric untuk batch ini\n",
        "        train_acc_metric.update_state(y_batch_train, y_out)\n",
        "        if step % 200 == 0:\n",
        "            print(step, \"steps: \", loss_value.numpy())\n",
        "    # dapatkan akumulasi metric di epoch ini\n",
        "    train_acc = train_acc_metric.result()\n",
        "    print(\"Training acc over epoch: %.4f\" % (float(train_acc),))\n",
        "    train_acc_metric.reset_states()\n",
        "\n",
        "    # lakukan hal yang serupa pada validation Datasets\n",
        "    # perbedaannya hanya kali ini tidak dilakukan update parameter\n",
        "    for x_batch_val, y_batch_val in val_ds:\n",
        "        val_logits = model(x_batch_val, training=False)\n",
        "        val_acc_metric.update_state(y_batch_val, val_logits)\n",
        "    val_acc = val_acc_metric.result()\n",
        "    val_acc_metric.reset_states()\n",
        "    print(\"Validation acc: %.4f\" % (float(val_acc),))"
      ],
      "execution_count": null,
      "outputs": []
    },
    {
      "cell_type": "markdown",
      "metadata": {
        "id": "MZ51sp-prvpD"
      },
      "source": [
        "**That is all!**\n",
        "Tentu saja masih banyak hal di Tensorflow yang belum kebahas di sini, tapi semoga ini bisa jadi awal perjalanan deep learnjng anda ke depan!\n",
        "\n",
        "> Aditya Firman Ihsan\n",
        "\n",
        "![](https://i.pinimg.com/236x/57/88/60/57886048a910db370c961afab837cca1--happy-new-year-atlanta.jpg)"
      ]
    }
  ]
}