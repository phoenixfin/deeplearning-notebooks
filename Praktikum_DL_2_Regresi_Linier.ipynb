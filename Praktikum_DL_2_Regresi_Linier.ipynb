{
  "nbformat": 4,
  "nbformat_minor": 0,
  "metadata": {
    "colab": {
      "name": "Praktikum DL 2 - Jawaban",
      "provenance": [],
      "collapsed_sections": [],
      "toc_visible": true,
      "authorship_tag": "ABX9TyPA0UyDyP6Rczce8b2iHkcs",
      "include_colab_link": true
    },
    "kernelspec": {
      "name": "python3",
      "display_name": "Python 3"
    }
  },
  "cells": [
    {
      "cell_type": "markdown",
      "metadata": {
        "id": "view-in-github",
        "colab_type": "text"
      },
      "source": [
        "<a href=\"https://colab.research.google.com/github/phoenixfin/deeplearning-notebooks/blob/main/Praktikum_DL_2_Regresi_Linier.ipynb\" target=\"_parent\"><img src=\"https://colab.research.google.com/assets/colab-badge.svg\" alt=\"Open In Colab\"/></a>"
      ]
    },
    {
      "cell_type": "markdown",
      "metadata": {
        "id": "2qKUfqTjafOS"
      },
      "source": [
        "# Praktikum Pembelajaran Mendalam 2\n",
        "## Regresi Linear\n",
        "> Aditya Firman Ihsan\n",
        "\n"
      ]
    },
    {
      "cell_type": "markdown",
      "metadata": {
        "id": "yc1TMdpFGMcS"
      },
      "source": [
        "Pada praktikum kali ini, kita akan membangun model regresi linear dengan konsep perseptron dengan menggunakan library dasar Python. Model perseptron pada dasarnya hanya sebuah model optimisasi yang secara iteratif melakukan pembaharuan pada setiap parameternya dengan *gradient descent*."
      ]
    },
    {
      "cell_type": "markdown",
      "metadata": {
        "id": "IZjKRnCHP3JL"
      },
      "source": [
        "### 1. Persiapan"
      ]
    },
    {
      "cell_type": "markdown",
      "metadata": {
        "id": "O5Wme9CsE-nG"
      },
      "source": [
        "#### 1.1. Import library\n",
        "\n",
        "Seperti biasa, kita impor dulu semua yang dibutuhkan:\n",
        "- [numpy](www.numpy.org): Numerical python, untuk hitung-hitung\n",
        "- [matplotlib](http://matplotlib.org): MATLAB-nya python, untuk plotting. Yang kita butuhkan hanya `pyplot`\n",
        "- [pandas](https://pandas.pydata.org/): Python Data Analysis, untuk mengolah data."
      ]
    },
    {
      "cell_type": "code",
      "metadata": {
        "id": "n5tI7XfDaLiB"
      },
      "source": [
        "import numpy as np\n",
        "import pandas as pd \n",
        "from matplotlib import pyplot as plt"
      ],
      "execution_count": null,
      "outputs": []
    },
    {
      "cell_type": "markdown",
      "metadata": {
        "id": "3aSr3c0mFUeu"
      },
      "source": [
        "#### 1.2. Menyiapkan dataset \n",
        "\n",
        "Kita akan gunakan [dataset Auto-MPG](https://archive.ics.uci.edu/ml/datasets/auto+mpg) yang bisa diperoleh dari **UCI Machine Learning Repository**. File yang tersedia berformat `.data` namun bisa dibaca sebagai file csv, maka kita gunakan `pandas` untuk membacanya. \n",
        "\n",
        "Lebih lanjut baca https://pandas.pydata.org/pandas-docs/stable/generated/pandas.read_csv.html"
      ]
    },
    {
      "cell_type": "code",
      "metadata": {
        "id": "zSzpJwaXBa3U"
      },
      "source": [
        "url = 'http://archive.ics.uci.edu/ml/machine-learning-databases/auto-mpg/auto-mpg.data'\n",
        "column_names = ['MPG', 'Cylinders', 'Displacement', 'Horsepower', 'Weight',\n",
        "                'Acceleration', 'Model Year', 'Origin']\n",
        "raw_dataset = pd.read_csv(url, names=column_names,\n",
        "                          na_values='?', comment='\\t',\n",
        "                          sep=' ', skipinitialspace=True)"
      ],
      "execution_count": null,
      "outputs": []
    },
    {
      "cell_type": "markdown",
      "metadata": {
        "id": "Imc78jLLGP26"
      },
      "source": [
        "Kita tidak akan melihat semua variabel bebasnya (atau disebut juga sebagai fitur). Kita ambil 2 data, yakni data daya dengan data MPG. Yang satu akan berperan sebagai variabel target (yang akan diprediksi)"
      ]
    },
    {
      "cell_type": "code",
      "metadata": {
        "colab": {
          "base_uri": "https://localhost:8080/",
          "height": 277
        },
        "id": "o3wQrNa_B1Bo",
        "outputId": "30fe9596-5069-46eb-967c-a5fbe0155efb"
      },
      "source": [
        "features = ['Horsepower', 'MPG']\n",
        "dataset_train = raw_dataset[features]\n",
        "dataset_train.describe()"
      ],
      "execution_count": null,
      "outputs": [
        {
          "output_type": "execute_result",
          "data": {
            "text/html": [
              "<div>\n",
              "<style scoped>\n",
              "    .dataframe tbody tr th:only-of-type {\n",
              "        vertical-align: middle;\n",
              "    }\n",
              "\n",
              "    .dataframe tbody tr th {\n",
              "        vertical-align: top;\n",
              "    }\n",
              "\n",
              "    .dataframe thead th {\n",
              "        text-align: right;\n",
              "    }\n",
              "</style>\n",
              "<table border=\"1\" class=\"dataframe\">\n",
              "  <thead>\n",
              "    <tr style=\"text-align: right;\">\n",
              "      <th></th>\n",
              "      <th>Horsepower</th>\n",
              "      <th>MPG</th>\n",
              "    </tr>\n",
              "  </thead>\n",
              "  <tbody>\n",
              "    <tr>\n",
              "      <th>count</th>\n",
              "      <td>392.000000</td>\n",
              "      <td>398.000000</td>\n",
              "    </tr>\n",
              "    <tr>\n",
              "      <th>mean</th>\n",
              "      <td>104.469388</td>\n",
              "      <td>23.514573</td>\n",
              "    </tr>\n",
              "    <tr>\n",
              "      <th>std</th>\n",
              "      <td>38.491160</td>\n",
              "      <td>7.815984</td>\n",
              "    </tr>\n",
              "    <tr>\n",
              "      <th>min</th>\n",
              "      <td>46.000000</td>\n",
              "      <td>9.000000</td>\n",
              "    </tr>\n",
              "    <tr>\n",
              "      <th>25%</th>\n",
              "      <td>75.000000</td>\n",
              "      <td>17.500000</td>\n",
              "    </tr>\n",
              "    <tr>\n",
              "      <th>50%</th>\n",
              "      <td>93.500000</td>\n",
              "      <td>23.000000</td>\n",
              "    </tr>\n",
              "    <tr>\n",
              "      <th>75%</th>\n",
              "      <td>126.000000</td>\n",
              "      <td>29.000000</td>\n",
              "    </tr>\n",
              "    <tr>\n",
              "      <th>max</th>\n",
              "      <td>230.000000</td>\n",
              "      <td>46.600000</td>\n",
              "    </tr>\n",
              "  </tbody>\n",
              "</table>\n",
              "</div>"
            ],
            "text/plain": [
              "       Horsepower         MPG\n",
              "count  392.000000  398.000000\n",
              "mean   104.469388   23.514573\n",
              "std     38.491160    7.815984\n",
              "min     46.000000    9.000000\n",
              "25%     75.000000   17.500000\n",
              "50%     93.500000   23.000000\n",
              "75%    126.000000   29.000000\n",
              "max    230.000000   46.600000"
            ]
          },
          "metadata": {
            "tags": []
          },
          "execution_count": 59
        }
      ]
    },
    {
      "cell_type": "markdown",
      "metadata": {
        "id": "PQbX9_iqGjEX"
      },
      "source": [
        "Data yang tersedia memiliki skala yang cukup berbeda, meskipun tidak jauh. Untuk mencegah bias, maka kita akan normalisasi data tersebut."
      ]
    },
    {
      "cell_type": "code",
      "metadata": {
        "colab": {
          "base_uri": "https://localhost:8080/",
          "height": 456
        },
        "id": "nFs1ROdlcXS6",
        "outputId": "fb8ef2ea-afaf-4898-f875-3974aca664ed"
      },
      "source": [
        "def normalize(ds):\n",
        "  for feature in features:\n",
        "    mean = ds[feature].mean()\n",
        "    std = ds[feature].std()\n",
        "\n",
        "    # mengisi data kosong dengan rata-rata dari data\n",
        "    ds[feature].fillna(mean, inplace=True)\n",
        "\n",
        "    # normalisasi data sehingga memiliki rata-rata di 0 dan variansi 1\n",
        "    ds[feature] = (ds[feature] - mean) / (std - 0.00001)\n",
        "\n",
        "normalize(dataset_train)\n",
        "\n",
        "# lihat sekilas hasilnya\n",
        "dataset_train.describe()"
      ],
      "execution_count": null,
      "outputs": [
        {
          "output_type": "stream",
          "text": [
            "/usr/local/lib/python3.7/dist-packages/pandas/core/series.py:4536: SettingWithCopyWarning: \n",
            "A value is trying to be set on a copy of a slice from a DataFrame\n",
            "\n",
            "See the caveats in the documentation: https://pandas.pydata.org/pandas-docs/stable/user_guide/indexing.html#returning-a-view-versus-a-copy\n",
            "  downcast=downcast,\n",
            "/usr/local/lib/python3.7/dist-packages/ipykernel_launcher.py:10: SettingWithCopyWarning: \n",
            "A value is trying to be set on a copy of a slice from a DataFrame.\n",
            "Try using .loc[row_indexer,col_indexer] = value instead\n",
            "\n",
            "See the caveats in the documentation: https://pandas.pydata.org/pandas-docs/stable/user_guide/indexing.html#returning-a-view-versus-a-copy\n",
            "  # Remove the CWD from sys.path while we load stuff.\n"
          ],
          "name": "stderr"
        },
        {
          "output_type": "execute_result",
          "data": {
            "text/html": [
              "<div>\n",
              "<style scoped>\n",
              "    .dataframe tbody tr th:only-of-type {\n",
              "        vertical-align: middle;\n",
              "    }\n",
              "\n",
              "    .dataframe tbody tr th {\n",
              "        vertical-align: top;\n",
              "    }\n",
              "\n",
              "    .dataframe thead th {\n",
              "        text-align: right;\n",
              "    }\n",
              "</style>\n",
              "<table border=\"1\" class=\"dataframe\">\n",
              "  <thead>\n",
              "    <tr style=\"text-align: right;\">\n",
              "      <th></th>\n",
              "      <th>Horsepower</th>\n",
              "      <th>MPG</th>\n",
              "    </tr>\n",
              "  </thead>\n",
              "  <tbody>\n",
              "    <tr>\n",
              "      <th>count</th>\n",
              "      <td>3.980000e+02</td>\n",
              "      <td>3.980000e+02</td>\n",
              "    </tr>\n",
              "    <tr>\n",
              "      <th>mean</th>\n",
              "      <td>2.622135e-17</td>\n",
              "      <td>-8.728361e-16</td>\n",
              "    </tr>\n",
              "    <tr>\n",
              "      <th>std</th>\n",
              "      <td>9.924148e-01</td>\n",
              "      <td>1.000001e+00</td>\n",
              "    </tr>\n",
              "    <tr>\n",
              "      <th>min</th>\n",
              "      <td>-1.519035e+00</td>\n",
              "      <td>-1.857039e+00</td>\n",
              "    </tr>\n",
              "    <tr>\n",
              "      <th>25%</th>\n",
              "      <td>-7.396346e-01</td>\n",
              "      <td>-7.695231e-01</td>\n",
              "    </tr>\n",
              "    <tr>\n",
              "      <th>50%</th>\n",
              "      <td>-2.460147e-01</td>\n",
              "      <td>-6.583605e-02</td>\n",
              "    </tr>\n",
              "    <tr>\n",
              "      <th>75%</th>\n",
              "      <td>5.333853e-01</td>\n",
              "      <td>7.018226e-01</td>\n",
              "    </tr>\n",
              "    <tr>\n",
              "      <th>max</th>\n",
              "      <td>3.261285e+00</td>\n",
              "      <td>2.953621e+00</td>\n",
              "    </tr>\n",
              "  </tbody>\n",
              "</table>\n",
              "</div>"
            ],
            "text/plain": [
              "         Horsepower           MPG\n",
              "count  3.980000e+02  3.980000e+02\n",
              "mean   2.622135e-17 -8.728361e-16\n",
              "std    9.924148e-01  1.000001e+00\n",
              "min   -1.519035e+00 -1.857039e+00\n",
              "25%   -7.396346e-01 -7.695231e-01\n",
              "50%   -2.460147e-01 -6.583605e-02\n",
              "75%    5.333853e-01  7.018226e-01\n",
              "max    3.261285e+00  2.953621e+00"
            ]
          },
          "metadata": {
            "tags": []
          },
          "execution_count": 60
        }
      ]
    },
    {
      "cell_type": "code",
      "metadata": {
        "colab": {
          "base_uri": "https://localhost:8080/",
          "height": 277
        },
        "id": "tZ7wxWmg3sDk",
        "outputId": "d704551b-fb8a-470b-ce87-4bea67308bb3"
      },
      "source": [
        "dataset_train.describe()"
      ],
      "execution_count": null,
      "outputs": [
        {
          "output_type": "execute_result",
          "data": {
            "text/html": [
              "<div>\n",
              "<style scoped>\n",
              "    .dataframe tbody tr th:only-of-type {\n",
              "        vertical-align: middle;\n",
              "    }\n",
              "\n",
              "    .dataframe tbody tr th {\n",
              "        vertical-align: top;\n",
              "    }\n",
              "\n",
              "    .dataframe thead th {\n",
              "        text-align: right;\n",
              "    }\n",
              "</style>\n",
              "<table border=\"1\" class=\"dataframe\">\n",
              "  <thead>\n",
              "    <tr style=\"text-align: right;\">\n",
              "      <th></th>\n",
              "      <th>Horsepower</th>\n",
              "      <th>MPG</th>\n",
              "    </tr>\n",
              "  </thead>\n",
              "  <tbody>\n",
              "    <tr>\n",
              "      <th>count</th>\n",
              "      <td>3.980000e+02</td>\n",
              "      <td>3.980000e+02</td>\n",
              "    </tr>\n",
              "    <tr>\n",
              "      <th>mean</th>\n",
              "      <td>2.622135e-17</td>\n",
              "      <td>-8.728361e-16</td>\n",
              "    </tr>\n",
              "    <tr>\n",
              "      <th>std</th>\n",
              "      <td>9.924148e-01</td>\n",
              "      <td>1.000001e+00</td>\n",
              "    </tr>\n",
              "    <tr>\n",
              "      <th>min</th>\n",
              "      <td>-1.519035e+00</td>\n",
              "      <td>-1.857039e+00</td>\n",
              "    </tr>\n",
              "    <tr>\n",
              "      <th>25%</th>\n",
              "      <td>-7.396346e-01</td>\n",
              "      <td>-7.695231e-01</td>\n",
              "    </tr>\n",
              "    <tr>\n",
              "      <th>50%</th>\n",
              "      <td>-2.460147e-01</td>\n",
              "      <td>-6.583605e-02</td>\n",
              "    </tr>\n",
              "    <tr>\n",
              "      <th>75%</th>\n",
              "      <td>5.333853e-01</td>\n",
              "      <td>7.018226e-01</td>\n",
              "    </tr>\n",
              "    <tr>\n",
              "      <th>max</th>\n",
              "      <td>3.261285e+00</td>\n",
              "      <td>2.953621e+00</td>\n",
              "    </tr>\n",
              "  </tbody>\n",
              "</table>\n",
              "</div>"
            ],
            "text/plain": [
              "         Horsepower           MPG\n",
              "count  3.980000e+02  3.980000e+02\n",
              "mean   2.622135e-17 -8.728361e-16\n",
              "std    9.924148e-01  1.000001e+00\n",
              "min   -1.519035e+00 -1.857039e+00\n",
              "25%   -7.396346e-01 -7.695231e-01\n",
              "50%   -2.460147e-01 -6.583605e-02\n",
              "75%    5.333853e-01  7.018226e-01\n",
              "max    3.261285e+00  2.953621e+00"
            ]
          },
          "metadata": {
            "tags": []
          },
          "execution_count": 61
        }
      ]
    },
    {
      "cell_type": "markdown",
      "metadata": {
        "id": "nX8WxoCwHMZy"
      },
      "source": [
        "Terakhir, kita pisahkan antara fitur dengan target sebagai X dan y"
      ]
    },
    {
      "cell_type": "code",
      "metadata": {
        "id": "YTtAe2gXlXms"
      },
      "source": [
        "target_feature = 'MPG'\n",
        "\n",
        "def split(ds):\n",
        "  data = ds.copy()\n",
        "  y = data.pop(target_feature).to_numpy()\n",
        "  y = np.expand_dims(y, 1)\n",
        "  X = data.to_numpy()\n",
        "  return X, y\n",
        "\n",
        "X_train, y_train = split(dataset_train)"
      ],
      "execution_count": null,
      "outputs": []
    },
    {
      "cell_type": "code",
      "metadata": {
        "colab": {
          "base_uri": "https://localhost:8080/"
        },
        "id": "HhX2FliN4MYb",
        "outputId": "b16248f9-f054-42f4-8adf-f22a71aefe3c"
      },
      "source": [
        "X_train.shape, y_train.shape"
      ],
      "execution_count": null,
      "outputs": [
        {
          "output_type": "execute_result",
          "data": {
            "text/plain": [
              "((398, 1), (398, 1))"
            ]
          },
          "metadata": {
            "tags": []
          },
          "execution_count": 63
        }
      ]
    },
    {
      "cell_type": "markdown",
      "metadata": {
        "id": "Zqn1HfqdHcwU"
      },
      "source": [
        "### 2. Bangun Model\n",
        "\n",
        "> Catatan: kita akan bangun di sini versi fungsional terlebih dahulu. Agar semakin kerasa manfaat penggunaan OOP kelak\n",
        "\n",
        "#### 2.1. Inisialisasi parameter\n",
        "\n",
        "Kita buat fungsi untuk inisiaisasi parameter $W$ dan $b$. Ada dua cara untuk inisialisasi, yakni dengan nol atau dengan acak. Keduanya disediakan di sini, silakan untuk mencoba-coba untuk melihat perbedaannya. Dimensi $W$ akan bergantung pada dimensi dari $X$, yang dalam hal ini berarti banyaknya fitur yang terlibat.\n"
      ]
    },
    {
      "cell_type": "code",
      "metadata": {
        "id": "ydBqlcyadW_c"
      },
      "source": [
        "def initialize_with_zeros(num_features):\n",
        "    w = np.zeros((num_features, 1))\n",
        "    b = 0.\n",
        "    return w, b\n",
        "\n",
        "def initialize_random(num_features):\n",
        "    np.random.seed(40)\n",
        "    w = np.random.rand(num_features, 1)\n",
        "    b = np.random.rand(1)\n",
        "    return w, b    "
      ],
      "execution_count": null,
      "outputs": []
    },
    {
      "cell_type": "markdown",
      "metadata": {
        "id": "X3DlS250I1lF"
      },
      "source": [
        "#### 2.2. Propagasi\n",
        "\n",
        "Selanjutnya, akan didefinisikan fungsi propagasi, baik maju ataupun mundur. Ingat bahwa untuk propagasi maju, kita berusaha menghitung cost atau error yang ingin kita minimalisasi \n",
        "$$ Z = X\\cdot w + b$$\n",
        "\n",
        "$$ C = \\frac{1}{N}[(Y - Z)'\\cdot (Y-Z)]$$\n",
        "dan untuk propagasi mundur, kita berusaha menghitung gradien dari cost terhadap parameter-parameter yang ada sehingga bisa di-update,\n",
        "$$ \\frac{dC}{dZ}=-\\frac{1}{N}2(Y-Z)$$\n",
        "\n",
        "$$\\frac{\\partial C}{\\partial w}=\\frac{\\partial Z}{\\partial w}\\frac{dC}{dZ} = -\\frac{1}{N}(X'\\cdot 2(Y-Z))$$\n",
        "\n",
        "$$\\frac{\\partial C}{\\partial b} =\\frac{\\partial Z}{\\partial b}\\frac{dC}{dZ}= -\\frac{1}{N}\\sum_{m=1}^N2(y_m-z_m)$$\n",
        "\n",
        "Nilai $N$ di atas adalah banyaknya data yang terlibat. Pembagian dengan $N$ berarti kita ingin menghitung cost rata-rata per data"
      ]
    },
    {
      "cell_type": "code",
      "metadata": {
        "id": "yaFiICJYdcir"
      },
      "source": [
        "def propagate(w, b, X, Y):\n",
        "    N = X.shape[0]\n",
        "\n",
        "    # Forward\n",
        "    Z = np.dot(X, w) + b\n",
        "    e = Y - Z\n",
        "    C = np.dot(e.T, e) / N\n",
        "\n",
        "    # Backward\n",
        "    dz = - 2 * e / N\n",
        "    dw = np.dot(X.T, dz)\n",
        "    db = np.sum(dz)\n",
        "    \n",
        "    grads = {\"dw\": dw,\n",
        "             \"db\": db}    \n",
        "    return grads, C"
      ],
      "execution_count": null,
      "outputs": []
    },
    {
      "cell_type": "markdown",
      "metadata": {
        "id": "RtOYpy5GLz-u"
      },
      "source": [
        "#### 2.3. Optimisasi\n",
        "\n",
        "Optimisasi di sini berarti kita ingin menghitung\n",
        "$$\\min_{w,b}C$$\n",
        "atau nilai cost $C$ paling kecil yang bisa didapatkan untuk semua kemungkinan parameter $w$ dan $b$. \n",
        "\n",
        "Untuk melakukannya, kita selalu update $w$ dan $b$ secara iteratif dengan melihat gradient dari $C$ terhadap masing-masing. Dalam hal ini, kita ingin $w$ dan $b$ selalu bergerak ke arah gradientnya atau berarti ke arah $C$ terkecil (ingat kalkulus peubah banyak).\n",
        "\n",
        "Dengan suatu koefisien $\\alpha$, pada setiap iterasi kita melakukan\n",
        "$$w = w - \\alpha \\frac{\\partial C}{\\partial w}$$\n",
        "\n",
        "$$b = b - \\alpha \\frac{\\partial C}{\\partial b}$$\n",
        "\n",
        "Nilai $\\alpha$ akan menentukan sejauh apa $w$ dan $b$ memperbarui dirinya setiap iterasi, sehingga terkadang menentukan kecepatan iterasi mencapai titik minimum. Dengan itu, $\\alpha$ juga disebut sebagai *learning rate*"
      ]
    },
    {
      "cell_type": "code",
      "metadata": {
        "id": "p0PkrxYDem0F"
      },
      "source": [
        "def optimize(w, b, X, Y, num_iterations, learning_rate, print_cost = False):    \n",
        "    costs = []\n",
        "    \n",
        "    for i in range(num_iterations):\n",
        "        gradients, cost = propagate(w, b, X, Y)\n",
        "        \n",
        "        w = w - learning_rate * gradients[\"dw\"]\n",
        "        b = b - learning_rate * gradients[\"db\"]\n",
        "        \n",
        "        # catat nilai cost setiap iterasi ke-100\n",
        "        if i % 100 == 0:\n",
        "            costs.append(cost)        \n",
        "            if print_cost:\n",
        "              print (\"Cost after iteration %i: %f\" %(i, cost))\n",
        "    \n",
        "    parameters = {\"w\": w, \"b\": b}\n",
        "    return parameters, gradients, costs"
      ],
      "execution_count": null,
      "outputs": []
    },
    {
      "cell_type": "markdown",
      "metadata": {
        "id": "xRdwm1DZNiSd"
      },
      "source": [
        "#### 2.3. Prediksi\n",
        "\n",
        "Kita lengkapi juga suatu fungsi sederhana untuk menghitung kembali nilai target dengan parameter yang sudah dioptimisasi."
      ]
    },
    {
      "cell_type": "code",
      "metadata": {
        "id": "1-NZUr0Szgor"
      },
      "source": [
        "def predict(w, b, X):\n",
        "    return np.dot(X, w) + b"
      ],
      "execution_count": null,
      "outputs": []
    },
    {
      "cell_type": "markdown",
      "metadata": {
        "id": "ZVGLM_9MNt1x"
      },
      "source": [
        "#### 2.4. Bungkus!\n",
        "\n",
        "Kita bungkus semua fungsi di atas menjadi sebuah fungsi untuk membangun dan melatih model"
      ]
    },
    {
      "cell_type": "code",
      "metadata": {
        "id": "cCtCTMJDkzA5"
      },
      "source": [
        "def train(X, Y, num_iterations = 2000, learning_rate = 0.5, print_cost = False):    \n",
        "    w, b = initialize_with_zeros(X.shape[1])\n",
        "    params, grads, costs = optimize(w, b, X, Y, \n",
        "                                    num_iterations, \n",
        "                                    learning_rate, \n",
        "                                    print_cost)\n",
        "    Y_pred = predict(w, b, X)\n",
        "    accuracy = np.mean(np.abs(Y_pred - Y)) * 100\n",
        "    print(\"train accuracy: {} %\".format(accuracy))\n",
        "    \n",
        "    return {\n",
        "        \"costs\": costs,\n",
        "        \"prediction\" : Y_pred, \n",
        "        \"w\" : params['w'], \n",
        "        \"b\" : params['b'],\n",
        "    }\n",
        "    "
      ],
      "execution_count": null,
      "outputs": []
    },
    {
      "cell_type": "markdown",
      "metadata": {
        "id": "YckpRQPEOOQ9"
      },
      "source": [
        "### 3. Eksekusi\n"
      ]
    },
    {
      "cell_type": "markdown",
      "metadata": {
        "id": "OYzwJxfgp85w"
      },
      "source": [
        "#### 3.1. Latih Model\n",
        "\n",
        "Sekarang, semua sudah disiapkan, tinggal menggunakannya."
      ]
    },
    {
      "cell_type": "code",
      "metadata": {
        "colab": {
          "base_uri": "https://localhost:8080/"
        },
        "id": "gKuVcPNplVkn",
        "outputId": "71fbdb4f-386b-4f7c-9359-a87778fa4f79"
      },
      "source": [
        "result = train(X_train, y_train, 10000, 0.0005, print_cost = True)\n",
        "result2 = train(X_train, y_train, 200, 0.01, print_cost = True)\n",
        "\n",
        "model1 = ()"
      ],
      "execution_count": null,
      "outputs": [
        {
          "output_type": "stream",
          "text": [
            "Cost after iteration 0: 0.997490\n",
            "Cost after iteration 100: 0.891550\n",
            "Cost after iteration 200: 0.804517\n",
            "Cost after iteration 300: 0.733016\n",
            "Cost after iteration 400: 0.674275\n",
            "Cost after iteration 500: 0.626017\n",
            "Cost after iteration 600: 0.586372\n",
            "Cost after iteration 700: 0.553801\n",
            "Cost after iteration 800: 0.527044\n",
            "Cost after iteration 900: 0.505062\n",
            "Cost after iteration 1000: 0.487002\n",
            "Cost after iteration 1100: 0.472166\n",
            "Cost after iteration 1200: 0.459977\n",
            "Cost after iteration 1300: 0.449964\n",
            "Cost after iteration 1400: 0.441738\n",
            "Cost after iteration 1500: 0.434979\n",
            "Cost after iteration 1600: 0.429427\n",
            "Cost after iteration 1700: 0.424866\n",
            "Cost after iteration 1800: 0.421119\n",
            "Cost after iteration 1900: 0.418040\n",
            "Cost after iteration 2000: 0.415511\n",
            "Cost after iteration 2100: 0.413433\n",
            "Cost after iteration 2200: 0.411726\n",
            "Cost after iteration 2300: 0.410324\n",
            "Cost after iteration 2400: 0.409172\n",
            "Cost after iteration 2500: 0.408225\n",
            "Cost after iteration 2600: 0.407448\n",
            "Cost after iteration 2700: 0.406809\n",
            "Cost after iteration 2800: 0.406284\n",
            "Cost after iteration 2900: 0.405853\n",
            "Cost after iteration 3000: 0.405499\n",
            "Cost after iteration 3100: 0.405208\n",
            "Cost after iteration 3200: 0.404969\n",
            "Cost after iteration 3300: 0.404773\n",
            "Cost after iteration 3400: 0.404611\n",
            "Cost after iteration 3500: 0.404479\n",
            "Cost after iteration 3600: 0.404370\n",
            "Cost after iteration 3700: 0.404280\n",
            "Cost after iteration 3800: 0.404207\n",
            "Cost after iteration 3900: 0.404146\n",
            "Cost after iteration 4000: 0.404097\n",
            "Cost after iteration 4100: 0.404056\n",
            "Cost after iteration 4200: 0.404023\n",
            "Cost after iteration 4300: 0.403995\n",
            "Cost after iteration 4400: 0.403972\n",
            "Cost after iteration 4500: 0.403954\n",
            "Cost after iteration 4600: 0.403939\n",
            "Cost after iteration 4700: 0.403926\n",
            "Cost after iteration 4800: 0.403916\n",
            "Cost after iteration 4900: 0.403907\n",
            "Cost after iteration 5000: 0.403900\n",
            "Cost after iteration 5100: 0.403895\n",
            "Cost after iteration 5200: 0.403890\n",
            "Cost after iteration 5300: 0.403886\n",
            "Cost after iteration 5400: 0.403883\n",
            "Cost after iteration 5500: 0.403880\n",
            "Cost after iteration 5600: 0.403878\n",
            "Cost after iteration 5700: 0.403877\n",
            "Cost after iteration 5800: 0.403875\n",
            "Cost after iteration 5900: 0.403874\n",
            "Cost after iteration 6000: 0.403873\n",
            "Cost after iteration 6100: 0.403872\n",
            "Cost after iteration 6200: 0.403872\n",
            "Cost after iteration 6300: 0.403871\n",
            "Cost after iteration 6400: 0.403871\n",
            "Cost after iteration 6500: 0.403870\n",
            "Cost after iteration 6600: 0.403870\n",
            "Cost after iteration 6700: 0.403870\n",
            "Cost after iteration 6800: 0.403869\n",
            "Cost after iteration 6900: 0.403869\n",
            "Cost after iteration 7000: 0.403869\n",
            "Cost after iteration 7100: 0.403869\n",
            "Cost after iteration 7200: 0.403869\n",
            "Cost after iteration 7300: 0.403869\n",
            "Cost after iteration 7400: 0.403869\n",
            "Cost after iteration 7500: 0.403869\n",
            "Cost after iteration 7600: 0.403869\n",
            "Cost after iteration 7700: 0.403869\n",
            "Cost after iteration 7800: 0.403869\n",
            "Cost after iteration 7900: 0.403869\n",
            "Cost after iteration 8000: 0.403869\n",
            "Cost after iteration 8100: 0.403869\n",
            "Cost after iteration 8200: 0.403869\n",
            "Cost after iteration 8300: 0.403869\n",
            "Cost after iteration 8400: 0.403869\n",
            "Cost after iteration 8500: 0.403869\n",
            "Cost after iteration 8600: 0.403869\n",
            "Cost after iteration 8700: 0.403869\n",
            "Cost after iteration 8800: 0.403869\n",
            "Cost after iteration 8900: 0.403868\n",
            "Cost after iteration 9000: 0.403868\n",
            "Cost after iteration 9100: 0.403868\n",
            "Cost after iteration 9200: 0.403868\n",
            "Cost after iteration 9300: 0.403868\n",
            "Cost after iteration 9400: 0.403868\n",
            "Cost after iteration 9500: 0.403868\n",
            "Cost after iteration 9600: 0.403868\n",
            "Cost after iteration 9700: 0.403868\n",
            "Cost after iteration 9800: 0.403868\n",
            "Cost after iteration 9900: 0.403868\n",
            "train accuracy: 83.59029034702581 %\n",
            "Cost after iteration 0: 0.997490\n",
            "Cost after iteration 100: 0.415086\n",
            "train accuracy: 83.59029034702581 %\n"
          ],
          "name": "stdout"
        }
      ]
    },
    {
      "cell_type": "markdown",
      "metadata": {
        "id": "vtAPlvCEPEWT"
      },
      "source": [
        "#### 3.2. Plot hasil\n",
        "\n",
        "Kita lihat bahwa di akhir, akurasi model kita tidaklah banyak. Namun, sebelum kita ambil kesimpulan apapun, untuk melihat apakah regresi kita sudah berhasil, kita perlu plot untuk melihat kecocokannya dengan data."
      ]
    },
    {
      "cell_type": "code",
      "metadata": {
        "colab": {
          "base_uri": "https://localhost:8080/",
          "height": 281
        },
        "id": "7qiThgl9AXUT",
        "outputId": "4cff2f22-18ce-4948-8cd6-d6fb84f7f869"
      },
      "source": [
        "x_res = np.arange(X_train.min(), X_train.max(), 0.1)\n",
        "y_res = result['w'][0] * x_res + result['b']\n",
        "\n",
        "plt.scatter(X_train, y_train)\n",
        "plt.plot(x_res, y_res, color = \"red\")"
      ],
      "execution_count": null,
      "outputs": [
        {
          "output_type": "execute_result",
          "data": {
            "text/plain": [
              "[<matplotlib.lines.Line2D at 0x7fa3a667bcd0>]"
            ]
          },
          "metadata": {
            "tags": []
          },
          "execution_count": 70
        },
        {
          "output_type": "display_data",
          "data": {
            "image/png": "[encoded data removed]",
            "text/plain": [
              "<Figure size 432x288 with 1 Axes>"
            ]
          },
          "metadata": {
            "tags": [],
            "needs_background": "light"
          }
        }
      ]
    },
    {
      "cell_type": "markdown",
      "metadata": {
        "id": "I1ZcGOIyPbk7"
      },
      "source": [
        "Perhatikan bahwa ternyata memang data kita tidak lah berkorelasi secara linear, sehingga regresi linear kita tidak akan pernah bisa mencapai akurasi yang tinggi. Namun, dapat dilihat bahwa paling tidak ia ssudah mengikuti tren menurun yang terlihat pada data"
      ]
    },
    {
      "cell_type": "markdown",
      "metadata": {
        "id": "LzkeB96yqHgj"
      },
      "source": [
        "3.3. Ekstensi\n",
        "\n",
        "Melihat datanya, sepertinya memang regresi linear tidak cocok untuk memodelkan data tersebut. Kita coba ekstensi model menjadi polinom, paling tidak kuadratik, untuk memperbaiki model kita. \n",
        "\n",
        "Bagaimana caranya?\n",
        "Kita buat seakan ada satu fitur tambahan yang sebenarnya hanya merupakan kuadrat dari fitur yang sudah ada. Ingat kembali bahwa kita miliki dataset seperti berikut"
      ]
    },
    {
      "cell_type": "code",
      "metadata": {
        "colab": {
          "base_uri": "https://localhost:8080/",
          "height": 191
        },
        "id": "9j-y0JIAq5gK",
        "outputId": "2843d074-3827-43b8-e43e-4cd2316b6b8b"
      },
      "source": [
        "dataset_train.head()"
      ],
      "execution_count": null,
      "outputs": [
        {
          "output_type": "execute_result",
          "data": {
            "text/html": [
              "<div>\n",
              "<style scoped>\n",
              "    .dataframe tbody tr th:only-of-type {\n",
              "        vertical-align: middle;\n",
              "    }\n",
              "\n",
              "    .dataframe tbody tr th {\n",
              "        vertical-align: top;\n",
              "    }\n",
              "\n",
              "    .dataframe thead th {\n",
              "        text-align: right;\n",
              "    }\n",
              "</style>\n",
              "<table border=\"1\" class=\"dataframe\">\n",
              "  <thead>\n",
              "    <tr style=\"text-align: right;\">\n",
              "      <th></th>\n",
              "      <th>Horsepower</th>\n",
              "      <th>MPG</th>\n",
              "    </tr>\n",
              "  </thead>\n",
              "  <tbody>\n",
              "    <tr>\n",
              "      <th>0</th>\n",
              "      <td>0.663285</td>\n",
              "      <td>-0.705552</td>\n",
              "    </tr>\n",
              "    <tr>\n",
              "      <th>1</th>\n",
              "      <td>1.572585</td>\n",
              "      <td>-1.089381</td>\n",
              "    </tr>\n",
              "    <tr>\n",
              "      <th>2</th>\n",
              "      <td>1.182885</td>\n",
              "      <td>-0.705552</td>\n",
              "    </tr>\n",
              "    <tr>\n",
              "      <th>3</th>\n",
              "      <td>1.182885</td>\n",
              "      <td>-0.961438</td>\n",
              "    </tr>\n",
              "    <tr>\n",
              "      <th>4</th>\n",
              "      <td>0.923085</td>\n",
              "      <td>-0.833495</td>\n",
              "    </tr>\n",
              "  </tbody>\n",
              "</table>\n",
              "</div>"
            ],
            "text/plain": [
              "   Horsepower       MPG\n",
              "0    0.663285 -0.705552\n",
              "1    1.572585 -1.089381\n",
              "2    1.182885 -0.705552\n",
              "3    1.182885 -0.961438\n",
              "4    0.923085 -0.833495"
            ]
          },
          "metadata": {
            "tags": []
          },
          "execution_count": 71
        }
      ]
    },
    {
      "cell_type": "markdown",
      "metadata": {
        "id": "yvYPX0hBrAig"
      },
      "source": [
        "Kita tambahkan satu fitur yang merupakan kuadrat dari data Horsepower."
      ]
    },
    {
      "cell_type": "markdown",
      "metadata": {
        "id": "fmbnKh4j9EAV"
      },
      "source": [
        "Prediksi fungsi linier\n",
        "$$Z_1=w_1X+b_1$$\n",
        "$$Y=w_2Z_1+b_2$$\n",
        "$$Y=w_2(w_1X+b_1)+b_2$$\n",
        "$$Y=(w_2w_1)X+(w_2b_1+b_2)$$\n",
        "Fungsi aktivasi -> membuat jaringan nonlinier\n"
      ]
    },
    {
      "cell_type": "code",
      "metadata": {
        "colab": {
          "base_uri": "https://localhost:8080/",
          "height": 386
        },
        "id": "jgLjulc8rFK0",
        "outputId": "5057d8e2-1e24-4bdb-fd2b-3afcf8047b43"
      },
      "source": [
        "dataset_train[\"Horsepower2\"] = dataset_train[\"Horsepower\"]**2\n",
        "dataset_train[\"Horsepower3\"] = dataset_train[\"Horsepower\"]**3\n",
        "dataset_train.head()"
      ],
      "execution_count": null,
      "outputs": [
        {
          "output_type": "stream",
          "text": [
            "/usr/local/lib/python3.7/dist-packages/ipykernel_launcher.py:1: SettingWithCopyWarning: \n",
            "A value is trying to be set on a copy of a slice from a DataFrame.\n",
            "Try using .loc[row_indexer,col_indexer] = value instead\n",
            "\n",
            "See the caveats in the documentation: https://pandas.pydata.org/pandas-docs/stable/user_guide/indexing.html#returning-a-view-versus-a-copy\n",
            "  \"\"\"Entry point for launching an IPython kernel.\n",
            "/usr/local/lib/python3.7/dist-packages/ipykernel_launcher.py:2: SettingWithCopyWarning: \n",
            "A value is trying to be set on a copy of a slice from a DataFrame.\n",
            "Try using .loc[row_indexer,col_indexer] = value instead\n",
            "\n",
            "See the caveats in the documentation: https://pandas.pydata.org/pandas-docs/stable/user_guide/indexing.html#returning-a-view-versus-a-copy\n",
            "  \n"
          ],
          "name": "stderr"
        },
        {
          "output_type": "execute_result",
          "data": {
            "text/html": [
              "<div>\n",
              "<style scoped>\n",
              "    .dataframe tbody tr th:only-of-type {\n",
              "        vertical-align: middle;\n",
              "    }\n",
              "\n",
              "    .dataframe tbody tr th {\n",
              "        vertical-align: top;\n",
              "    }\n",
              "\n",
              "    .dataframe thead th {\n",
              "        text-align: right;\n",
              "    }\n",
              "</style>\n",
              "<table border=\"1\" class=\"dataframe\">\n",
              "  <thead>\n",
              "    <tr style=\"text-align: right;\">\n",
              "      <th></th>\n",
              "      <th>Horsepower</th>\n",
              "      <th>MPG</th>\n",
              "      <th>Horsepower2</th>\n",
              "      <th>Horsepower3</th>\n",
              "    </tr>\n",
              "  </thead>\n",
              "  <tbody>\n",
              "    <tr>\n",
              "      <th>0</th>\n",
              "      <td>0.663285</td>\n",
              "      <td>-0.705552</td>\n",
              "      <td>0.439947</td>\n",
              "      <td>0.291811</td>\n",
              "    </tr>\n",
              "    <tr>\n",
              "      <th>1</th>\n",
              "      <td>1.572585</td>\n",
              "      <td>-1.089381</td>\n",
              "      <td>2.473024</td>\n",
              "      <td>3.889041</td>\n",
              "    </tr>\n",
              "    <tr>\n",
              "      <th>2</th>\n",
              "      <td>1.182885</td>\n",
              "      <td>-0.705552</td>\n",
              "      <td>1.399217</td>\n",
              "      <td>1.655114</td>\n",
              "    </tr>\n",
              "    <tr>\n",
              "      <th>3</th>\n",
              "      <td>1.182885</td>\n",
              "      <td>-0.961438</td>\n",
              "      <td>1.399217</td>\n",
              "      <td>1.655114</td>\n",
              "    </tr>\n",
              "    <tr>\n",
              "      <th>4</th>\n",
              "      <td>0.923085</td>\n",
              "      <td>-0.833495</td>\n",
              "      <td>0.852086</td>\n",
              "      <td>0.786548</td>\n",
              "    </tr>\n",
              "  </tbody>\n",
              "</table>\n",
              "</div>"
            ],
            "text/plain": [
              "   Horsepower       MPG  Horsepower2  Horsepower3\n",
              "0    0.663285 -0.705552     0.439947     0.291811\n",
              "1    1.572585 -1.089381     2.473024     3.889041\n",
              "2    1.182885 -0.705552     1.399217     1.655114\n",
              "3    1.182885 -0.961438     1.399217     1.655114\n",
              "4    0.923085 -0.833495     0.852086     0.786548"
            ]
          },
          "metadata": {
            "tags": []
          },
          "execution_count": 72
        }
      ]
    },
    {
      "cell_type": "code",
      "metadata": {
        "colab": {
          "base_uri": "https://localhost:8080/",
          "height": 297
        },
        "id": "hWyDkdPDrYhg",
        "outputId": "6419d055-bf76-438c-f45f-9a7bdfecbc54"
      },
      "source": [
        "X_train, y_train = split(dataset_train)\n",
        "result = train(X_train, y_train, 10000, 0.0005, print_cost = False)\n",
        "x_res = np.arange(X_train[:,0].min(), X_train[:,0].max(), 0.1)\n",
        "y_res = (result['w'][0] * x_res) + (result['w'][1] * x_res**2) + result['b']\n",
        "plt.scatter(X_train[:,0], y_train)\n",
        "plt.plot(x_res, y_res, color = \"red\")"
      ],
      "execution_count": null,
      "outputs": [
        {
          "output_type": "stream",
          "text": [
            "train accuracy: 83.59029034702581 %\n"
          ],
          "name": "stdout"
        },
        {
          "output_type": "execute_result",
          "data": {
            "text/plain": [
              "[<matplotlib.lines.Line2D at 0x7fa3a67e2a50>]"
            ]
          },
          "metadata": {
            "tags": []
          },
          "execution_count": 77
        },
        {
          "output_type": "display_data",
          "data": {
            "image/png": "[encoded data removed]",
            "text/plain": [
              "<Figure size 432x288 with 1 Axes>"
            ]
          },
          "metadata": {
            "tags": [],
            "needs_background": "light"
          }
        }
      ]
    },
    {
      "cell_type": "markdown",
      "metadata": {
        "id": "4afcVn1isu3R"
      },
      "source": [
        "Perhatikan bahwa regresi kita jadi lebih baik bukan? Regresi polinom sampai orde-n pun memungkinkan dengan teknik yang serupa. Tapi melihat datanya, maka regresi kuadratik sudah dirasa cukup."
      ]
    },
    {
      "cell_type": "markdown",
      "metadata": {
        "id": "KeB_-lfOPpS8"
      },
      "source": [
        "## Tugas"
      ]
    },
    {
      "cell_type": "markdown",
      "metadata": {
        "id": "WspCpGxaQNMT"
      },
      "source": [
        "1. Menuju OOP\n",
        "\n",
        "Perhatikan dengan seksama kode-kode di atas. Sangat tidak efektif kan? Banyak parameter fungsi yang dioper berkali-kali dan juga pemanfaatan variabel yang boros. Silakan ubah kode di atas menjadi berparadigma OOP!"
      ]
    },
    {
      "cell_type": "markdown",
      "metadata": {
        "id": "wp4YgWyTPren"
      },
      "source": [
        "2. Coba data lain\n",
        "\n",
        "Sekarang, gunakan dataset berikut"
      ]
    },
    {
      "cell_type": "code",
      "metadata": {
        "id": "s9mkcVWcE2Nf",
        "colab": {
          "base_uri": "https://localhost:8080/"
        },
        "outputId": "69175656-dee7-497f-e7a6-1d35af0056fa"
      },
      "source": [
        "ds_train = pd.read_csv(\"/content/sample_data/california_housing_train.csv\")\n",
        "features = ['total_rooms', 'total_bedrooms', 'population', 'housing_median_age', 'median_house_value']\n",
        "normalize(ds_train)\n",
        "print(\"Data training:\")\n",
        "print(ds_train.describe())\n",
        "N = len(ds_train)\n",
        "\n",
        "x_features = ['total_rooms']\n",
        "target = ['median_house_value']\n",
        "\n",
        "X_train = np.array(ds_train[x_features]).reshape((N,1))\n",
        "y_train = np.array(ds_train[target]).reshape((N,1))"
      ],
      "execution_count": null,
      "outputs": [
        {
          "output_type": "stream",
          "text": [
            "Data training:\n",
            "          longitude      latitude  ...  median_income  median_house_value\n",
            "count  17000.000000  17000.000000  ...   17000.000000        1.700000e+04\n",
            "mean    -119.562108     35.625225  ...       3.883578       -4.114160e-16\n",
            "std        2.005166      2.137340  ...       1.908157        1.000000e+00\n",
            "min     -124.350000     32.540000  ...       0.499900       -1.658007e+00\n",
            "25%     -121.790000     33.930000  ...       2.566375       -7.578726e-01\n",
            "50%     -118.490000     34.250000  ...       3.544600       -2.319369e-01\n",
            "75%     -118.000000     37.720000  ...       4.767000        4.974756e-01\n",
            "max     -114.310000     41.950000  ...      15.000100        2.523630e+00\n",
            "\n",
            "[8 rows x 9 columns]\n"
          ],
          "name": "stdout"
        }
      ]
    },
    {
      "cell_type": "markdown",
      "metadata": {
        "id": "NxlusCy3dawq"
      },
      "source": [
        "Berikan analisis terbaikmu menggunakan regresi polinom"
      ]
    },
    {
      "cell_type": "markdown",
      "metadata": {
        "id": "W_cpLMldTxyF"
      },
      "source": [
        "(JAWABAN)"
      ]
    },
    {
      "cell_type": "markdown",
      "metadata": {
        "id": "uc0L6qo5UjxV"
      },
      "source": [
        "**Catatan untuk grader:**\n",
        "Jawaban di bawah hanya untuk contoh saja, karena banyak variasi yang bisa dibuat dari tugas yang diberikan. \n",
        "\n",
        "1. Untuk tugas OOP: (1) Kelas bisa dipakai (diterapkan ke dataset dan  berhasil jalan dengan baik); (2) Strukturisasi kelasnya bagus (prinsip 1 metode/fungsi hanya menjalankan 1 tugas);\n",
        "\n",
        "2. Untuk tugas regresi data lain: (1) Data preparationnya dilakukan dengan baik (dilakukan normalisasi dan mengubahnya menjadi array X dan Y); (2) Proses training baik, artinya cost berkurang iterasi dan dalam skala yang benar (sekitar 0-2); (3) Dilakukan plotting hasil dengan data; (4) Analisis terhadap hasil yang didapatkan secara jelas"
      ]
    },
    {
      "cell_type": "code",
      "metadata": {
        "id": "72-b5FVRT0Vp"
      },
      "source": [
        "class LinearRegressor(object):\n",
        "    def __init__(self, initializer = \"random\", cost_log = True):\n",
        "        self.W = None\n",
        "        self.b = None\n",
        "        self.print_cost = cost_log\n",
        "        self.initializer = initializer\n",
        "\n",
        "    def initialize_with_zeros(self, num_features):\n",
        "        self.w = np.zeros((num_features, 1))\n",
        "        self.b = 0.\n",
        "\n",
        "    def initialize_random(self, num_features):\n",
        "        self.w = np.random.rand(num_features, 1)\n",
        "        self.b = np.random.rand(1)\n",
        "\n",
        "    def setup(self, X, Y, num_iterations = 2000, learning_rate = 0.5):\n",
        "        if self.initializer == \"zeros\":\n",
        "          self.initialize_with_zeros(X.shape[1])\n",
        "        else:\n",
        "          self.initialize_random(X.shape[1])\n",
        "        self.costs = []\n",
        "        self.X = X\n",
        "        self.Y = Y\n",
        "        self.num_iterations = num_iterations\n",
        "        self.learning_rate = learning_rate\n",
        "\n",
        "    def propagate(self):\n",
        "        N = self.X.shape[0]\n",
        "\n",
        "        # Forward\n",
        "        Z = np.dot(self.X, self.w) + self.b\n",
        "        e = self.Y - Z\n",
        "        self.costs.append(np.dot(e.T, e) / N)\n",
        "\n",
        "        # Backward\n",
        "        dz = - 2 * e / N\n",
        "        dw = np.dot(self.X.T, dz)\n",
        "        db = np.sum(dz)\n",
        "        \n",
        "        return dw, db\n",
        "\n",
        "    def optimize(self):\n",
        "        for i in range(self.num_iterations):\n",
        "            dw, db = self.propagate()\n",
        "\n",
        "            self.w -= self.learning_rate * dw\n",
        "            self.b -= self.learning_rate * db\n",
        "            \n",
        "            if (i % 100 == 0) and (self.print_cost):\n",
        "                  print (\"Cost after iteration %i: %f\" %(i, self.costs[i]))\n",
        "        \n",
        "    def predict(self):\n",
        "        return np.dot(self.X, self.w) + self.b\n",
        "              \n",
        "    def train(self):\n",
        "        self.optimize()\n",
        "        Y_pred = self.predict()\n",
        "        accuracy = np.mean(np.abs(Y_pred - self.Y)) * 100\n",
        "        print(\"train accuracy: {} %\".format(accuracy))\n",
        "\n",
        "    def plot_result(self):\n",
        "      x_res = np.arange(self.X[:,0].min(), self.X[:,0].max(), 0.1)\n",
        "      y_res = (self.w[0] * x_res) + self.b\n",
        "      plt.scatter(self.X[:,0], self.Y)\n",
        "      plt.plot(x_res, y_res, color = \"red\")      "
      ],
      "execution_count": null,
      "outputs": []
    },
    {
      "cell_type": "code",
      "metadata": {
        "id": "WsbAH2DsXWQt",
        "colab": {
          "base_uri": "https://localhost:8080/",
          "height": 1000
        },
        "outputId": "86a27bb7-5ebd-4cdd-ddbc-04159de48344"
      },
      "source": [
        "model = LinearRegressor()\n",
        "model.setup(X_train, y_train, 10000, 0.0005)\n",
        "model.train()\n",
        "model.plot_result()"
      ],
      "execution_count": null,
      "outputs": [
        {
          "output_type": "stream",
          "text": [
            "Cost after iteration 0: 1.429371\n",
            "Cost after iteration 100: 1.348383\n",
            "Cost after iteration 200: 1.282082\n",
            "Cost after iteration 300: 1.227805\n",
            "Cost after iteration 400: 1.183371\n",
            "Cost after iteration 500: 1.146994\n",
            "Cost after iteration 600: 1.117215\n",
            "Cost after iteration 700: 1.092836\n",
            "Cost after iteration 800: 1.072878\n",
            "Cost after iteration 900: 1.056540\n",
            "Cost after iteration 1000: 1.043164\n",
            "Cost after iteration 1100: 1.032214\n",
            "Cost after iteration 1200: 1.023250\n",
            "Cost after iteration 1300: 1.015911\n",
            "Cost after iteration 1400: 1.009904\n",
            "Cost after iteration 1500: 1.004985\n",
            "Cost after iteration 1600: 1.000959\n",
            "Cost after iteration 1700: 0.997663\n",
            "Cost after iteration 1800: 0.994965\n",
            "Cost after iteration 1900: 0.992756\n",
            "Cost after iteration 2000: 0.990947\n",
            "Cost after iteration 2100: 0.989467\n",
            "Cost after iteration 2200: 0.988255\n",
            "Cost after iteration 2300: 0.987262\n",
            "Cost after iteration 2400: 0.986450\n",
            "Cost after iteration 2500: 0.985785\n",
            "Cost after iteration 2600: 0.985241\n",
            "Cost after iteration 2700: 0.984795\n",
            "Cost after iteration 2800: 0.984430\n",
            "Cost after iteration 2900: 0.984132\n",
            "Cost after iteration 3000: 0.983887\n",
            "Cost after iteration 3100: 0.983687\n",
            "Cost after iteration 3200: 0.983523\n",
            "Cost after iteration 3300: 0.983389\n",
            "Cost after iteration 3400: 0.983279\n",
            "Cost after iteration 3500: 0.983189\n",
            "Cost after iteration 3600: 0.983116\n",
            "Cost after iteration 3700: 0.983055\n",
            "Cost after iteration 3800: 0.983006\n",
            "Cost after iteration 3900: 0.982966\n",
            "Cost after iteration 4000: 0.982933\n",
            "Cost after iteration 4100: 0.982906\n",
            "Cost after iteration 4200: 0.982883\n",
            "Cost after iteration 4300: 0.982865\n",
            "Cost after iteration 4400: 0.982850\n",
            "Cost after iteration 4500: 0.982838\n",
            "Cost after iteration 4600: 0.982828\n",
            "Cost after iteration 4700: 0.982820\n",
            "Cost after iteration 4800: 0.982814\n",
            "Cost after iteration 4900: 0.982808\n",
            "Cost after iteration 5000: 0.982804\n",
            "Cost after iteration 5100: 0.982800\n",
            "Cost after iteration 5200: 0.982797\n",
            "Cost after iteration 5300: 0.982794\n",
            "Cost after iteration 5400: 0.982792\n",
            "Cost after iteration 5500: 0.982791\n",
            "Cost after iteration 5600: 0.982789\n",
            "Cost after iteration 5700: 0.982788\n",
            "Cost after iteration 5800: 0.982787\n",
            "Cost after iteration 5900: 0.982787\n",
            "Cost after iteration 6000: 0.982786\n",
            "Cost after iteration 6100: 0.982786\n",
            "Cost after iteration 6200: 0.982785\n",
            "Cost after iteration 6300: 0.982785\n",
            "Cost after iteration 6400: 0.982785\n",
            "Cost after iteration 6500: 0.982784\n",
            "Cost after iteration 6600: 0.982784\n",
            "Cost after iteration 6700: 0.982784\n",
            "Cost after iteration 6800: 0.982784\n",
            "Cost after iteration 6900: 0.982784\n",
            "Cost after iteration 7000: 0.982784\n",
            "Cost after iteration 7100: 0.982784\n",
            "Cost after iteration 7200: 0.982784\n",
            "Cost after iteration 7300: 0.982784\n",
            "Cost after iteration 7400: 0.982784\n",
            "Cost after iteration 7500: 0.982784\n",
            "Cost after iteration 7600: 0.982784\n",
            "Cost after iteration 7700: 0.982784\n",
            "Cost after iteration 7800: 0.982783\n",
            "Cost after iteration 7900: 0.982783\n",
            "Cost after iteration 8000: 0.982783\n",
            "Cost after iteration 8100: 0.982783\n",
            "Cost after iteration 8200: 0.982783\n",
            "Cost after iteration 8300: 0.982783\n",
            "Cost after iteration 8400: 0.982783\n",
            "Cost after iteration 8500: 0.982783\n",
            "Cost after iteration 8600: 0.982783\n",
            "Cost after iteration 8700: 0.982783\n",
            "Cost after iteration 8800: 0.982783\n",
            "Cost after iteration 8900: 0.982783\n",
            "Cost after iteration 9000: 0.982783\n",
            "Cost after iteration 9100: 0.982783\n",
            "Cost after iteration 9200: 0.982783\n",
            "Cost after iteration 9300: 0.982783\n",
            "Cost after iteration 9400: 0.982783\n",
            "Cost after iteration 9500: 0.982783\n",
            "Cost after iteration 9600: 0.982783\n",
            "Cost after iteration 9700: 0.982783\n",
            "Cost after iteration 9800: 0.982783\n",
            "Cost after iteration 9900: 0.982783\n",
            "train accuracy: 77.97620235880176 %\n"
          ],
          "name": "stdout"
        },
        {
          "output_type": "display_data",
          "data": {
            "image/png": "[encoded data removed]",
            "text/plain": [
              "<Figure size 432x288 with 1 Axes>"
            ]
          },
          "metadata": {
            "tags": [],
            "needs_background": "light"
          }
        }
      ]
    }
  ]
}