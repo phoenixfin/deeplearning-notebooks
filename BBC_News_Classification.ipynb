{
  "nbformat": 4,
  "nbformat_minor": 0,
  "metadata": {
    "colab": {
      "name": "BBC News Classification",
      "provenance": [],
      "collapsed_sections": [
        "J7N0A1ws3sAT"
      ],
      "authorship_tag": "ABX9TyOSeY3GpI0f/2mJmx9Ek5C/",
      "include_colab_link": true
    },
    "kernelspec": {
      "name": "python3",
      "display_name": "Python 3"
    },
    "accelerator": "GPU"
  },
  "cells": [
    {
      "cell_type": "markdown",
      "metadata": {
        "id": "view-in-github",
        "colab_type": "text"
      },
      "source": [
        "<a href=\"https://colab.research.google.com/github/phoenixfin/deeplearning-notebooks/blob/main/BBC_News_Classification.ipynb\" target=\"_parent\"><img src=\"https://colab.research.google.com/assets/colab-badge.svg\" alt=\"Open In Colab\"/></a>"
      ]
    },
    {
      "cell_type": "markdown",
      "metadata": {
        "id": "ZAhL0E9ol0we"
      },
      "source": [
        "# Document Classification\n",
        "\n",
        "---\n",
        "\n",
        "Aditya Firman Ihsan"
      ]
    },
    {
      "cell_type": "markdown",
      "metadata": {
        "id": "CRYuP6-Jn_C0"
      },
      "source": [
        "## Persiapan"
      ]
    },
    {
      "cell_type": "markdown",
      "metadata": {
        "id": "J7N0A1ws3sAT"
      },
      "source": [
        "### Import library"
      ]
    },
    {
      "cell_type": "code",
      "metadata": {
        "id": "GNfGRGYecE5G"
      },
      "source": [
        "import tensorflow as tf\n",
        "import numpy as np\n",
        "import os, random\n",
        "from google.colab import drive\n",
        "from matplotlib import pyplot as plt"
      ],
      "execution_count": null,
      "outputs": []
    },
    {
      "cell_type": "code",
      "metadata": {
        "colab": {
          "base_uri": "https://localhost:8080/",
          "height": 35
        },
        "id": "DzDTNg3J1Hj3",
        "outputId": "f38c6c98-de19-4cdc-c777-96d61ef176b9"
      },
      "source": [
        "tf.__version__"
      ],
      "execution_count": null,
      "outputs": [
        {
          "output_type": "execute_result",
          "data": {
            "application/vnd.google.colaboratory.intrinsic+json": {
              "type": "string"
            },
            "text/plain": [
              "'2.3.0'"
            ]
          },
          "metadata": {
            "tags": []
          },
          "execution_count": 12
        }
      ]
    },
    {
      "cell_type": "markdown",
      "metadata": {
        "id": "ze_hKf-40mPO"
      },
      "source": [
        "### Mengunduh dataset\n"
      ]
    },
    {
      "cell_type": "markdown",
      "metadata": {
        "id": "pPULZoxNoHrp"
      },
      "source": [
        "Menginstall modul terbaru yang akan dipakai untuk mengunduh dataset dari [Kaggle](https://kaggle.com)"
      ]
    },
    {
      "cell_type": "code",
      "metadata": {
        "id": "ded_8hq6cK8V"
      },
      "source": [
        "%%capture\n",
        "!pip install kaggle --upgrade"
      ],
      "execution_count": null,
      "outputs": []
    },
    {
      "cell_type": "markdown",
      "metadata": {
        "id": "2kL0utL2olns"
      },
      "source": [
        "Muat isi Google Drive untuk mengakses file json dari API Kaggle. File ini dibutuhkan untuk mengakses langsung dataset dari Kaggle. Pastikan anda sudah membuat token pribadi anda sendiri di website Kaggle (buka bagian *My Account* di halaman profil, kemudian klik *Create New Api Token*) dan menaruhnya di Google Drive.\n",
        "\n",
        "Cukup *uncomment* blok kode di bawah, jalankan, ikuti pranala yang diberikan, beri akses oleh akun Google yang anda miliki, dan salin kode verifikasi yang diberikan.\n",
        "\n",
        "Alternatifnya, anda cukup klik ikon *Mount Drive* di *Files pane* di sisi kiri jendela colab ini.\n"
      ]
    },
    {
      "cell_type": "code",
      "metadata": {
        "colab": {
          "base_uri": "https://localhost:8080/"
        },
        "id": "0XBkVBVNcutC",
        "outputId": "aeb07f18-3eb1-4d70-d182-abcf7706bb42"
      },
      "source": [
        " drive.mount('/content/drive')"
      ],
      "execution_count": null,
      "outputs": [
        {
          "output_type": "stream",
          "text": [
            "Drive already mounted at /content/drive; to attempt to forcibly remount, call drive.mount(\"/content/drive\", force_remount=True).\n"
          ],
          "name": "stdout"
        }
      ]
    },
    {
      "cell_type": "markdown",
      "metadata": {
        "id": "cCKXaDO5tvjg"
      },
      "source": [
        "Blok kode berikut untuk memastikan modul kaggle akan membaca token yang telah anda siapkan.\n",
        "\n",
        "Isikan variabel `json_path` dengan *path* dari file json API yang anda telah taruh di Google Drive."
      ]
    },
    {
      "cell_type": "code",
      "metadata": {
        "id": "pGvsnQYucbjX"
      },
      "source": [
        "json_path = \"Colab Notebooks/misc/\"\n",
        "\n",
        "os.environ['KAGGLE_CONFIG_DIR'] = \"/content/drive/My Drive/\"+json_path"
      ],
      "execution_count": null,
      "outputs": []
    },
    {
      "cell_type": "markdown",
      "metadata": {
        "id": "hX21zLP92L66"
      },
      "source": [
        "Unduh dataset yang akan digunakan. Dalam notebook ini, akan digunakan data teks Dokumen BBC yang berisi 2225 file `.txt` yang telah dikelompokkan dalam 5 kelas berbeda.\n",
        "\n",
        "Info selengkapnya mengenai dataset ini bisa lihat [di sini](https://www.kaggle.com/shivamkushwaha/bbc-full-text-document-classification)"
      ]
    },
    {
      "cell_type": "code",
      "metadata": {
        "colab": {
          "base_uri": "https://localhost:8080/"
        },
        "id": "NUwFE8Q5dehE",
        "outputId": "4aadadb4-a578-46bd-b76b-14bcd6dcfc87"
      },
      "source": [
        "!kaggle datasets download -d shivamkushwaha/bbc-full-text-document-classification"
      ],
      "execution_count": null,
      "outputs": [
        {
          "output_type": "stream",
          "text": [
            "Downloading bbc-full-text-document-classification.zip to /content\n",
            "\r  0% 0.00/5.59M [00:00<?, ?B/s]\n",
            "\r100% 5.59M/5.59M [00:00<00:00, 226MB/s]\n"
          ],
          "name": "stdout"
        }
      ]
    },
    {
      "cell_type": "markdown",
      "metadata": {
        "id": "6z6I9Jod2-C0"
      },
      "source": [
        "Ekstrak file zip yang telah diunduh dan kemudian menghapus file zip tersebut untuk membersihkan memori. Pastikan kemudian di *Files pane*, muncul folder `bbc`. Silakan cek isinya. \n",
        "\n",
        "Jika belum muncul folder tersebut, bisa klik ikon `refresh`."
      ]
    },
    {
      "cell_type": "code",
      "metadata": {
        "id": "dGe_fXrMduY_"
      },
      "source": [
        "%%capture\n",
        "!unzip \\*.zip  && rm *.zip;"
      ],
      "execution_count": null,
      "outputs": []
    },
    {
      "cell_type": "markdown",
      "metadata": {
        "id": "8RO-m7xb3ich"
      },
      "source": [
        "## Membangun Model"
      ]
    },
    {
      "cell_type": "markdown",
      "metadata": {
        "id": "XnceHkDG3w0g"
      },
      "source": [
        "### Menyiapkan semua hiperparameter"
      ]
    },
    {
      "cell_type": "markdown",
      "metadata": {
        "id": "65VRmpmq3zxw"
      },
      "source": [
        "Berikut adalah semua hiperparameter yang akan digunakan di model. Semuanya akan berpengaruh pada performa training."
      ]
    },
    {
      "cell_type": "code",
      "metadata": {
        "id": "5yBsmXYFmz3S"
      },
      "source": [
        "batch_size = 32\n",
        "split = 0.2\n",
        "seed = 12\n",
        "vocab_size = 1000\n",
        "embedding_dim = 64\n",
        "max_length = 1000\n",
        "num_epochs = 100\n",
        "stopping_patience = 10\n",
        "success_threshold = 0.9\n",
        "learning_rate = 0.0005"
      ],
      "execution_count": null,
      "outputs": []
    },
    {
      "cell_type": "markdown",
      "metadata": {
        "id": "5CAcuoFr4Pon"
      },
      "source": [
        "### Data Preprocessing"
      ]
    },
    {
      "cell_type": "markdown",
      "metadata": {
        "id": "QQa6VJ024eUZ"
      },
      "source": [
        "Memuat dataset dari direktori menggunakan metode\n",
        "[`text_dataset_from_directory`](https://www.tensorflow.org/api_docs/python/tf/keras/preprocessing/text_dataset_from_directory) sehingga diperoleh 2 objek `BatchDataset` dari tensorflow untuk training dan validasi"
      ]
    },
    {
      "cell_type": "code",
      "metadata": {
        "colab": {
          "base_uri": "https://localhost:8080/"
        },
        "id": "u0vlYZqod39-",
        "outputId": "2deb2ed8-bb48-429d-a408-dcea38839c74"
      },
      "source": [
        "dir_path = '/content/bbc'\n",
        "\n",
        "kwargs = {\n",
        "    'directory': dir_path, \n",
        "    'batch_size': batch_size, \n",
        "    'validation_split': split,\n",
        "    'seed': seed}\n",
        "\n",
        "train_ds_raw = tf.keras.preprocessing.text_dataset_from_directory(\n",
        "    subset='training', **kwargs)\n",
        "val_ds_raw = tf.keras.preprocessing.text_dataset_from_directory(\n",
        "    subset='validation', **kwargs)\n"
      ],
      "execution_count": null,
      "outputs": [
        {
          "output_type": "stream",
          "text": [
            "Found 2225 files belonging to 5 classes.\n",
            "Using 1780 files for training.\n",
            "Found 2225 files belonging to 5 classes.\n",
            "Using 445 files for validation.\n"
          ],
          "name": "stdout"
        }
      ]
    },
    {
      "cell_type": "markdown",
      "metadata": {
        "id": "S9vBHihxZfCm"
      },
      "source": [
        "Memeriksa isi dari dataset yang telah digenerate dengan beberapa sampel"
      ]
    },
    {
      "cell_type": "code",
      "metadata": {
        "colab": {
          "base_uri": "https://localhost:8080/"
        },
        "id": "egUSJ8ZPY5Cc",
        "outputId": "38233725-859e-4d3e-8c22-eb4265398ed1"
      },
      "source": [
        "labels = os.listdir('bbc')[:-1]\n",
        "for text_batch, label_batch in train_ds_raw.take(1):\n",
        "    for i in range(10):\n",
        "        print(\"Text: \", text_batch.numpy()[i][:100], '...')\n",
        "        print(\"Label:\", labels[label_batch.numpy()[i]])\n",
        "        print('---')"
      ],
      "execution_count": null,
      "outputs": [
        {
          "output_type": "stream",
          "text": [
            "Text:  b\"Mobiles 'not media players yet'\\n\\nMobiles are not yet ready to be all-singing, all-dancing multimedia\" ...\n",
            "Label: entertainment\n",
            "---\n",
            "Text:  b'Air passengers win new EU rights\\n\\nAir passengers who are unable to board their flights because of ov' ...\n",
            "Label: politics\n",
            "---\n",
            "Text:  b'What price for \\'trusted PC security\\'?\\n\\nYou can now buy \"trusted computers\", but can we really trust ' ...\n",
            "Label: entertainment\n",
            "---\n",
            "Text:  b'Queen recruit singer for new tour\\n\\nThe remaining members of rock band Queen are to go on tour next y' ...\n",
            "Label: business\n",
            "---\n",
            "Text:  b\"Chelsea ridiculed over complaint\\n\\nBarcelona assistant coach Henk Ten Cate has branded Chelsea's expe\" ...\n",
            "Label: sport\n",
            "---\n",
            "Text:  b'Costin aims for comeback in 2006\\n\\nJamie Costin should be paralysed.\\n\\nHe says so himself in a matter-' ...\n",
            "Label: sport\n",
            "---\n",
            "Text:  b\"Kenya lift Chepkemei's suspension\\n\\nKenya's athletics body has reversed a ban on marathon runner Susa\" ...\n",
            "Label: sport\n",
            "---\n",
            "Text:  b\"Tsunami 'to hit Sri Lanka banks'\\n\\nSri Lanka's banks face hard times following December's tsunami dis\" ...\n",
            "Label: politics\n",
            "---\n",
            "Text:  b'Wenger steps up row\\n\\nArsene Wenger has stepped up his feud with Sir Alex Ferguson by claiming the Ma' ...\n",
            "Label: sport\n",
            "---\n",
            "Text:  b'Running around the Olympics\\n\\nIt was back to official duties last week in my role as an ambassador to' ...\n",
            "Label: sport\n",
            "---\n"
          ],
          "name": "stdout"
        }
      ]
    },
    {
      "cell_type": "markdown",
      "metadata": {
        "id": "ocnId4AV5y0d"
      },
      "source": [
        "Menyiapkan proses tokenisasi menggunakan layer [`TextVectorization`](https://www.tensorflow.org/api_docs/python/tf/keras/layers/experimental/preprocessing/TextVectorization) yang telah disediakan tensorflow. Data text yang ada dikonversi ke data integer. Kamus tokenisasi dibangun dari `train_ds`"
      ]
    },
    {
      "cell_type": "code",
      "metadata": {
        "id": "rg7a9sgQkabH"
      },
      "source": [
        "vectorizer = tf.keras.layers.experimental.preprocessing.TextVectorization(\n",
        "    max_tokens = vocab_size,\n",
        "    output_sequence_length=max_length\n",
        ")"
      ],
      "execution_count": null,
      "outputs": []
    },
    {
      "cell_type": "code",
      "metadata": {
        "id": "nhVcd8ECoP-L"
      },
      "source": [
        "train_text = train_ds_raw.map(lambda text, labels: text)\n",
        "vectorizer.adapt(train_text)"
      ],
      "execution_count": null,
      "outputs": []
    },
    {
      "cell_type": "markdown",
      "metadata": {
        "id": "MogXOTrYaAt8"
      },
      "source": [
        "Menerapkan tokenisasi pada seluruh dataset"
      ]
    },
    {
      "cell_type": "code",
      "metadata": {
        "id": "6-Uc1GCdolTp"
      },
      "source": [
        "def prepare_dataset(dataset):\n",
        "    def tokenize(text, label):\n",
        "        text = tf.expand_dims(text, -1)\n",
        "        return vectorizer(text), label\n",
        "    dataset = dataset.map(tokenize)\n",
        "    dataset = dataset.cache()\n",
        "    return dataset.prefetch(buffer_size=tf.data.experimental.AUTOTUNE)\n",
        "\n",
        "train_ds = prepare_dataset(train_ds_raw)\n",
        "val_ds = prepare_dataset(val_ds_raw)"
      ],
      "execution_count": null,
      "outputs": []
    },
    {
      "cell_type": "markdown",
      "metadata": {
        "id": "zjzl6NG1aIal"
      },
      "source": [
        "Periksa hasil tokenisasi dengan sampel"
      ]
    },
    {
      "cell_type": "code",
      "metadata": {
        "colab": {
          "base_uri": "https://localhost:8080/"
        },
        "id": "vJtNLaZcaOwQ",
        "outputId": "9b448dee-1c68-407f-dbde-029b8c8c5ee5"
      },
      "source": [
        "for token_batch, _ in train_ds.take(1):\n",
        "    for i in range(5):\n",
        "        print(\"Tokens: \", token_batch.numpy()[i][:100], '...')\n",
        "        print('----------------')"
      ],
      "execution_count": null,
      "outputs": [
        {
          "output_type": "stream",
          "text": [
            "Tokens:  [254   1 342 423  21   1   2 254   4 162  18 372 342 530  11 557 325  21\n",
            "   1   7   6   1 233 530 378  46 180 288  26 570 232  19   2 254   1   3\n",
            "   1   2   1 121   5 499 696  24  20   1   1 131   1 355 265  18   1   6\n",
            "   1   7   1   5 499 371  19 107  19   7   1   1   5   1 189   1  61 784\n",
            "  17 357   1   2   1 125   3 314 499   1   1 342 530   5   2   1   1   7\n",
            "   2   1 121  20   1 572   1   1   6   1] ...\n",
            "----------------\n",
            "Tokens:  [  1   1  88   1 234 620 191 156   1  20  39   1   3   1  21   2  76   1\n",
            " 234   1   7 472  53   1   1   3   2 421   1   1   1   1   1   1   5   1\n",
            "   1  22   1 237   1  21   2 648   7 282   1   1   2   1 172   1 234 502\n",
            "  63 259   5   1   1  46  17   1   1 840   2   1 237   3   1 252 212 102\n",
            "   1   1   7   1 212  11  31   1 945 546   2 172   1 234 502   1  75 133\n",
            "   3 184  12   1   5  87   1   8   2 501] ...\n",
            "----------------\n",
            "Tokens:  [  1   1 684   1   2 738   4   6  90  50   2   1   1   1   7   1  18  39\n",
            "   1 367   1  23 127  11 673   8   2   1   1   2   1  37   1  42  56   1\n",
            "  45   5   1   1   2  90 643 586  38  39 315   3 235 438 794  11 586  24\n",
            "   1  45 748   7   1  17   2   1  12  13  96  27  15   1 385   2 673   9\n",
            "  61   1 289 296   1   2 331 670 385 871 459 643 586   9 526   1   2   1\n",
            "   4   2 227 616   1  23   1 986   1   1] ...\n",
            "----------------\n",
            "Tokens:  [  1   1   1   1   1   1  98   1 302  17 517  61  48 235 630   1   1  21\n",
            "   2   1   1  11 495   2   1   1  44   9 185   6 480 343   7  98 119 234\n",
            " 150   1   1   7 918   4   6   1   1  13  14   1   1   1 517 367  98  65\n",
            "   1   1 126   7   1  63 259 316   1   1   1  11  98   1 568  17   6   1\n",
            "   1 126  61   1   1   1   1   1 512   1   3  33   1 507  53   2 149  99\n",
            "  84   1  74   1   1 924 125  24   1   6] ...\n",
            "----------------\n",
            "Tokens:  [402   1   1   1 178 178   3   1   1   1  20  39   1  23   2 937  19 145\n",
            "   4  40   1   3 142 135  77   1   1  59  15 324 194  77   1  36  43  15\n",
            "   1 165 775  37   2 402 137  36   1  42  56   1 394   2   1  25   1 641\n",
            " 813   5   2  47   1 407   1   8   1 386   1 373   1  12 272 512   6   1\n",
            "  77   5 963 846   3  15   1   2 178  36   1   1   1   5  69   1   1  92\n",
            "  19   1   1   1 650   5   1  40   1  36] ...\n",
            "----------------\n"
          ],
          "name": "stdout"
        }
      ]
    },
    {
      "cell_type": "markdown",
      "metadata": {
        "id": "HDvECDbp6XXV"
      },
      "source": [
        "### Setup fungsi"
      ]
    },
    {
      "cell_type": "markdown",
      "metadata": {
        "id": "maeOUOdu6ghl"
      },
      "source": [
        "Akan didefinisikan beberapa fungsi yang akan dibutuhkan kelak:"
      ]
    },
    {
      "cell_type": "markdown",
      "metadata": {
        "id": "elCPLp8l6j4G"
      },
      "source": [
        "#### Fungsi `plot_graphs` untuk menggambar kurva akurasi dan loss"
      ]
    },
    {
      "cell_type": "code",
      "metadata": {
        "id": "i0F28Vj_rgOu"
      },
      "source": [
        "def plot_graphs(history, metric):\n",
        "    plt.plot(history.history[metric])\n",
        "    plt.plot(history.history['val_'+metric])\n",
        "    plt.xlabel(\"Epochs\")\n",
        "    plt.ylabel(metric)\n",
        "    plt.legend([metric, 'val_'+metric])\n",
        "    plt.show()"
      ],
      "execution_count": null,
      "outputs": []
    },
    {
      "cell_type": "markdown",
      "metadata": {
        "id": "marPBSH_6qxp"
      },
      "source": [
        "#### Fungsi `set_callbacks` untuk mengatur callbacks yang akan dipakai di training\n",
        "\n",
        "Callbacks yang digunakan di sini ada 2, yakni untuk menghentikan proses training jika tidak ada progres signifikan dan untuk menghentikan proses training jika sudah mencapai akurasi yang diinginkan"
      ]
    },
    {
      "cell_type": "code",
      "metadata": {
        "id": "sur-mNKORKtp"
      },
      "source": [
        "def set_callbacks(model):\n",
        "    callbacks = []\n",
        "    CB = tf.keras.callbacks\n",
        "\n",
        "    # no progress stopping callback\n",
        "    impatient = CB.EarlyStopping(\n",
        "        monitor='accuracy',\n",
        "        patience = stopping_patience)\n",
        "    callbacks.append(impatient)\n",
        "\n",
        "    # stop when enough callback\n",
        "    def stopper(epoch, logs):\n",
        "        if logs['accuracy'] > success_threshold and logs['val_accuracy'] > success_threshold: \n",
        "            model.stop_training = True\n",
        "    good_res = CB.LambdaCallback(on_epoch_end=lambda e,l: stopper(e,l))\n",
        "    callbacks.append(good_res)\n",
        "                        \n",
        "    return callbacks"
      ],
      "execution_count": null,
      "outputs": []
    },
    {
      "cell_type": "markdown",
      "metadata": {
        "id": "Bdznsqkp7Kny"
      },
      "source": [
        "#### Fungsi `build_model` untuk membangun model ML yang akan digunakan"
      ]
    },
    {
      "cell_type": "markdown",
      "metadata": {
        "id": "K2SngPpp7Rhn"
      },
      "source": [
        "Model yang dibangun adalah model Sequential dengan *Embedding* dan dua lapis *LSTM* dua-arah. Model ditutup dengan layer terkoneksi penuh berisi 5 neuron yang mewakili 5 kelas output dari teks yang diinput. Model selanjutnya dicompile dengan Adam optimizer."
      ]
    },
    {
      "cell_type": "code",
      "metadata": {
        "id": "hJY1TJ6cphXo"
      },
      "source": [
        "def build_model():\n",
        "    model = tf.keras.Sequential([\n",
        "        tf.keras.layers.Embedding(vocab_size, embedding_dim, input_length=max_length, mask_zero=True),\n",
        "        tf.keras.layers.Bidirectional(tf.keras.layers.LSTM(embedding_dim, return_sequences=True)),\n",
        "        tf.keras.layers.Bidirectional(tf.keras.layers.LSTM(embedding_dim)),\n",
        "        tf.keras.layers.Dense(5, activation='softmax')\n",
        "    ])\n",
        "    model.compile(\n",
        "        loss = tf.keras.losses.SparseCategoricalCrossentropy(from_logits=True),\n",
        "        optimizer = tf.keras.optimizers.Adam(learning_rate),\n",
        "        metrics = ['accuracy']\n",
        "    )\n",
        "    model.summary()\n",
        "    return model"
      ],
      "execution_count": null,
      "outputs": []
    },
    {
      "cell_type": "markdown",
      "metadata": {
        "id": "wt0djeOD79qs"
      },
      "source": [
        "## Melatih Model!"
      ]
    },
    {
      "cell_type": "markdown",
      "metadata": {
        "id": "aKTp0NOA8vzR"
      },
      "source": [
        "Nah ini saatnya membungkus semua yang sudah disiapkan.\n",
        "Langsung saja jalankan blok kode di bawah ini untuk melatih model dan langsung menggambar grafik akurasi dan loss-nya."
      ]
    },
    {
      "cell_type": "code",
      "metadata": {
        "colab": {
          "base_uri": "https://localhost:8080/",
          "height": 1000
        },
        "id": "r0AzHRCOq1oo",
        "outputId": "f920feff-b7e0-4c74-e1a1-f9530057c140"
      },
      "source": [
        "model = build_model()\n",
        "history = model.fit(\n",
        "    train_ds, \n",
        "    epochs = num_epochs, \n",
        "    validation_data = val_ds, \n",
        "    callbacks = set_callbacks(model)\n",
        ")\n",
        "plot_graphs(history, \"accuracy\")\n",
        "plot_graphs(history, \"loss\")"
      ],
      "execution_count": null,
      "outputs": [
        {
          "output_type": "stream",
          "text": [
            "Model: \"sequential_8\"\n",
            "_________________________________________________________________\n",
            "Layer (type)                 Output Shape              Param #   \n",
            "=================================================================\n",
            "embedding_8 (Embedding)      (None, 1000, 64)          64000     \n",
            "_________________________________________________________________\n",
            "bidirectional_16 (Bidirectio (None, 1000, 128)         66048     \n",
            "_________________________________________________________________\n",
            "bidirectional_17 (Bidirectio (None, 128)               98816     \n",
            "_________________________________________________________________\n",
            "dense_8 (Dense)              (None, 5)                 645       \n",
            "=================================================================\n",
            "Total params: 229,509\n",
            "Trainable params: 229,509\n",
            "Non-trainable params: 0\n",
            "_________________________________________________________________\n",
            "Epoch 1/100\n",
            "56/56 [==============================] - 10s 187ms/step - loss: 1.6006 - accuracy: 0.2309 - val_loss: 1.5683 - val_accuracy: 0.2315\n",
            "Epoch 2/100\n",
            "56/56 [==============================] - 7s 120ms/step - loss: 1.5324 - accuracy: 0.3461 - val_loss: 1.5701 - val_accuracy: 0.3303\n",
            "Epoch 3/100\n",
            "56/56 [==============================] - 7s 124ms/step - loss: 1.4948 - accuracy: 0.3949 - val_loss: 1.4351 - val_accuracy: 0.4764\n",
            "Epoch 4/100\n",
            "56/56 [==============================] - 7s 120ms/step - loss: 1.4779 - accuracy: 0.4146 - val_loss: 1.4228 - val_accuracy: 0.4764\n",
            "Epoch 5/100\n",
            "56/56 [==============================] - 7s 119ms/step - loss: 1.4475 - accuracy: 0.4399 - val_loss: 1.4495 - val_accuracy: 0.4427\n",
            "Epoch 6/100\n",
            "56/56 [==============================] - 7s 122ms/step - loss: 1.3822 - accuracy: 0.5449 - val_loss: 1.3306 - val_accuracy: 0.5663\n",
            "Epoch 7/100\n",
            "56/56 [==============================] - 7s 121ms/step - loss: 1.2851 - accuracy: 0.6371 - val_loss: 1.2611 - val_accuracy: 0.6674\n",
            "Epoch 8/100\n",
            "56/56 [==============================] - 7s 119ms/step - loss: 1.1815 - accuracy: 0.7517 - val_loss: 1.1243 - val_accuracy: 0.7843\n",
            "Epoch 9/100\n",
            "56/56 [==============================] - 7s 121ms/step - loss: 1.1345 - accuracy: 0.7820 - val_loss: 1.1711 - val_accuracy: 0.7371\n",
            "Epoch 10/100\n",
            "56/56 [==============================] - 7s 119ms/step - loss: 1.1074 - accuracy: 0.8124 - val_loss: 1.1469 - val_accuracy: 0.7820\n",
            "Epoch 11/100\n",
            "56/56 [==============================] - 7s 122ms/step - loss: 1.1786 - accuracy: 0.7331 - val_loss: 1.1915 - val_accuracy: 0.7101\n",
            "Epoch 12/100\n",
            "56/56 [==============================] - 7s 120ms/step - loss: 1.0652 - accuracy: 0.8528 - val_loss: 1.0871 - val_accuracy: 0.8270\n",
            "Epoch 13/100\n",
            "56/56 [==============================] - 7s 120ms/step - loss: 1.1260 - accuracy: 0.7798 - val_loss: 1.2569 - val_accuracy: 0.6360\n",
            "Epoch 14/100\n",
            "56/56 [==============================] - 7s 122ms/step - loss: 1.1218 - accuracy: 0.7972 - val_loss: 1.1017 - val_accuracy: 0.8067\n",
            "Epoch 15/100\n",
            "56/56 [==============================] - 7s 122ms/step - loss: 1.0169 - accuracy: 0.8989 - val_loss: 1.0740 - val_accuracy: 0.8337\n",
            "Epoch 16/100\n",
            "56/56 [==============================] - 7s 120ms/step - loss: 1.0066 - accuracy: 0.9067 - val_loss: 1.1317 - val_accuracy: 0.8022\n",
            "Epoch 17/100\n",
            "56/56 [==============================] - 7s 119ms/step - loss: 0.9971 - accuracy: 0.9157 - val_loss: 1.0718 - val_accuracy: 0.8337\n",
            "Epoch 18/100\n",
            "56/56 [==============================] - 7s 121ms/step - loss: 1.0524 - accuracy: 0.8551 - val_loss: 1.1301 - val_accuracy: 0.7685\n",
            "Epoch 19/100\n",
            "56/56 [==============================] - 7s 122ms/step - loss: 1.0057 - accuracy: 0.9045 - val_loss: 1.0493 - val_accuracy: 0.8517\n",
            "Epoch 20/100\n",
            "56/56 [==============================] - 7s 124ms/step - loss: 0.9664 - accuracy: 0.9399 - val_loss: 1.0351 - val_accuracy: 0.8629\n",
            "Epoch 21/100\n",
            "56/56 [==============================] - 7s 120ms/step - loss: 0.9608 - accuracy: 0.9506 - val_loss: 1.0319 - val_accuracy: 0.8697\n",
            "Epoch 22/100\n",
            "56/56 [==============================] - 7s 120ms/step - loss: 0.9555 - accuracy: 0.9534 - val_loss: 1.0323 - val_accuracy: 0.8719\n",
            "Epoch 23/100\n",
            "56/56 [==============================] - 7s 119ms/step - loss: 0.9464 - accuracy: 0.9612 - val_loss: 1.0254 - val_accuracy: 0.8809\n",
            "Epoch 24/100\n",
            "56/56 [==============================] - 7s 120ms/step - loss: 0.9464 - accuracy: 0.9618 - val_loss: 1.0286 - val_accuracy: 0.8742\n",
            "Epoch 25/100\n",
            "56/56 [==============================] - 7s 122ms/step - loss: 0.9384 - accuracy: 0.9685 - val_loss: 1.0172 - val_accuracy: 0.8899\n",
            "Epoch 26/100\n",
            "56/56 [==============================] - 7s 122ms/step - loss: 0.9350 - accuracy: 0.9713 - val_loss: 1.0201 - val_accuracy: 0.8787\n",
            "Epoch 27/100\n",
            "56/56 [==============================] - 7s 121ms/step - loss: 0.9333 - accuracy: 0.9736 - val_loss: 1.0124 - val_accuracy: 0.8899\n",
            "Epoch 28/100\n",
            "56/56 [==============================] - 7s 121ms/step - loss: 0.9309 - accuracy: 0.9753 - val_loss: 1.0233 - val_accuracy: 0.8831\n",
            "Epoch 29/100\n",
            "56/56 [==============================] - 7s 125ms/step - loss: 0.9370 - accuracy: 0.9713 - val_loss: 1.0208 - val_accuracy: 0.8876\n",
            "Epoch 30/100\n",
            "56/56 [==============================] - 7s 120ms/step - loss: 0.9351 - accuracy: 0.9708 - val_loss: 1.0228 - val_accuracy: 0.8764\n",
            "Epoch 31/100\n",
            "56/56 [==============================] - 7s 120ms/step - loss: 0.9338 - accuracy: 0.9736 - val_loss: 1.0197 - val_accuracy: 0.8809\n",
            "Epoch 32/100\n",
            "56/56 [==============================] - 7s 120ms/step - loss: 0.9278 - accuracy: 0.9787 - val_loss: 1.0065 - val_accuracy: 0.9011\n"
          ],
          "name": "stdout"
        },
        {
          "output_type": "display_data",
          "data": {
            "image/png": "[encoded data removed]",
            "text/plain": [
              "<Figure size 432x288 with 1 Axes>"
            ]
          },
          "metadata": {
            "tags": [],
            "needs_background": "light"
          }
        },
        {
          "output_type": "display_data",
          "data": {
            "image/png": "[encoded data removed]",
            "text/plain": [
              "<Figure size 432x288 with 1 Axes>"
            ]
          },
          "metadata": {
            "tags": [],
            "needs_background": "light"
          }
        }
      ]
    }
  ]
}