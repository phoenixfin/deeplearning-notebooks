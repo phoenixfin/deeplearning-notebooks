{
  "nbformat": 4,
  "nbformat_minor": 0,
  "metadata": {
    "colab": {
      "name": "Praktikum DL 1 (Jawaban).ipynb",
      "provenance": [],
      "authorship_tag": "ABX9TyMRiWGKVwRroU2t1oxAoYZu",
      "include_colab_link": true
    },
    "kernelspec": {
      "name": "python3",
      "display_name": "Python 3"
    }
  },
  "cells": [
    {
      "cell_type": "markdown",
      "metadata": {
        "id": "view-in-github",
        "colab_type": "text"
      },
      "source": [
        "<a href=\"https://colab.research.google.com/github/phoenixfin/deeplearning-notebooks/blob/main/Praktikum_DL_1_OOP.ipynb\" target=\"_parent\"><img src=\"https://colab.research.google.com/assets/colab-badge.svg\" alt=\"Open In Colab\"/></a>"
      ]
    },
    {
      "cell_type": "markdown",
      "metadata": {
        "id": "9UGM-wHBl3Zl"
      },
      "source": [
        "# Praktikum Pembelajaran Mendalam 1\n",
        "## Object-Oriented Programming (OOP)\n",
        "> Aditya Firman Ihsan\n",
        "\n"
      ]
    },
    {
      "cell_type": "code",
      "metadata": {
        "id": "kGkB2IeCxE6z"
      },
      "source": [
        "import numpy as np"
      ],
      "execution_count": null,
      "outputs": []
    },
    {
      "cell_type": "markdown",
      "metadata": {
        "id": "STXZmHnomhmG"
      },
      "source": [
        "### Kenapa OOP?\n",
        "\n",
        "Misalkan kita ingin membuat program segitiga. Kita definisikan dua fungsi dasar"
      ]
    },
    {
      "cell_type": "code",
      "metadata": {
        "id": "PxmA4rEbubAC"
      },
      "source": [
        "def hitung_luas_segitiga(alas, tinggi):\n",
        "  return (alas * tinggi) / 2\n",
        "\n",
        "def hitung_keliling_segitiga(sisi1, sisi2, sisi3):\n",
        "  return sisi1 + sisi2 + sisi3"
      ],
      "execution_count": null,
      "outputs": []
    },
    {
      "cell_type": "markdown",
      "metadata": {
        "id": "u3cA4oICPiUy"
      },
      "source": [
        "Kita kemudian bisa menggunakan kedua fungsi tersebut dan meyesuaikan parameternya. Misalkan kita punya segitiga A"
      ]
    },
    {
      "cell_type": "code",
      "metadata": {
        "id": "YsGSzAh3Pqbz"
      },
      "source": [
        "alas_segitiga_A = 3.\n",
        "tinggi_segitiga_A = 2.5"
      ],
      "execution_count": null,
      "outputs": []
    },
    {
      "cell_type": "markdown",
      "metadata": {
        "id": "EjbVjU8oPtvt"
      },
      "source": [
        "Kita dapat langsung menghitung luas karena yang diketahui alas dan tinggi. Tetapi kita tidak bisa menghitung keliling, karena informasinya kurang, dibutuhkan data satu sisi lagi atau besar salah satu sudut."
      ]
    },
    {
      "cell_type": "code",
      "metadata": {
        "id": "a8A86dFhP9Hr"
      },
      "source": [
        "luas_segitiga_A = hitung_luas_segitiga(alas_segitiga_A, tinggi_segitiga_A)\n",
        "luas_segitiga_A"
      ],
      "execution_count": null,
      "outputs": []
    },
    {
      "cell_type": "markdown",
      "metadata": {
        "id": "bzipzT9rP-E6"
      },
      "source": [
        "Akan tetapi, kalau misal kita punya segitiga lain B, tapi yang diketahui adalah 3 sisinya:"
      ]
    },
    {
      "cell_type": "code",
      "metadata": {
        "id": "EYf23C9LQJkt"
      },
      "source": [
        "sisi1_segitiga_B = 4.\n",
        "sisi2_segitiga_B = 1.2\n",
        "sisi3_segitiga_B = 7."
      ],
      "execution_count": null,
      "outputs": []
    },
    {
      "cell_type": "markdown",
      "metadata": {
        "id": "oVCDYn_fQKlf"
      },
      "source": [
        "Kita akan dengan mudah menghitung kelilingnya:"
      ]
    },
    {
      "cell_type": "code",
      "metadata": {
        "id": "-xBHJ6djQOHh"
      },
      "source": [
        "keliling_segitiga_B = hitung_keliling_segitiga(sisi1_segitiga_B, sisi2_segitiga_B, sisi3_segitiga_B)\n",
        "keliling_segitiga_B"
      ],
      "execution_count": null,
      "outputs": []
    },
    {
      "cell_type": "markdown",
      "metadata": {
        "id": "0uQ7BCxuQOxo"
      },
      "source": [
        "Akan tetapi, untuk menghitung luasnya, kita butuh perhitungan tambahan. Maka didefinisikan terlebih dahulu"
      ]
    },
    {
      "cell_type": "code",
      "metadata": {
        "id": "23w0wEFxl2K8"
      },
      "source": [
        "def hitung_sudut(sisi1, sisi2, sisi3):\n",
        "  # pakai aturan kosinus\n",
        "  return np.arccos((sisi1**2 + sisi2**2 - sisi3**2) / (2 * sisi1 * sisi2))\n",
        "\n",
        "def hitung_tinggi_segitiga(sisi_miring, sudut):\n",
        "  return sisi_miring * np.sin(sudut)"
      ],
      "execution_count": null,
      "outputs": []
    },
    {
      "cell_type": "markdown",
      "metadata": {
        "id": "lsROOJzPQWxs"
      },
      "source": [
        "Sehingga kita pun bisa segera mnghitung luas segitiga B"
      ]
    },
    {
      "cell_type": "code",
      "metadata": {
        "id": "XQaNj_6tQZnI"
      },
      "source": [
        "alas_segitiga_B = sisi1_segitiga_B\n",
        "sudut12_segitiga_B = hitung_sudut(sisi1_segitiga_B, sisi2_segitiga_B, sisi3_segitiga_B)\n",
        "tinggi_segitiga_B = hitung_tinggi_segitiga(sisi2_segitiga_B, sudut12_segitiga_B)\n",
        "luas_segitiga_B = hitung_luas_segitiga(alas_segitiga_B, tinggi_segitiga_B)\n",
        "luas_segitiga_B"
      ],
      "execution_count": null,
      "outputs": []
    },
    {
      "cell_type": "markdown",
      "metadata": {
        "id": "pg2srxaPQazy"
      },
      "source": [
        "Kode di atas mungkin terkesan sederhana, tapi bisa dkatakan tidak efektif. Dari sini, akan lebih baik kita pandang segitiga sebagai sebuah objek yang punya sifat-sifat. Dari sini kita bisa gunakan konsep kelas. Apa itu kelas? Bisa dikatakan sebagai blueprint, resep, atau gagasan abstrak dari suatu objek.\n",
        "Pendefinisian kelas di python paling sederhana adalah cukup dengan namanya saja."
      ]
    },
    {
      "cell_type": "code",
      "metadata": {
        "id": "CHdVeHItQ6Cz"
      },
      "source": [
        "class Segitiga(object):\n",
        "  # \"pass\" di sini tidak menjalankan apa-apa\n",
        "  # ini hanya untuk mencegah error pada Python \n",
        "  # karena tidak ada baris baru setelah pendefinisian \n",
        "  pass"
      ],
      "execution_count": null,
      "outputs": []
    },
    {
      "cell_type": "markdown",
      "metadata": {
        "id": "CwPczqnxQ9qE"
      },
      "source": [
        "Dari sini, sebenarnya kita sudah dapat membuat sebuah objek kelas (disebut instantiasi)"
      ]
    },
    {
      "cell_type": "code",
      "metadata": {
        "id": "Kil5A35eQ0ua"
      },
      "source": [
        "segitiga_A = Segitiga()"
      ],
      "execution_count": null,
      "outputs": []
    },
    {
      "cell_type": "markdown",
      "metadata": {
        "id": "3RMI1IBhRriv"
      },
      "source": [
        "Tapi tentu saja kelas ini tidak bermanfaat karena tidak punya apa-apa. Lalu bisa diapakan? Ada dua komponen utama kelas: yakni atribut dan metode. Atribut merupakan variabel yang dimiliki kelas, sedangkan metode adalah fungsi yang dimiliki kelas. Mendefinisikan atribut bisa langsung setelah definisi kelas"
      ]
    },
    {
      "cell_type": "code",
      "metadata": {
        "id": "DJi4qtQmSMm-"
      },
      "source": [
        "class Segitiga(object):\n",
        "  banyak_sisi = 3\n",
        "  jumlah_sudut = 2 * np.pi\n",
        "\n",
        "segitiga_A = Segitiga()\n",
        "segitiga_A.banyak_sisi"
      ],
      "execution_count": null,
      "outputs": []
    },
    {
      "cell_type": "markdown",
      "metadata": {
        "id": "KcfBY00LSckk"
      },
      "source": [
        "Dalam hal ini, `banyak_sisi` disebut \"atribut kelas\" (*class attribute*), karena didefinisikan secara umum di kelas. Artinya, objek apapun yang dibuat dari kelas ini, akan selalu memiliki nilai atribut kelas yang sama. \n",
        "\n",
        "Tentu kemudian kita ingin ada atribut khusus yang berbeda untuk setiap objeknya. Misal dalam kasus ini, yakni panjang ketiga sisi segitiga, maka bisa kita tuliskan  "
      ]
    },
    {
      "cell_type": "code",
      "metadata": {
        "id": "9vDpdeQjQuRY"
      },
      "source": [
        "class Segitiga(object):\n",
        "  def __init__(self, sisi1, sisi2, sisi3):\n",
        "    self.sisi = [sisi1, sisi2, sisi3]"
      ],
      "execution_count": null,
      "outputs": []
    },
    {
      "cell_type": "markdown",
      "metadata": {
        "id": "hGo_WeH5TBEU"
      },
      "source": [
        "Pertama, pahami dulu\n",
        "1. fungsi apapun yang berada di dalam definisi kelas disebut sebagai metode\n",
        "2. metode `__init__` dalam setiap definisi kelas disebut sebagai konstruktor, yakni fungsi pertama yang akan dipanggil ketika suatu objek dibuat dari kelas tersebut. Sesuai namanya, metode ini \"membangun\" objek.\n",
        "3. metode di kelas selalu mencantumkan `self` sebagai parameter pertamanya, yang berarti \"dirinya sendiri\". Artinya, semua yang dimiliki oleh kelas tersebut bisa dipakai oleh metode itu, dengan mengakses `self`.\n",
        "4. parameter yang dicantumkan pada `__init__` harus diberikan ketika membuat objek dari kelas\n",
        "\n",
        "Pada kode di atas, berarti ketika kita membuat suatu kelas Segitiga, maka kita harus memberikan nilai panjang ketiga sisi, yang kemudian akan disimpan dalam bentuk list sebagai parameter `sisi` dalam objek tersebut (direpresenetasikan sebagai `self`)\n",
        "\n",
        "Kita kemudian bisa buat objeknya dengan"
      ]
    },
    {
      "cell_type": "code",
      "metadata": {
        "id": "6BWC1VX9UXl9"
      },
      "source": [
        "segitiga_B = Segitiga(4, 1.2, 7)\n",
        "segitiga_B.sisi"
      ],
      "execution_count": null,
      "outputs": []
    },
    {
      "cell_type": "markdown",
      "metadata": {
        "id": "VPVk_YWBU5yW"
      },
      "source": [
        "Kita coba tambahkan 1 metode lagi "
      ]
    },
    {
      "cell_type": "code",
      "metadata": {
        "id": "w6PDX7l6Uudn"
      },
      "source": [
        "class Segitiga(object):\n",
        "  def __init__(self, sisi1, sisi2, sisi3):\n",
        "    self.sisi = [sisi1, sisi2, sisi3]\n",
        "\n",
        "  def hitung_keliling(self):\n",
        "    return sum(self.sisi)\n",
        "\n",
        "segitiga_B = Segitiga(4, 1.2, 7)\n",
        "segitiga_B.hitung_keliling()"
      ],
      "execution_count": null,
      "outputs": []
    },
    {
      "cell_type": "markdown",
      "metadata": {
        "id": "9lc045JIVEz-"
      },
      "source": [
        "Kemudian, kita pun bisa lengkapi kelas tersebut dengan metode-metode yang dibutuhkan. \n",
        "Silahkan masing-masing coba tuliskan isi dari metode yang diberikan. Satu metode, yakni penghitug sudut sudah dituliskan."
      ]
    },
    {
      "cell_type": "code",
      "metadata": {
        "id": "7Tk27NEJVLpR"
      },
      "source": [
        "class Segitiga(object):\n",
        "  def __init__(self, sisi1, sisi2, sisi3):\n",
        "    self.sisi = [sisi1, sisi2, sisi3]\n",
        "\n",
        "  def dapatkan_sudut_antara_sisi(self, indeks_1, indeks_2):\n",
        "    sisi1 = self.sisi[indeks_1]\n",
        "    sisi2 = self.sisi[indeks_2]\n",
        "    indeks_3 = int(3 - indeks_1 - indeks_2)\n",
        "    sisi3 = self.sisi[indeks_3] \n",
        "    return np.arccos((sisi1**2 + sisi2**2 - sisi3**2) / (2 * sisi1 * sisi2))\n",
        "\n",
        "  def dapatkan_tinggi(self, indeks_alas):\n",
        "    # tuliskan kode anda di sini\n",
        "    pass\n",
        "\n",
        "  def hitung_luas(self):\n",
        "    # tuliskan kode anda di sini\n",
        "    pass\n",
        "\n",
        "  def hitung_keliling(self):\n",
        "    return sum(self.sisi)\n",
        "  \n",
        "  def periksa_siku_siku(self):\n",
        "    # tuliskan kode anda di sini\n",
        "    pass"
      ],
      "execution_count": null,
      "outputs": []
    },
    {
      "cell_type": "markdown",
      "metadata": {
        "id": "85Zp2AiOVWPI"
      },
      "source": [
        "(DI BAWAH INI JAWABANNYA)"
      ]
    },
    {
      "cell_type": "code",
      "metadata": {
        "id": "UYXLdb0hxcZ-"
      },
      "source": [
        "class Segitiga(object):\n",
        "  def __init__(self, sisi1, sisi2, sisi3):\n",
        "    self.sisi = [sisi1, sisi2, sisi3]\n",
        "\n",
        "  def dapatkan_sudut_antara_sisi(self, indeks_1, indeks_2):\n",
        "    sisi1 = self.sisi[indeks_1]\n",
        "    sisi2 = self.sisi[indeks_2]\n",
        "    indeks_3 = int(3 - indeks_1 - indeks_2)\n",
        "    sisi3 = self.sisi[indeks_3] \n",
        "    return np.arccos((sisi1**2 + sisi2**2 - sisi3**2) / (2 * sisi1 * sisi2))\n",
        "\n",
        "  def dapatkan_tinggi(self, indeks_alas):\n",
        "    sudut = self.dapatkan_sudut_antara_sisi(indeks_alas, (indeks_alas + 1) % 3)\n",
        "    sisi_miring = self.sisi[(indeks_alas + 1) % 3]\n",
        "    return sisi_miring * np.sin(sudut)\n",
        "\n",
        "  def hitung_luas(self):\n",
        "    alas = self.sisi[0]\n",
        "    tinggi = self.dapatkan_tinggi(0)\n",
        "    return (alas * tinggi) / 2\n",
        "\n",
        "  def hitung_keliling(self):\n",
        "    return sum(self.sisi)\n",
        "  \n",
        "  def periksa_siku_siku(self):\n",
        "    for i in range(3):\n",
        "      sudut = self.dapatkan_sudut_antara_sisi(i, (i+1)%3)\n",
        "      if sudut == np.pi / 2:\n",
        "        return True\n",
        "    return False"
      ],
      "execution_count": null,
      "outputs": []
    },
    {
      "cell_type": "code",
      "metadata": {
        "id": "u0QDcvyjWejK"
      },
      "source": [
        "# Kode untuk testing \n",
        "print(\"---- Segitiga 1 ----\")\n",
        "seg1 = Segitiga(3,4,5)\n",
        "print(\"Siku-siku?\", seg1.periksa_siku_siku()) # harusnya True\n",
        "print(\"Luas =\", seg1.hitung_luas()) # harusnya 6\n",
        "print(\"Keliling =\", seg1.hitung_keliling()) # harusnya 12\n",
        "\n",
        "print(\"---- Segitiga 2 ----\")\n",
        "seg2 = Segitiga(5.5, 8, 3.2)\n",
        "print(\"Siku-siku?\", seg2.periksa_siku_siku()) # harusnya False\n",
        "print(\"Luas =\", seg2.hitung_luas()) # harusnya 6.55\n",
        "print(\"Keliling =\", seg2.hitung_keliling()) # harusnya 16.7"
      ],
      "execution_count": null,
      "outputs": []
    },
    {
      "cell_type": "markdown",
      "metadata": {
        "id": "eQEFucwzVkOx"
      },
      "source": [
        "Contoh di atas memperlihatkan 2 dari 3 sifat dari OOP, yakni\n",
        "1. **Encapsulation**: Artinya, kita membungkus beberapa kode ke dalam satu entitas. Dalam contoh di atas, semua kode penghitung luas, keliling, dan lainnya, terbungkus di kelas Segitiga. Setiap objek segitiga memiliki semua perangkat itu dan tinggal memanggilnya jika dibutuhkan.\n",
        "2. **Polymorphism**: Artinya, satu kelas bisa menghasilkan banyak objek berbeda (poly=banyak, morph=bentuk). Kita bisa menghasilkan sekian objek dengan sifat yang sama namun terbedakan."
      ]
    },
    {
      "cell_type": "markdown",
      "metadata": {
        "id": "cjEpewkhN9FA"
      },
      "source": [
        "Ada satu lagi sifat OOP  yang belum terbahas, dan akan kita perlihatkan dengan contoh yang lebih sederhana. Misal kita punya kelas `KendaraanBermotor` seperti berikut"
      ]
    },
    {
      "cell_type": "code",
      "metadata": {
        "id": "lrJfZXidOCbw"
      },
      "source": [
        "class KendaraanBermotor(object):\n",
        "  def __init__(self, banyak_roda, mode_gigi):\n",
        "    self.roda = banyak_roda\n",
        "    self.gigi = mode_gigi\n",
        "    self.mesin_menyala = False\n",
        "  \n",
        "  def nyalakan_mesin(self):\n",
        "    if not self.mesin_menyala:\n",
        "      print(\"mesin dinyalakan\")\n",
        "      self.mesin_menyala = True\n",
        "    else:\n",
        "      print(\"mesin sudah menyala\")\n",
        "  \n",
        "  def matikan_mesin(self):\n",
        "    if self.mesin_menyala:\n",
        "      print(\"mesin dimatikan\")\n",
        "      self.mesin_menyala = False\n",
        "    else:\n",
        "      print(\"mesin sudah mati\")\n",
        "\n",
        "\n",
        "motor_pribadi = KendaraanBermotor(2, 'matik')\n",
        "motor_pribadi.nyalakan_mesin()"
      ],
      "execution_count": null,
      "outputs": []
    },
    {
      "cell_type": "markdown",
      "metadata": {
        "id": "DbZtW2QLW5OP"
      },
      "source": [
        "Kelas di atas tidak punya masalah sebenarnya, namun di rasa terlalu general. Artinya, kelak akan ada atribut atau metode yang spesifik pada kendaraan tertentu. Untuk itu, kita bisa turunkan kelas di atas menjadi subkelas. "
      ]
    },
    {
      "cell_type": "code",
      "metadata": {
        "id": "aS16PZRvXsvn"
      },
      "source": [
        "class Mobil(KendaraanBermotor):\n",
        "  def __init__(self, mode_gigi):\n",
        "    super().__init__(4, mode_gigi)\n",
        "\n",
        "class Vespa(KendaraanBermotor):\n",
        "  def __init__(self):\n",
        "    super().__init__(2, \"manual\")\n",
        "\n",
        "mobil_dinas = Mobil('matik')\n",
        "motor_kakek = Vespa()\n"
      ],
      "execution_count": null,
      "outputs": []
    },
    {
      "cell_type": "markdown",
      "metadata": {
        "id": "lRoB1r2gX5Bb"
      },
      "source": [
        "Perhatikan bahwa kita menginstantiasi objek mobil dan vespa dengan cara yang sedikit berbeda. Hal ini dikarenakan mereka punya konstruktor yang berbeda. Karena Mobil ataupun Vespa merupakan 'anak' dari kelas KendaraanBermotor, maka semua metode yang dimiliki KendaraanBermotor dapat dipanggil oleh Mobil ataupun Vespa."
      ]
    },
    {
      "cell_type": "code",
      "metadata": {
        "id": "Hz0hduslZryv"
      },
      "source": [
        "mobil_dinas.nyalakan_mesin()\n",
        "motor_kakek.nyalakan_mesin()"
      ],
      "execution_count": null,
      "outputs": []
    },
    {
      "cell_type": "markdown",
      "metadata": {
        "id": "gaagc9kEZuSa"
      },
      "source": [
        "Prinsip ini, sebagai sifat ke-3 OOP, disebut sebagai **inheritance**"
      ]
    },
    {
      "cell_type": "markdown",
      "metadata": {
        "id": "wF6kOHbfZh3W"
      },
      "source": [
        "Disebut OOP karena dalam paradigma ini, segala sesuatu adalah objek, dan harus diperlakukan sebagai objek. Hal ini mempermudah pengelolaan memori, data, dan variabel."
      ]
    },
    {
      "cell_type": "markdown",
      "metadata": {
        "id": "LkoMkH5yoi8d"
      },
      "source": [
        "## LATIHAN \n",
        "\n",
        "Buat kelas `SegiEmpat` dengan parameter pembangunnya panjang keempat sisinya berurutan dan memiliki metode dasar `hitung_keliling`. Selanjutnya buat 4 kelas turunan yakni `JajarGenjang`, `Trapesium`, `Persegi`, dan `PersegiPanjang`, yang masing-masing berisi metode minimal `hitung_luas`.\n",
        "\n",
        "Note: \n",
        "1. bila diperlukan, hanya boleh menambahkan parameter salah satu sudut.\n",
        "2. Untuk yang memilih jajar genjang, persegi, atau persegi panjang, tambahkan juga metode `hitung_diagonal` untuk melengkapi."
      ]
    },
    {
      "cell_type": "markdown",
      "metadata": {
        "id": "Wfdyqrt2pnsA"
      },
      "source": [
        "(JAWABAN LATIHAN)"
      ]
    },
    {
      "cell_type": "code",
      "metadata": {
        "id": "9PvPE7tnppkr"
      },
      "source": [
        "class SegiEmpat(object):\n",
        "  def __init__(self, sisi1, sisi2, sisi3, sisi4):\n",
        "    self.sisi = [sisi1, sisi2, sisi3, sisi4]\n",
        "  \n",
        "  def hitung_keliling(self):\n",
        "    return sum(self.sisi)\n",
        "\n",
        "class JajarGenjang(SegiEmpat):\n",
        "  def __init__(self, sisi1, sisi2, sudut12):\n",
        "    super().__init__(sisi1, sisi2, sisi1, sisi2)\n",
        "    self.sudut12 = sudut12\n",
        "    self.sudut23 = np.pi - sudut12\n",
        "  \n",
        "  def hitung_diagonal(self):\n",
        "    diagonal1 = self.sisi[0]**2 + self.sisi[1]**2 - 2*self.sisi[0]*self.sisi[1]*np.cos(self.sudut12)\n",
        "    diagonal2 = self.sisi[1]**2 + self.sisi[2]**2 - 2*self.sisi[1]*self.sisi[2]*np.cos(self.sudut23)\n",
        "    return (diagonal1, diagonal2)\n",
        "\n",
        "  def dapatkan_tinggi(self):\n",
        "    return self.sisi[1] * np.sin(self.sudut12)\n",
        "\n",
        "  def hitung_luas(self):\n",
        "    tinggi = self.dapatkan_tinggi()\n",
        "    alas = self.sisi[0]\n",
        "    return tinggi * alas\n",
        "\n",
        "class PersegiPanjang(SegiEmpat):\n",
        "  def __init__(self, panjang, lebar):\n",
        "    super().__init__(panjang, lebar, panjang, lebar)\n",
        "  \n",
        "  def hitung_diagonal(self):\n",
        "    return np.sqrt(self.sisi[0]**2 + self.sisi[1]**2)\n",
        "\n",
        "  def hitung_luas(self):\n",
        "    return self.sisi[0] * self.sisi[1]  \n",
        "\n",
        "class Persegi(PersegiPanjang):\n",
        "  def __init__(self, sisi):\n",
        "    super().__init__(sisi, sisi)\n",
        "  \n",
        "class Trapesium(SegiEmpat):\n",
        "  def __init__(self, sisi1, sisi2, sisi3, sisi4, sudut12):\n",
        "    super().__init__(sisi1, sisi2, sisi1, sisi2)\n",
        "    self.jajar_genjang = JajarGenjang(sisi1+sisi3, sisi4, sudut12)\n",
        "\n",
        "  def hitung_luas(self):\n",
        "    return self.jajar_genjang.hitung_luas() / 2\n",
        "    "
      ],
      "execution_count": null,
      "outputs": []
    },
    {
      "cell_type": "code",
      "metadata": {
        "id": "Wie4sXrRaVCh"
      },
      "source": [
        "# Untuk testing\n",
        "print(\"--- Persegi ---\")\n",
        "p1 = Persegi(4)\n",
        "print(\"Luas = \", p1.hitung_luas()) # harusnya 16\n",
        "print(\"Keliling = \", p1.hitung_keliling()) # harusnya 16\n",
        "\n",
        "print(\"--- Persegi Panjang ---\")\n",
        "pp1 = PersegiPanjang(2.4, 8) \n",
        "print(\"Luas = \", pp1.hitung_luas()) # harusnya 19.2\n",
        "print(\"Keliling = \", pp1.hitung_keliling()) # harusnya 20.8\n",
        "\n",
        "print(\"--- Jajar Genjang ---\")\n",
        "jg1 = JajarGenjang(2.4, 3.2, np.pi/4)\n",
        "print(\"Luas = \", jg1.hitung_luas()) # harusnya 5.43\n",
        "print(\"Keliling = \", jg1.hitung_keliling()) # harusnya 11.2\n",
        "\n",
        "print(\"--- Trapesium ---\")\n",
        "t1 = Trapesium(1.2, 5.4, 2.3, 4, np.pi/3)\n",
        "print(\"Luas = \", t1.hitung_luas()) # harusnya 6.06\n",
        "print(\"Keliling = \", t1.hitung_keliling()) # harusnya 13.2"
      ],
      "execution_count": null,
      "outputs": []
    },
    {
      "cell_type": "markdown",
      "metadata": {
        "id": "YJ0B_wWGYYy9"
      },
      "source": [
        "## TUGAS 1\n",
        "Silakan buat kelas Elips, dengan anak kelas Lingkaran. Lengkapi dengan metode yang diperlukan (terserah, akan dinilai sejauh apa kalian melengkapinya)\n",
        "\n",
        "## TUGAS 2 (Pengayaan)\n",
        "Silakan buat kelas FungsiKuadrat, dengan yang dapat menghitung titik stasioner, arah kecekungan, titik potong sumbu, dan turunannya. Hint: bisa gunakan koefisiennya sebagai atribut"
      ]
    },
    {
      "cell_type": "markdown",
      "metadata": {
        "id": "1yCLjLd0bsC-"
      },
      "source": [
        "(JAWABAN)"
      ]
    },
    {
      "cell_type": "markdown",
      "metadata": {
        "id": "Awyr1noAbtHb"
      },
      "source": [
        "**Catatan untuk grader:**\n",
        "Jawaban di bawah hanya untuk contoh saja, karena banyak variasi yang bisa dibuat dari tugas yang diberikan. \n",
        "\n",
        "1. Elips: (1) Kelas bisa dipakai (periksa setiap metode/fungsi-nya); (2) terdapat mminimal metode untuk hitung luas; (3) Didefinisikan juga kelas Lingkaran tanpa metode (ngikut semua ke elips); (4) Strukturisasi kelasnya bagus (prinsip 1 metode/fungsi hanya menjalankan 1 tugas);\n",
        "\n",
        "2. FungsiKuadrat: (1) Kelas bisa dipakai (periksa setiap metode/fungsi-nya); (2) terdapat mminimal metode untuk dapatkan titik stasioner, arah kecekungan, titik potong sumbu, dan turunannya; (3) Strukturisasi kelasnya bagus (prinsip 1 metode/fungsi hanya menjalankan 1 tugas)\n",
        "\n"
      ]
    },
    {
      "cell_type": "code",
      "metadata": {
        "id": "Y3Lu1UEEJeBy"
      },
      "source": [
        "class Elips(object):\n",
        "  def __init__(self, radius1, radius2):\n",
        "    self.r1 = radius1\n",
        "    self.r2 = radius2\n",
        "  \n",
        "  def kali_radius(self):\n",
        "    return self.r1*self.r2 \n",
        "\n",
        "  def cetak_persamaan(self):\n",
        "    pers = \"{}x^2+{}y^2={}\" \n",
        "    print(pers.format(self.r2**2, self.r1**2, (self.kali_radius())**2))\n",
        "\n",
        "  def hitung_luas(self):\n",
        "    return np.pi*self.kali_radius()\n",
        "  \n",
        "  def hitung_keliling(self):\n",
        "    if self.r1 < self.r2:\n",
        "      a = self.r2\n",
        "      b = self.r1\n",
        "    else:\n",
        "      a = self.r1\n",
        "      b = self.r2\n",
        "\n",
        "    e = np.sqrt(1-(b/a)**2)      \n",
        "    from scipy.integrate import quad\n",
        "    E = quad(lambda t: np.sqrt(1-(e*np.sin(t))**2), 0, np.pi/2)[0]\n",
        "    return 4 * a * E\n",
        "\n",
        "class Lingkaran(Elips):\n",
        "  def __init__(self, radius):\n",
        "    super().__init__(radius, radius)"
      ],
      "execution_count": null,
      "outputs": []
    },
    {
      "cell_type": "code",
      "metadata": {
        "colab": {
          "base_uri": "https://localhost:8080/"
        },
        "id": "ueJSkbWWXaNQ",
        "outputId": "c9982870-f58b-497d-db52-3972849f17c5"
      },
      "source": [
        "l1 = Lingkaran(4)\n",
        "l1.cetak_persamaan()\n",
        "print(l1.hitung_keliling())\n",
        "print(l1.hitung_luas())"
      ],
      "execution_count": null,
      "outputs": [
        {
          "output_type": "stream",
          "text": [
            "16x^2+16y^2=256\n",
            "25.132741228718345\n",
            "50.26548245743669\n"
          ],
          "name": "stdout"
        }
      ]
    },
    {
      "cell_type": "code",
      "metadata": {
        "id": "OGSXteCiYTCB"
      },
      "source": [
        "class FungsiKuadrat(object):\n",
        "  def __init__(self, a, b, c):\n",
        "    self.a = a\n",
        "    self.b = b\n",
        "    self.c = c\n",
        "\n",
        "  def __call__(self, x):\n",
        "    \"\"\" ini pakai nama fungsi lain juga gapapa\"\"\"\n",
        "    return self.a * x**2 + self.b * x + self.c\n",
        "\n",
        "  def cetak_persamaan(self):\n",
        "    a = \"\" if self.a == 1 else self.a\n",
        "    b = \"\" if self.b == 1 else self.b    \n",
        "    print(\"f(x) = {}x^2 + {}x + {}\".format(a, b, self.c))\n",
        "\n",
        "  def titik_stasioner(self):\n",
        "    x = -self.b/(2 * self.a)\n",
        "    y = self(x)\n",
        "    return (x, y)\n",
        "  \n",
        "  def arah_kecekungan(self):\n",
        "    if self.a > 0:\n",
        "      return \"atas\"\n",
        "    else:\n",
        "      return \"bawah\"\n",
        "\n",
        "  def titik_potong_sumbu(self, sumbu):\n",
        "    if sumbu == \"x\":\n",
        "      D = self.b**2 - 4 * self.a * self.c\n",
        "      if D < 0:\n",
        "        return \"tidak punya akar riil\"\n",
        "      else:\n",
        "        return (-b + np.sqrt(D), -b - np.sqrt(D))/(2 * self.a)\n",
        "    if sumbu == \"y\":\n",
        "      return self(0)\n",
        "\n",
        "  def fungsi_turunan(self):\n",
        "    def f(x):\n",
        "      return 2*self.a*x + self.b\n",
        "    return f\n",
        "  \n",
        "  def hitung_turunan(self, x):\n",
        "    turunan = self.fungsi_turunan()\n",
        "    return turunan(x)"
      ],
      "execution_count": null,
      "outputs": []
    },
    {
      "cell_type": "code",
      "metadata": {
        "colab": {
          "base_uri": "https://localhost:8080/"
        },
        "id": "BwVSjxyma2pd",
        "outputId": "86eed796-c7dc-409f-bb9a-6b02b72e9b21"
      },
      "source": [
        "f1 = FungsiKuadrat(1, 1, 2)\n",
        "f1.cetak_persamaan()\n",
        "print(f1.titik_potong_sumbu(\"x\"))\n",
        "print(f1.titik_potong_sumbu(\"y\"))\n",
        "print(f1.arah_kecekungan())\n",
        "print(f1.titik_stasioner())\n",
        "print(f1.hitung_turunan(5.))"
      ],
      "execution_count": null,
      "outputs": [
        {
          "output_type": "stream",
          "text": [
            "f(x) = x^2 + x + 2\n",
            "tidak punya akar riil\n",
            "2\n",
            "atas\n",
            "(-0.5, 1.75)\n",
            "11.0\n"
          ],
          "name": "stdout"
        }
      ]
    }
  ]
}