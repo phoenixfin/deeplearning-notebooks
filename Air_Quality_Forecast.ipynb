{
  "nbformat": 4,
  "nbformat_minor": 0,
  "metadata": {
    "colab": {
      "name": "Air Quality Forecast",
      "provenance": [],
      "toc_visible": true,
      "authorship_tag": "ABX9TyNkMOCuVk5sET9ZkTsJ+AmS",
      "include_colab_link": true
    },
    "kernelspec": {
      "name": "python3",
      "display_name": "Python 3"
    }
  },
  "cells": [
    {
      "cell_type": "markdown",
      "metadata": {
        "id": "view-in-github",
        "colab_type": "text"
      },
      "source": [
        "<a href=\"https://colab.research.google.com/github/phoenixfin/deeplearning-notebooks/blob/main/Air_Quality_Forecast.ipynb\" target=\"_parent\"><img src=\"https://colab.research.google.com/assets/colab-badge.svg\" alt=\"Open In Colab\"/></a>"
      ]
    },
    {
      "cell_type": "markdown",
      "metadata": {
        "id": "EkW3HlMkBMA9"
      },
      "source": [
        "# Time Series Prediction\n",
        "\n",
        "---\n",
        "\n",
        "Aditya Firman Ihsan\n"
      ]
    },
    {
      "cell_type": "markdown",
      "metadata": {
        "id": "CRYuP6-Jn_C0"
      },
      "source": [
        "## Persiapan"
      ]
    },
    {
      "cell_type": "markdown",
      "metadata": {
        "id": "J7N0A1ws3sAT"
      },
      "source": [
        "### Import library"
      ]
    },
    {
      "cell_type": "code",
      "metadata": {
        "id": "GNfGRGYecE5G"
      },
      "source": [
        "import tensorflow as tf\n",
        "import numpy as np\n",
        "import pandas as pd\n",
        "from matplotlib import pyplot as plt"
      ],
      "execution_count": null,
      "outputs": []
    },
    {
      "cell_type": "code",
      "metadata": {
        "colab": {
          "base_uri": "https://localhost:8080/",
          "height": 35
        },
        "id": "DzDTNg3J1Hj3",
        "outputId": "90b9d7e7-e659-4ef6-e5f5-4549b0823e67"
      },
      "source": [
        "tf.__version__"
      ],
      "execution_count": null,
      "outputs": [
        {
          "output_type": "execute_result",
          "data": {
            "application/vnd.google.colaboratory.intrinsic+json": {
              "type": "string"
            },
            "text/plain": [
              "'2.3.0'"
            ]
          },
          "metadata": {
            "tags": []
          },
          "execution_count": 2
        }
      ]
    },
    {
      "cell_type": "markdown",
      "metadata": {
        "id": "ze_hKf-40mPO"
      },
      "source": [
        "### Mengunduh dataset\n"
      ]
    },
    {
      "cell_type": "markdown",
      "metadata": {
        "id": "Xsifq7m8cBU3"
      },
      "source": [
        "Dataset diunduh langsung dari [UCI Machine Learning Repository](https://archive.ics.uci.edu/ml/datasets/Beijing+Multi-Site+Air-Quality+Data) berupa data kualitas udara di Beijing pada 2013-2017 yang disediakan oleh Zhang, dkk. \n",
        "\n",
        "\n",
        "---\n",
        "\n",
        "\n",
        "Referensi Paper:\n",
        "\n",
        "> Zhang, S., Guo, B., Dong, A., He, J., Xu, Z. and Chen, S.X. (2017) Cautionary Tales on Air-Quality Improvement in Beijing. Proceedings of the Royal Society A, Volume 473, No. 2205, Pages 20170457.\n",
        "\n",
        "\n"
      ]
    },
    {
      "cell_type": "code",
      "metadata": {
        "colab": {
          "base_uri": "https://localhost:8080/"
        },
        "id": "f9IjTvaD7xAS",
        "outputId": "bcc8db34-4935-41ea-cb01-52108f1a686e"
      },
      "source": [
        "!wget https://archive.ics.uci.edu/ml/machine-learning-databases/00501/PRSA2017_Data_20130301-20170228.zip"
      ],
      "execution_count": null,
      "outputs": [
        {
          "output_type": "stream",
          "text": [
            "--2020-12-08 03:53:44--  https://archive.ics.uci.edu/ml/machine-learning-databases/00501/PRSA2017_Data_20130301-20170228.zip\n",
            "Resolving archive.ics.uci.edu (archive.ics.uci.edu)... 128.195.10.252\n",
            "Connecting to archive.ics.uci.edu (archive.ics.uci.edu)|128.195.10.252|:443... connected.\n",
            "HTTP request sent, awaiting response... 200 OK\n",
            "Length: 7959991 (7.6M) [application/x-httpd-php]\n",
            "Saving to: ‘PRSA2017_Data_20130301-20170228.zip’\n",
            "\n",
            "PRSA2017_Data_20130 100%[===================>]   7.59M  6.47MB/s    in 1.2s    \n",
            "\n",
            "2020-12-08 03:53:46 (6.47 MB/s) - ‘PRSA2017_Data_20130301-20170228.zip’ saved [7959991/7959991]\n",
            "\n"
          ],
          "name": "stdout"
        }
      ]
    },
    {
      "cell_type": "markdown",
      "metadata": {
        "id": "LejVPWAEcmN7"
      },
      "source": [
        "File zip yang telah diundung langsung diekstrak."
      ]
    },
    {
      "cell_type": "code",
      "metadata": {
        "id": "dGe_fXrMduY_"
      },
      "source": [
        "%%capture\n",
        "!unzip \\*.zip  && rm *.zip;"
      ],
      "execution_count": null,
      "outputs": []
    },
    {
      "cell_type": "markdown",
      "metadata": {
        "id": "l7m7v16jg4Xs"
      },
      "source": [
        "Sebelum lanjut, akan didefinisikan beberapa hiperparameter yang kelak akan mempengaruhi kinerja training"
      ]
    },
    {
      "cell_type": "code",
      "metadata": {
        "id": "Plu1zjbXg8mw"
      },
      "source": [
        "val_split = 0.2\n",
        "data_upper_bound = 5.\n",
        "data_lower_bound = 0.\n",
        "window_size = 100\n",
        "learning_rate = 5e-7\n",
        "num_epoch = 500\n",
        "num_cell = 100\n",
        "momentum = 0.9\n",
        "stopping_patience = 50\n",
        "success_threshold = 0.1 * (data_upper_bound - data_lower_bound)"
      ],
      "execution_count": null,
      "outputs": []
    },
    {
      "cell_type": "markdown",
      "metadata": {
        "id": "SfU-k-00csAr"
      },
      "source": [
        "## Data Preprocessing"
      ]
    },
    {
      "cell_type": "markdown",
      "metadata": {
        "id": "eRw2nLDodGZ0"
      },
      "source": [
        "File zip yang telah diekstrak berisi 12 file csv yang mewakili masing-masing stasiun cuaca tempat pengambilan data dilakukan. Kali ini hanya akan digunakan data pada stasiun *Guanyuan*.\n",
        "\n",
        "File csv terkait kemudian dibaca menjadi objek pandas DataFrame."
      ]
    },
    {
      "cell_type": "code",
      "metadata": {
        "colab": {
          "base_uri": "https://localhost:8080/",
          "height": 204
        },
        "id": "DuVK9VWec4y5",
        "outputId": "0a46e35e-c850-4cc3-c1ba-0fc8b48574ca"
      },
      "source": [
        "dataset = pd.read_csv(\"/content/PRSA_Data_20130301-20170228/PRSA_Data_Guanyuan_20130301-20170228.csv\")\n",
        "dataset.head()"
      ],
      "execution_count": null,
      "outputs": [
        {
          "output_type": "execute_result",
          "data": {
            "text/html": [
              "<div>\n",
              "<style scoped>\n",
              "    .dataframe tbody tr th:only-of-type {\n",
              "        vertical-align: middle;\n",
              "    }\n",
              "\n",
              "    .dataframe tbody tr th {\n",
              "        vertical-align: top;\n",
              "    }\n",
              "\n",
              "    .dataframe thead th {\n",
              "        text-align: right;\n",
              "    }\n",
              "</style>\n",
              "<table border=\"1\" class=\"dataframe\">\n",
              "  <thead>\n",
              "    <tr style=\"text-align: right;\">\n",
              "      <th></th>\n",
              "      <th>No</th>\n",
              "      <th>year</th>\n",
              "      <th>month</th>\n",
              "      <th>day</th>\n",
              "      <th>hour</th>\n",
              "      <th>PM2.5</th>\n",
              "      <th>PM10</th>\n",
              "      <th>SO2</th>\n",
              "      <th>NO2</th>\n",
              "      <th>CO</th>\n",
              "      <th>O3</th>\n",
              "      <th>TEMP</th>\n",
              "      <th>PRES</th>\n",
              "      <th>DEWP</th>\n",
              "      <th>RAIN</th>\n",
              "      <th>wd</th>\n",
              "      <th>WSPM</th>\n",
              "      <th>station</th>\n",
              "    </tr>\n",
              "  </thead>\n",
              "  <tbody>\n",
              "    <tr>\n",
              "      <th>0</th>\n",
              "      <td>1</td>\n",
              "      <td>2013</td>\n",
              "      <td>3</td>\n",
              "      <td>1</td>\n",
              "      <td>0</td>\n",
              "      <td>4.0</td>\n",
              "      <td>4.0</td>\n",
              "      <td>14.0</td>\n",
              "      <td>20.0</td>\n",
              "      <td>300.0</td>\n",
              "      <td>69.0</td>\n",
              "      <td>-0.7</td>\n",
              "      <td>1023.0</td>\n",
              "      <td>-18.8</td>\n",
              "      <td>0.0</td>\n",
              "      <td>NNW</td>\n",
              "      <td>4.4</td>\n",
              "      <td>Guanyuan</td>\n",
              "    </tr>\n",
              "    <tr>\n",
              "      <th>1</th>\n",
              "      <td>2</td>\n",
              "      <td>2013</td>\n",
              "      <td>3</td>\n",
              "      <td>1</td>\n",
              "      <td>1</td>\n",
              "      <td>4.0</td>\n",
              "      <td>4.0</td>\n",
              "      <td>13.0</td>\n",
              "      <td>17.0</td>\n",
              "      <td>300.0</td>\n",
              "      <td>72.0</td>\n",
              "      <td>-1.1</td>\n",
              "      <td>1023.2</td>\n",
              "      <td>-18.2</td>\n",
              "      <td>0.0</td>\n",
              "      <td>N</td>\n",
              "      <td>4.7</td>\n",
              "      <td>Guanyuan</td>\n",
              "    </tr>\n",
              "    <tr>\n",
              "      <th>2</th>\n",
              "      <td>3</td>\n",
              "      <td>2013</td>\n",
              "      <td>3</td>\n",
              "      <td>1</td>\n",
              "      <td>2</td>\n",
              "      <td>3.0</td>\n",
              "      <td>3.0</td>\n",
              "      <td>10.0</td>\n",
              "      <td>19.0</td>\n",
              "      <td>300.0</td>\n",
              "      <td>69.0</td>\n",
              "      <td>-1.1</td>\n",
              "      <td>1023.5</td>\n",
              "      <td>-18.2</td>\n",
              "      <td>0.0</td>\n",
              "      <td>NNW</td>\n",
              "      <td>5.6</td>\n",
              "      <td>Guanyuan</td>\n",
              "    </tr>\n",
              "    <tr>\n",
              "      <th>3</th>\n",
              "      <td>4</td>\n",
              "      <td>2013</td>\n",
              "      <td>3</td>\n",
              "      <td>1</td>\n",
              "      <td>3</td>\n",
              "      <td>3.0</td>\n",
              "      <td>6.0</td>\n",
              "      <td>7.0</td>\n",
              "      <td>24.0</td>\n",
              "      <td>400.0</td>\n",
              "      <td>62.0</td>\n",
              "      <td>-1.4</td>\n",
              "      <td>1024.5</td>\n",
              "      <td>-19.4</td>\n",
              "      <td>0.0</td>\n",
              "      <td>NW</td>\n",
              "      <td>3.1</td>\n",
              "      <td>Guanyuan</td>\n",
              "    </tr>\n",
              "    <tr>\n",
              "      <th>4</th>\n",
              "      <td>5</td>\n",
              "      <td>2013</td>\n",
              "      <td>3</td>\n",
              "      <td>1</td>\n",
              "      <td>4</td>\n",
              "      <td>3.0</td>\n",
              "      <td>6.0</td>\n",
              "      <td>5.0</td>\n",
              "      <td>14.0</td>\n",
              "      <td>400.0</td>\n",
              "      <td>71.0</td>\n",
              "      <td>-2.0</td>\n",
              "      <td>1025.2</td>\n",
              "      <td>-19.5</td>\n",
              "      <td>0.0</td>\n",
              "      <td>N</td>\n",
              "      <td>2.0</td>\n",
              "      <td>Guanyuan</td>\n",
              "    </tr>\n",
              "  </tbody>\n",
              "</table>\n",
              "</div>"
            ],
            "text/plain": [
              "   No  year  month  day  hour  PM2.5  ...    PRES  DEWP  RAIN   wd  WSPM   station\n",
              "0   1  2013      3    1     0    4.0  ...  1023.0 -18.8   0.0  NNW   4.4  Guanyuan\n",
              "1   2  2013      3    1     1    4.0  ...  1023.2 -18.2   0.0    N   4.7  Guanyuan\n",
              "2   3  2013      3    1     2    3.0  ...  1023.5 -18.2   0.0  NNW   5.6  Guanyuan\n",
              "3   4  2013      3    1     3    3.0  ...  1024.5 -19.4   0.0   NW   3.1  Guanyuan\n",
              "4   5  2013      3    1     4    3.0  ...  1025.2 -19.5   0.0    N   2.0  Guanyuan\n",
              "\n",
              "[5 rows x 18 columns]"
            ]
          },
          "metadata": {
            "tags": []
          },
          "execution_count": 5
        }
      ]
    },
    {
      "cell_type": "markdown",
      "metadata": {
        "id": "c-2fxQmydjcr"
      },
      "source": [
        "Perhatikan bahwa data ini berisi beragam fitur berbeda yang tercatat sepanjang waktu dari 1 Maret 2013 hingga 28 Februari 2017. Fitur-fitur ini antara lain konsentrasi CO dan ozon, tekanan udara, temperatur udara, dan beberapa fitur lain yang serupa. \n",
        "\n",
        "Kita kali ini hanya akan fokus pada data konsentrasi karbon monoksida."
      ]
    },
    {
      "cell_type": "code",
      "metadata": {
        "id": "c1u5fP19dFSh"
      },
      "source": [
        "CO_data = dataset['CO']"
      ],
      "execution_count": null,
      "outputs": []
    },
    {
      "cell_type": "markdown",
      "metadata": {
        "id": "8i-X1bAGeDk-"
      },
      "source": [
        "Kita akan lakukan beberapa proses pembersihan data, antara lain normalisasi dan pengisian data kosong."
      ]
    },
    {
      "cell_type": "code",
      "metadata": {
        "colab": {
          "base_uri": "https://localhost:8080/"
        },
        "id": "ghHY0sareEAU",
        "outputId": "e759911f-a0e3-459e-fef2-f2b7cc37c071"
      },
      "source": [
        "mean = CO_data.mean()\n",
        "std = CO_data.std()\n",
        "\n",
        "# mengisi data kosong dengan rata-rata dari data\n",
        "CO_data.fillna(CO_data.mean(), inplace=True)\n",
        "\n",
        "# normalisasi data sehingga memiliki rata-rata di 0 dan variansi 1\n",
        "CO_data = (CO_data - mean)/(std + 0.000001)\n",
        "\n",
        "# kompres data sehingga hanya berada pada rentang 0 - 5\n",
        "dmax = float(CO_data.max())\n",
        "dmin = float(CO_data.min())\n",
        "drange = dmax - dmin\n",
        "scaled_range = data_upper_bound - data_lower_bound\n",
        "CO_data = lower + ((CO_data - dmin)/drange) * scaled_range\n",
        "\n",
        "# lihat sekilas hasilnya\n",
        "CO_data.head()"
      ],
      "execution_count": null,
      "outputs": [
        {
          "output_type": "execute_result",
          "data": {
            "text/plain": [
              "0    0.101010\n",
              "1    0.101010\n",
              "2    0.101010\n",
              "3    0.151515\n",
              "4    0.151515\n",
              "Name: CO, dtype: float64"
            ]
          },
          "metadata": {
            "tags": []
          },
          "execution_count": 7
        }
      ]
    },
    {
      "cell_type": "markdown",
      "metadata": {
        "id": "2HsKnTMOfNTc"
      },
      "source": [
        "Data kemudian diubah menjadi array dan diplot agar dapat dilihat secara keseluuhan seperti apa"
      ]
    },
    {
      "cell_type": "code",
      "metadata": {
        "id": "Ui7tyFtg_huY"
      },
      "source": [
        "def plot_series(time, series, format=\"-\", start=0, end=None, label=None):\n",
        "    plt.plot(time[start:end], series[start:end], format, label=label)\n",
        "    plt.xlabel(\"Time\")\n",
        "    plt.ylabel(\"Value\")\n",
        "    if label:\n",
        "        plt.legend(fontsize=14)\n",
        "    plt.grid(True)"
      ],
      "execution_count": null,
      "outputs": []
    },
    {
      "cell_type": "code",
      "metadata": {
        "colab": {
          "base_uri": "https://localhost:8080/",
          "height": 279
        },
        "id": "8QGTO1xW_i1a",
        "outputId": "d491f345-873a-4782-e2ac-643e4c0a43e7"
      },
      "source": [
        "series = np.array(CO_data, dtype=float)\n",
        "time = np.arange(len(series))\n",
        "plot_series(time, series)"
      ],
      "execution_count": null,
      "outputs": [
        {
          "output_type": "display_data",
          "data": {
            "image/png": "[encoded data removed]",
            "text/plain": [
              "<Figure size 432x288 with 1 Axes>"
            ]
          },
          "metadata": {
            "tags": [],
            "needs_background": "light"
          }
        }
      ]
    },
    {
      "cell_type": "markdown",
      "metadata": {
        "id": "X8n3TipPfoRi"
      },
      "source": [
        "Secara keseluruhan kita memiliki sekitar 35000 unit data. Kita kemudian pecah data ini dimana data-data terbaru akan digunakan sebagai validasi."
      ]
    },
    {
      "cell_type": "code",
      "metadata": {
        "id": "iq78LhW1E2zf"
      },
      "source": [
        "def split(series, time, split_ratio):\n",
        "    split_time = round(len(time) * (1-split_ratio))\n",
        "    time_train = time[:split_time]\n",
        "    x_train = series[:split_time]\n",
        "    time_valid = time[split_time:]\n",
        "    x_valid = series[split_time:]\n",
        "    return (x_train, time_train), (x_valid, time_valid)"
      ],
      "execution_count": null,
      "outputs": []
    },
    {
      "cell_type": "code",
      "metadata": {
        "colab": {
          "base_uri": "https://localhost:8080/",
          "height": 279
        },
        "id": "TSYXSLwnf6ru",
        "outputId": "fc8209eb-a695-4b0e-b5ef-d749881b03e0"
      },
      "source": [
        "train_data, validation_data = split(series, time, val_split)\n",
        "plot_series(train_data[1], train_data[0], label ='train data')\n",
        "plot_series(validation_data[1], validation_data[0], label='validation data')"
      ],
      "execution_count": null,
      "outputs": [
        {
          "output_type": "display_data",
          "data": {
            "image/png": "[encoded data removed]",
            "text/plain": [
              "<Figure size 432x288 with 1 Axes>"
            ]
          },
          "metadata": {
            "tags": [],
            "needs_background": "light"
          }
        }
      ]
    },
    {
      "cell_type": "markdown",
      "metadata": {
        "id": "Zla-tHHVgaTh"
      },
      "source": [
        "Selanjutnya, kita akan konversi data array tersebut menjadi tensorflow Dataset dengan batch yang disesuaikan berdasarkan lebar jendela training yang akan dilakukan."
      ]
    },
    {
      "cell_type": "code",
      "metadata": {
        "id": "Vf2VXWr1fHIC"
      },
      "source": [
        "def sequential_window_dataset(series, window_size):\n",
        "    series = tf.expand_dims(series, axis=-1)\n",
        "    ds = tf.data.Dataset.from_tensor_slices(series)\n",
        "    ds = ds.window(window_size + 1, shift=window_size, drop_remainder=True)\n",
        "    ds = ds.flat_map(lambda window: window.batch(window_size + 1))\n",
        "    ds = ds.map(lambda window: (window[:-1], window[1:]))\n",
        "    return ds.batch(1).prefetch(1)"
      ],
      "execution_count": null,
      "outputs": []
    },
    {
      "cell_type": "code",
      "metadata": {
        "id": "_AoR8FsQgvy7"
      },
      "source": [
        "train_set = sequential_window_dataset(train_data[0], window_size)\n",
        "valid_set = sequential_window_dataset(validation_data[0], window_size)"
      ],
      "execution_count": null,
      "outputs": []
    },
    {
      "cell_type": "markdown",
      "metadata": {
        "id": "wzLJgG6kipGh"
      },
      "source": [
        "## Membangun Model"
      ]
    },
    {
      "cell_type": "markdown",
      "metadata": {
        "id": "HQ4reBJhiyaH"
      },
      "source": [
        "Model yang akan dibangun adalah model Sequential berupa RNN yang stateful dengan sel LSTM.\n",
        "\n",
        "Optimizer yang digunakan adalah Stochastic Gradient Descent dengan momentum."
      ]
    },
    {
      "cell_type": "code",
      "metadata": {
        "id": "o6XMq4nxi88x"
      },
      "source": [
        "def build_model():\n",
        "    model = tf.keras.models.Sequential([\n",
        "        tf.keras.layers.LSTM(num_cell, return_sequences=True, stateful=True,\n",
        "                              batch_input_shape=[1, None, 1]),\n",
        "        tf.keras.layers.LSTM(num_cell, return_sequences=True, stateful=True),\n",
        "        tf.keras.layers.Dense(1),\n",
        "        tf.keras.layers.Lambda(lambda x: x * 200.0)\n",
        "    ])\n",
        "\n",
        "    model.compile(\n",
        "        loss = tf.keras.losses.Huber(),\n",
        "        optimizer = tf.keras.optimizers.SGD(lr=learning_rate, momentum=momentum),\n",
        "        metrics = [\"mae\"]\n",
        "    )\n",
        "\n",
        "    return model"
      ],
      "execution_count": null,
      "outputs": []
    },
    {
      "cell_type": "markdown",
      "metadata": {
        "id": "WGpUJFQTj6kQ"
      },
      "source": [
        "Selanjutnya, didefinisikan juga beberapa callbacks yang akan digunakan."
      ]
    },
    {
      "cell_type": "code",
      "metadata": {
        "id": "4hfhpsn8iE1G"
      },
      "source": [
        "def set_callbacks(model):\n",
        "    callbacks = []\n",
        "    CB = tf.keras.callbacks\n",
        "\n",
        "    # no progress stopping callback\n",
        "    impatient = CB.EarlyStopping(\n",
        "        monitor = 'mae',\n",
        "        patience = stopping_patience)\n",
        "    callbacks.append(impatient)\n",
        "\n",
        "    # stop when enough callback\n",
        "    def stopper(epoch, logs):\n",
        "        if logs['mae'] < success_threshold and logs['val_mae'] < success_threshold: \n",
        "            model.stop_training = True\n",
        "    good_res = CB.LambdaCallback(on_epoch_end=lambda e,l: stopper(e,l))\n",
        "    callbacks.append(good_res)\n",
        "\n",
        "    # reset state of the model every epoch (because it will be a stateful rnn)                        \n",
        "    reset_state = CB.LambdaCallback(on_epoch_begin=lambda e,l: model.reset_states())\n",
        "\n",
        "    return callbacks"
      ],
      "execution_count": null,
      "outputs": []
    },
    {
      "cell_type": "markdown",
      "metadata": {
        "id": "IxU-Df-dj_Er"
      },
      "source": [
        "## Melatih Model!"
      ]
    },
    {
      "cell_type": "markdown",
      "metadata": {
        "id": "DTozmRkLkA4q"
      },
      "source": [
        "Sekarang, saatnya membungkus semuanya"
      ]
    },
    {
      "cell_type": "code",
      "metadata": {
        "colab": {
          "base_uri": "https://localhost:8080/"
        },
        "id": "ZDFMWVvkFkIv",
        "outputId": "ad23c5a7-907c-4b32-ff3b-466178b8f370"
      },
      "source": [
        "model = build_model()\n",
        "\n",
        "model.fit(\n",
        "    train_set, \n",
        "    epochs = num_epoch,\n",
        "    validation_data = valid_set,\n",
        "    callbacks = set_callbacks(model)\n",
        ")"
      ],
      "execution_count": null,
      "outputs": [
        {
          "output_type": "stream",
          "text": [
            "Epoch 1/500\n",
            "280/280 [==============================] - 12s 43ms/step - loss: 0.6515 - mae: 0.9502 - val_loss: 0.0731 - val_mae: 0.2478\n",
            "Epoch 2/500\n",
            "280/280 [==============================] - 11s 41ms/step - loss: 0.0604 - mae: 0.2397 - val_loss: 0.0630 - val_mae: 0.2260\n"
          ],
          "name": "stdout"
        },
        {
          "output_type": "execute_result",
          "data": {
            "text/plain": [
              "<tensorflow.python.keras.callbacks.History at 0x7f67e02606d8>"
            ]
          },
          "metadata": {
            "tags": []
          },
          "execution_count": 30
        }
      ]
    },
    {
      "cell_type": "markdown",
      "metadata": {
        "id": "uVpNGAhYmu6Y"
      },
      "source": [
        "Wow! Dalam 2 epoch MAE langsung mencapai batas kesuksesan yang ditetapkan (10 persen dari skala data).\n",
        "\n",
        "Berati model kita sudah sangat bagus.\n",
        "\n",
        "Sekarang saatnya kita cek hasilnya"
      ]
    },
    {
      "cell_type": "code",
      "metadata": {
        "id": "M9T_rqhYlhIO"
      },
      "source": [
        "def forecast(model, series):\n",
        "    time = np.arange(len(series))  \n",
        "    split_time = round(len(time) * (1 - val_split))  \n",
        "    res = model.predict(series[np.newaxis, :, np.newaxis])\n",
        "    res = res[0, split_time - 1:-1, 0]\n",
        "    return res"
      ],
      "execution_count": null,
      "outputs": []
    },
    {
      "cell_type": "code",
      "metadata": {
        "id": "uZ8oroY1OlW6"
      },
      "source": [
        "model_forecast = forecast(model, series)"
      ],
      "execution_count": null,
      "outputs": []
    },
    {
      "cell_type": "code",
      "metadata": {
        "colab": {
          "base_uri": "https://localhost:8080/",
          "height": 388
        },
        "id": "3U6c5MarOoIN",
        "outputId": "de0cdacb-3a40-4e92-8a0f-9a96631255d9"
      },
      "source": [
        "plt.figure(figsize=(10, 6))\n",
        "plot_series(validation_data[1], validation_data[0], label='Real data')\n",
        "plot_series(validation_data[1], model_forecast, label='Model forecast')"
      ],
      "execution_count": null,
      "outputs": [
        {
          "output_type": "display_data",
          "data": {
            "image/png": "[encoded data removed]",
            "text/plain": [
              "<Figure size 720x432 with 1 Axes>"
            ]
          },
          "metadata": {
            "tags": [],
            "needs_background": "light"
          }
        }
      ]
    }
  ]
}